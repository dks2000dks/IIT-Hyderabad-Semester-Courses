{
 "cells": [
  {
   "cell_type": "markdown",
   "metadata": {
    "colab_type": "text",
    "id": "GdKIQSkPVfwG"
   },
   "source": [
    "## Importing Modules"
   ]
  },
  {
   "cell_type": "code",
   "execution_count": 2,
   "metadata": {
    "colab": {},
    "colab_type": "code",
    "id": "01d07zGKVdhe"
   },
   "outputs": [],
   "source": [
    "import numpy as np\n",
    "import matplotlib.pyplot as plt"
   ]
  },
  {
   "cell_type": "markdown",
   "metadata": {
    "colab_type": "text",
    "id": "oanWqo0KTdRu"
   },
   "source": [
    "## *Functions*"
   ]
  },
  {
   "cell_type": "code",
   "execution_count": 3,
   "metadata": {
    "colab": {},
    "colab_type": "code",
    "id": "nipYCpEXToBe"
   },
   "outputs": [],
   "source": [
    "def Sin_Continous(a,b,A = 1,f = 1):\t\t\t\t\t\t\t\t\t\t# Function to generate and plot a Continous Sin\n",
    "\t\"\"\"\n",
    "\tA = Amplitude\n",
    "\tf = Frequency\n",
    "\t\"a\" and \"b\" are range for plotting the graph\n",
    "\t\"\"\"\n",
    "\ttime = np.arange(a,b,0.01)\n",
    "\tamplitude = A*np.sin(f*time)\n",
    "\t\n",
    "\treturn amplitude,time"
   ]
  },
  {
   "cell_type": "code",
   "execution_count": 4,
   "metadata": {
    "colab": {},
    "colab_type": "code",
    "id": "wlWzAoawT2c3"
   },
   "outputs": [],
   "source": [
    "def Cos_Continous(a,b,A = 1,f = 1):\t\t\t\t\t\t\t\t\t\t# Function to generate and plot a Continous Cos\n",
    "\t\"\"\"\n",
    "\tA = Amplitude\n",
    "\tf = Frequency\n",
    "\t\"a\" and \"b\" are range for plotting the graph\n",
    "\t\"\"\"\n",
    "\ttime = np.arange(a,b,0.01)\n",
    "\tamplitude = A*np.cos(f*time)\n",
    "\t\n",
    "\treturn amplitude,time"
   ]
  },
  {
   "cell_type": "code",
   "execution_count": 5,
   "metadata": {
    "colab": {},
    "colab_type": "code",
    "id": "y1ByzsU1ZV-Q"
   },
   "outputs": [],
   "source": [
    "def Square_Wave(a,b,L=1500):\t\t\t\t\t\t\t\t\t\t\t# Generating Square Wave\n",
    "\t\"\"\"\n",
    "\tL = Limit\n",
    "\t\"\"\"\n",
    "\t\n",
    "\tN = np.arange(1,L,2)\t\t\t\t\t\t\t\t\t\t\t\t\n",
    "\ttime = np.arange(a,b,0.01)\n",
    "\ts = time.shape[0]\n",
    "\toutput = np.zeros(s)\n",
    "\t\n",
    "\tfor n in N:\n",
    "\t\toutput += (Sin_Continous(a,b,A=1/(n),f=n))[0]\n",
    "\t\t\n",
    "\toutput = (output - min(output))/(max(output) - min(output))\n",
    "\t\n",
    "\tplt.xlabel(\"Time\")\n",
    "\tplt.ylabel(\"Output\")\n",
    "\tplt.plot(time,output)\n",
    "\tplt.show()\n",
    "\t\t\n",
    "\treturn output,time\n"
   ]
  },
  {
   "cell_type": "code",
   "execution_count": 6,
   "metadata": {
    "colab": {},
    "colab_type": "code",
    "id": "C7HQBAJnpnOC"
   },
   "outputs": [],
   "source": [
    "def Square_Wave_Excat(m,n,T=1,s=10):\t\t\t\t\t\t\t\t\t\t\t# Generating Square Wave\n",
    "\t\"\"\"\n",
    "\tPlotting Square between -mT to nT.\n",
    "\tT = Time Period\n",
    "\ts = Sampling\n",
    "\t\"\"\"\n",
    "    \n",
    "\tN = np.arange(m,n+1,1)\n",
    "\to = N.shape[0]\n",
    "\ty = [0]\n",
    "\tx = [0]\n",
    "\t\n",
    "\tfor i in N:\n",
    "\t\tx1 = list(np.linspace(i*T,i*T + 0.5,s))\n",
    "\t\ty1 = list(np.ones(s))\n",
    "\n",
    "\t\tx2 = list(np.linspace(i*T+0.5,i*T +1,s))\n",
    "\t\ty2 = list(-1*np.ones(s))\n",
    "\n",
    "\n",
    "\t\tx = x + x1 + x2\n",
    "\n",
    "\t\ty = y + y1 + y2\n",
    "\t\t\n",
    "\ty.pop(0)\n",
    "\tx.pop(0)\n",
    "\t\n",
    "\tplt.xlabel(\"Time\")\n",
    "\tplt.ylabel(\"Output\")\n",
    "\tplt.plot(x,y)\n",
    "\tplt.show()\n",
    "\t\t\n",
    "\treturn y,x"
   ]
  },
  {
   "cell_type": "code",
   "execution_count": 7,
   "metadata": {
    "colab": {},
    "colab_type": "code",
    "id": "26lZqXYXZa0U"
   },
   "outputs": [],
   "source": [
    "def Triangle_Wave(a,b,L=1500):\t\t\t\t\t\t\t\t\t\t\t# Generating Triangle Wave\n",
    "\t\"\"\"\n",
    "\tL = Limit\n",
    "\t\"\"\"\n",
    "\t\n",
    "\tN = np.arange(1,L,2)\t\t\t\t\t\t\t\t\t\t\t\t\n",
    "\ttime = np.arange(a,b,0.01)\n",
    "\ts = time.shape[0]\n",
    "\toutput = np.zeros(s)\n",
    "\t\n",
    "\tfor n in N:\n",
    "\t\toutput += (Cos_Continous(a,b,A=1/(n**2),f=n))[0]\n",
    "\t\n",
    "\toutput = (output - min(output))/(max(output) - min(output))\n",
    "\t\t\n",
    "\tplt.xlabel(\"Time\")\n",
    "\tplt.ylabel(\"Output\")\n",
    "\tplt.plot(time,output)\n",
    "\tplt.show()\n",
    "\t\t\n",
    "\treturn output,time"
   ]
  },
  {
   "cell_type": "code",
   "execution_count": 8,
   "metadata": {
    "colab": {},
    "colab_type": "code",
    "id": "ENPBQgBz6Ehn"
   },
   "outputs": [],
   "source": [
    "def Triangle_Wave_Excat(m,n,T=1,s=10):\t\t\t\t\t\t\t\t\t\t\t# Generating Square Wave\n",
    "\t\"\"\"\n",
    "\tPlotting Square between -mT to nT.\n",
    "\tT = Time Period\n",
    "\ts = Sampling\n",
    "\t\"\"\"\n",
    "    \n",
    "\tN = np.arange(m,n,1)\n",
    "\to = N.shape[0]\n",
    "\ty = [0]\n",
    "\tx = [0]\n",
    "\t\n",
    "\tfor i in N:\n",
    "\t\tx1 = list(np.linspace(i*T,i*T + 0.5,s))\n",
    "\t\ty1 = list(np.linspace(0.5,0,s))\n",
    "\n",
    "\t\tx2 = list(np.linspace(i*T+0.5,i*T +1,s))\n",
    "\t\ty2 = list(np.linspace(0,0.5,s))\n",
    "\n",
    "\n",
    "\t\tx = x + x1 + x2\n",
    "\n",
    "\t\ty = y + y1 + y2\n",
    "\t\t\n",
    "\ty.pop(0)\n",
    "\tx.pop(0)\n",
    "\t\n",
    "\tplt.xlabel(\"Time\")\n",
    "\tplt.ylabel(\"Output\")\n",
    "\tplt.plot(x,y)\n",
    "\tplt.show()\n",
    "\t\t\n",
    "\treturn y,x"
   ]
  },
  {
   "cell_type": "code",
   "execution_count": 9,
   "metadata": {
    "colab": {},
    "colab_type": "code",
    "id": "LnIesdA1UDc4"
   },
   "outputs": [],
   "source": [
    "def Fourier_Coeff_Square_Wave(L=1500):\t\t\t\t\t\t\t\t# Generating Square Wave Fourier Spectrum\n",
    "\t\"\"\"\n",
    "\tL = Limit\n",
    "\t\"\"\"\n",
    "\t\n",
    "\tN = np.arange(1,L+1,2)\n",
    "\tu = N.shape[0]\n",
    "\tspectrum = np.zeros(u)\n",
    "\t\t\n",
    "\tfor n in N:\n",
    "\t\tspectrum[int(n/2)] = 2/(np.pi*n)\n",
    "\t\t\n",
    "\tplt.plot(N,spectrum)\n",
    "\tplt.show()\n",
    "\n",
    "\treturn N,spectrum"
   ]
  },
  {
   "cell_type": "code",
   "execution_count": 10,
   "metadata": {
    "colab": {},
    "colab_type": "code",
    "id": "JQw8tYN6OYNV"
   },
   "outputs": [],
   "source": [
    "def Fourier_Series_Coeff_Square_Wave(L=1500):\t\t\t\t\t\t\t\t# Generating Square Wave Fourier Spectrum\n",
    "\t\"\"\"\n",
    "\tL = Limit\n",
    "\t\"\"\"\n",
    "\t\n",
    "\tk = np.arange(1,L+1,2)\n",
    "\ts = k.shape[0]\n",
    "\tN = np.zeros(2*s)\n",
    "\tN[0:s]= -k[::-1]\n",
    "\tN[s:2*s]= k\n",
    "\ti = 0\n",
    "\t\n",
    "\tu = N.shape[0]\n",
    "\tspectrum = np.zeros(u)\n",
    "\tphase = np.zeros(u)\n",
    "\t\t\n",
    "\tfor n in N:\n",
    "\t\tspectrum[i] = abs(1/(2*np.pi*n))\n",
    "\t\tphase[i] = (n/abs(n))*(np.pi)*0.5\n",
    "\t\t\n",
    "\t\ti = i+1\n",
    "\t\n",
    "\tplt.figure(figsize=(13, 8))\n",
    "\tax = plt.subplot(1,2,1)\n",
    "\tplt.plot(N,phase)\n",
    "\t\n",
    "\tax = plt.subplot(1,2,2)\n",
    "\tplt.plot(N,spectrum)\n",
    "\tplt.show()\n",
    "\n",
    "\treturn N,spectrum"
   ]
  },
  {
   "cell_type": "code",
   "execution_count": 11,
   "metadata": {
    "colab": {},
    "colab_type": "code",
    "id": "IQBwB59dUH1o"
   },
   "outputs": [],
   "source": [
    "def Fourier_Coeff_Triangle_Wave(L=1500):\t\t\t\t\t\t\t# Generating Triangle Wave Fourier Spectrum\n",
    "\t\"\"\"\n",
    "\tL = Limit\n",
    "\t\"\"\"\n",
    "\t\n",
    "\tN = np.arange(1,L+1,2)\n",
    "\tu = N.shape[0]\n",
    "\tspectrum = np.zeros(u)\n",
    "\t\n",
    "\tfor n in N:\n",
    "\t\tspectrum[int(n/2)] = 1/n**2\n",
    "\t\n",
    "\tplt.plot(N,spectrum)\n",
    "\t\n",
    "\tplt.show()\n",
    "\t\t\n",
    "\treturn N,spectrum\n"
   ]
  },
  {
   "cell_type": "code",
   "execution_count": 12,
   "metadata": {
    "colab": {},
    "colab_type": "code",
    "id": "A-VzPH-kOo9v"
   },
   "outputs": [],
   "source": [
    "def Fourier_Series_Coeff_Triangle_Wave(L=1500):\t\t\t\t\t\t\t# Generating Triangle Wave Fourier Spectrum\n",
    "\t\"\"\"\n",
    "\tL = Limit\n",
    "\t\"\"\"\n",
    "\t\n",
    "\tk = np.arange(1,L+1,2)\n",
    "\ts = k.shape[0]\n",
    "\tN = np.zeros(2*s)\n",
    "\tN[0:s]= -k[::-1]\n",
    "\tN[s:2*s]= k\n",
    "\ti = 0\n",
    "\t\n",
    "\tu = N.shape[0]\n",
    "\tspectrum = np.zeros(u)\n",
    "\tphase = np.zeros(u)\n",
    "\t\t\n",
    "\tfor n in N:\n",
    "\t\tspectrum[i] = abs(1/(2*np.pi*n**2))\n",
    "\t\tphase[i] = (n**2/abs(n**2))*(np.pi)*0.5\n",
    "\t\t\n",
    "\t\ti = i+1\n",
    "\t\n",
    "\tplt.figure(figsize=(13, 8))\n",
    "\tax = plt.subplot(1,2,1)\n",
    "\tplt.plot(N,phase)\n",
    "\t\n",
    "\tax = plt.subplot(1,2,2)\n",
    "\tplt.plot(N,spectrum)\n",
    "\tplt.show()\n",
    "\n",
    "\treturn N,spectrum"
   ]
  }
 ],
 "metadata": {
  "accelerator": "GPU",
  "colab": {
   "name": "Assignment-1",
   "provenance": [],
   "version": "0.3.2"
  },
  "kernelspec": {
   "display_name": "Python 3",
   "language": "python",
   "name": "python3"
  },
  "language_info": {
   "codemirror_mode": {
    "name": "ipython",
    "version": 3
   },
   "file_extension": ".py",
   "mimetype": "text/x-python",
   "name": "python",
   "nbconvert_exporter": "python",
   "pygments_lexer": "ipython3",
   "version": "3.7.3"
  }
 },
 "nbformat": 4,
 "nbformat_minor": 2
}
