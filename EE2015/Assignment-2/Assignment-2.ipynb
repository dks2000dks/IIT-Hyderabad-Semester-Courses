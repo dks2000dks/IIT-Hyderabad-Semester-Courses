{
 "cells": [
  {
   "cell_type": "markdown",
   "metadata": {
    "colab_type": "text",
    "id": "ZkFe5bBW0Hqz"
   },
   "source": [
    "## Importing Modules\n"
   ]
  },
  {
   "cell_type": "code",
   "execution_count": 1,
   "metadata": {
    "colab": {},
    "colab_type": "code",
    "id": "LQNLPDtQz7WN"
   },
   "outputs": [],
   "source": [
    "import numpy as np\n",
    "import matplotlib.pyplot as plt"
   ]
  },
  {
   "cell_type": "markdown",
   "metadata": {
    "colab_type": "text",
    "id": "I89Js-1Y0brA"
   },
   "source": [
    "## Sampling and Windowing"
   ]
  },
  {
   "cell_type": "markdown",
   "metadata": {
    "colab_type": "text",
    "id": "1ely8eQh0Oxv"
   },
   "source": [
    "### 3a)\n",
    "\n",
    "$\\mathcal{F} f(s)=\\frac{1}{a^{2}} e^{-\\pi s^{2} / a^{2}}$"
   ]
  },
  {
   "cell_type": "code",
   "execution_count": 2,
   "metadata": {
    "colab": {},
    "colab_type": "code",
    "id": "wgDg94IgoviI"
   },
   "outputs": [],
   "source": [
    "def function_FT(a=1,l=-3,m=3,T=10):\n",
    "    \n",
    "    time = np.arange(l,m,1/T)\n",
    "    s = time.shape[0]\n",
    "    output = np.zeros(s)\n",
    "\n",
    "    t = np.multiply(time,time)\n",
    "    t = (t)*(-1*np.pi)/(a**2)\n",
    "\n",
    "    output = np.exp(t)/(a**2)\n",
    "\n",
    "    #plt.plot(time,output)\n",
    "    #plt.show()\n",
    "\n",
    "    return output,time   "
   ]
  },
  {
   "cell_type": "code",
   "execution_count": 3,
   "metadata": {
    "colab": {},
    "colab_type": "code",
    "id": "I9ueYvF8qIU2"
   },
   "outputs": [],
   "source": [
    "N = [1,2,5,10]\n",
    "\n",
    "for i in N:\n",
    "    function_FT(a=i)"
   ]
  },
  {
   "cell_type": "markdown",
   "metadata": {
    "colab_type": "text",
    "id": "RRgYHbN405Gn"
   },
   "source": [
    "### 3b)\n",
    "\n",
    "$f[n] = f(nR_{time})$\n",
    "\n",
    "The Fourier Transform $f[n]$ is $\\frac{1}{R_{time}}\\mathcal{F}f(s)$.\n",
    "\n",
    "It is periodic with period $\\frac{1}{R_{time}}\\$.\n"
   ]
  },
  {
   "cell_type": "code",
   "execution_count": 4,
   "metadata": {
    "colab": {
     "base_uri": "https://localhost:8080/",
     "height": 269
    },
    "colab_type": "code",
    "id": "mIJnv5AG4pp0",
    "outputId": "697d906b-abaf-46ac-9eee-489ab104b7c5"
   },
   "outputs": [
    {
     "data": {
      "image/png": "[encoded data removed]",
      "text/plain": [
       "<Figure size 432x288 with 1 Axes>"
      ]
     },
     "metadata": {
      "needs_background": "light"
     },
     "output_type": "display_data"
    }
   ],
   "source": [
    "def DTFT(R,n,T=10):\t\t\t\t\t\t\t\t        \n",
    "    \n",
    "    f = 1/R\n",
    "\n",
    "    k = (function_FT()[0]).shape[0]\n",
    "    m = int(k/(2*T))\n",
    "    a = int(f*int(n/2)) + m\n",
    "    size = T*(2*a)\n",
    "\n",
    "    \n",
    "    U = np.zeros(size)\n",
    "    time = np.linspace(-(a+m),(a+m),size)\n",
    "\n",
    "    for i in range(n):\n",
    "        output = np.zeros(size)\n",
    "        p = ((i*int(f)) + m)*T\n",
    "        l = m*T\n",
    "        output[p-l:p+l] = function_FT()[0]\n",
    "\n",
    "        U = U + output\n",
    "\n",
    "    plt.plot(time,U)\n",
    "    plt.show()\n",
    "    \n",
    "\n",
    "DTFT(0.5,5)"
   ]
  }
 ],
 "metadata": {
  "colab": {
   "collapsed_sections": [],
   "name": "Assignment-2.ipynb",
   "provenance": [],
   "version": "0.3.2"
  },
  "kernelspec": {
   "display_name": "Python 3",
   "language": "python",
   "name": "python3"
  },
  "language_info": {
   "codemirror_mode": {
    "name": "ipython",
    "version": 3
   },
   "file_extension": ".py",
   "mimetype": "text/x-python",
   "name": "python",
   "nbconvert_exporter": "python",
   "pygments_lexer": "ipython3",
   "version": "3.7.3"
  }
 },
 "nbformat": 4,
 "nbformat_minor": 1
}
