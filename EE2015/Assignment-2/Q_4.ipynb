{
  "nbformat": 4,
  "nbformat_minor": 0,
  "metadata": {
    "colab": {
      "name": "Q-4.ipynb",
      "provenance": []
    },
    "kernelspec": {
      "name": "python3",
      "display_name": "Python 3"
    }
  },
  "cells": [
    {
      "cell_type": "markdown",
      "metadata": {
        "id": "Du2aJJhSxJoc",
        "colab_type": "text"
      },
      "source": [
        "##4) And yet it files"
      ]
    },
    {
      "cell_type": "markdown",
      "metadata": {
        "id": "bzW4_ofRTEda",
        "colab_type": "text"
      },
      "source": [
        "### 4a)\n",
        "\n",
        "A camera is taking the video of a helicopter flying. According to the video the rotor blades of the helicopter appears to be at rest"
      ]
    },
    {
      "cell_type": "markdown",
      "metadata": {
        "id": "zV8dn_vKZPsJ",
        "colab_type": "text"
      },
      "source": [
        "### 4b)\n",
        "\n",
        "$ R_{2} = \\frac{n}{5} R_{1} $\n",
        "\n"
      ]
    },
    {
      "cell_type": "markdown",
      "metadata": {
        "id": "H6tpVP1YZsLA",
        "colab_type": "text"
      },
      "source": [
        "### 4c)\n",
        "\n",
        "Yes, it is valid. If 6 blades are visible then it can be considered that helicopter has 6 rotor blades."
      ]
    }
  ]
}