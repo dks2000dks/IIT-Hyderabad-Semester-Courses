{
 "cells": [
  {
   "cell_type": "markdown",
   "metadata": {},
   "source": [
    "# EE5602: Probabilistic Graphical Models\n",
    "\n",
    "Homework-0"
   ]
  },
  {
   "cell_type": "markdown",
   "metadata": {},
   "source": [
    "## Imports"
   ]
  },
  {
   "cell_type": "markdown",
   "metadata": {},
   "source": [
    "### Importing Libraries"
   ]
  },
  {
   "cell_type": "code",
   "execution_count": 1,
   "metadata": {},
   "outputs": [
    {
     "data": {
      "text/html": [
       "<style>.container { width:100% !important; }</style>"
      ],
      "text/plain": [
       "<IPython.core.display.HTML object>"
      ]
     },
     "metadata": {},
     "output_type": "display_data"
    }
   ],
   "source": [
    "import numpy as np\n",
    "import matplotlib.pyplot as plt\n",
    "import matplotlib.image as pimg\n",
    "import matplotlib.colors\n",
    "from mpl_toolkits.mplot3d import Axes3D\n",
    "from python_speech_features import mfcc\n",
    "from sklearn.cluster import KMeans\n",
    "import scipy.io.wavfile as wav\n",
    "import random\n",
    "import os\n",
    "import tarfile\n",
    "from scipy.stats import multivariate_normal\n",
    "import warnings\n",
    "warnings.filterwarnings(\"default\", category=DeprecationWarning)\n",
    "\n",
    "\n",
    "from IPython.display import display, Math, Latex, HTML\n",
    "display(HTML(\"<style>.container { width:100% !important; }</style>\"))"
   ]
  },
  {
   "cell_type": "markdown",
   "metadata": {},
   "source": [
    "### Extracting Data"
   ]
  },
  {
   "cell_type": "code",
   "execution_count": 2,
   "metadata": {},
   "outputs": [],
   "source": [
    "tarData = tarfile.open('Data/syllable.tar')\n",
    "tarData.extractall('Data')\n",
    "tarData.close()"
   ]
  },
  {
   "cell_type": "markdown",
   "metadata": {},
   "source": [
    "## Pre-Processing Data\n",
    "\n",
    "Finding Mel-Frequency Cepstral Coefficients (MFCCs) from the raw speech samples. Picking 25 ms worth of speech samples with a 10 ms overlap to find MFCCs. Using the basic 13 element version of MFCC as the feature vector representing 25 ms of speech."
   ]
  },
  {
   "cell_type": "markdown",
   "metadata": {},
   "source": [
    "### Selecting Phones"
   ]
  },
  {
   "cell_type": "code",
   "execution_count": 3,
   "metadata": {},
   "outputs": [
    {
     "name": "stdout",
     "output_type": "stream",
     "text": [
      "Available Phones:\n",
      " ['whe', 'ga', 'sa', 'dhu', 'me', 'yu', 'phi', 'spk', 'ye', 'po', 'thu', 'no', 'tu', 'wi', 'ko', 'chu', 'wa', 'do', 'shhe', 'bu', 'te', 'se', 'whi', 'cha', 'gho', 'we', 'shho', 'nu', 'jho', 'khu', 'wu', 'cho', 'ta', 'ti', 'chi', 'bo', 'vu', 'shhi', 'ku', 'khi', 'vi', 'bi', 'whu', 'who', 'so', 'xhu', 'di', 'u', 'xhi', 'shhu', 'xho', 'hu', 'pho', 'ja', 'le', 'bhi', 'pa', 'shha', 're', 'hi', 'mi', 'go', 'lu', 'ghe', 'dhi', 'pi', 'dhe', 'phu', 'o', 'chhi', 'xi', 'mu', 'jhe', 'je', 'wha', 'ba', 'xe', 'chha', 'li', 'i', 'de', 'ru', 'su', 'ne', 'lo', 'yo', 'bha', 'khe', 'vo', 'jhi', 'bhe', 'tho', 'thi', 'the', 'mo', 'pu', 'ra', 'gha', 'gu', 'jhu', 'ho', 'na', 'phe', 'to', 'ke', 'da', 've', 'he', 'kho', 'pha', 'jha', 'ka', 'va', 'wo', 'ju', 'du', 'kha', 'chho', 'xha', 'dha', 'ghi', 'chhu', 'ki', 'ge', 'pe', 'a', 'ha', 'gi', 'jo', 'bho', 'ri', 'si', 'dho', 'ma', 'bhu', 'ro', 'xa', 'be', 'che', 'tha', 'xo', 'e', 'yi', 'xu', 'chhe', 'ya', 'ni', 'ji', 'ghu', 'xhe', 'la']\n",
      "------------------------------------------\n",
      "Selected Phones:\n",
      " ['kha', 'bhi']\n"
     ]
    }
   ],
   "source": [
    "PhonesPath = \"Data/SVL-PRASANNA-CV/\"\n",
    "PhonesAvailable = os.listdir(PhonesPath)\n",
    "print (\"Available Phones:\\n\", PhonesAvailable)\n",
    "PhonesSelected = [\"kha\", \"bhi\"]\n",
    "print (\"------------------------------------------\")\n",
    "print (\"Selected Phones:\\n\", PhonesSelected)"
   ]
  },
  {
   "cell_type": "markdown",
   "metadata": {},
   "source": [
    "### Reading Data"
   ]
  },
  {
   "cell_type": "code",
   "execution_count": 4,
   "metadata": {},
   "outputs": [],
   "source": [
    "def ReadData(Path):\n",
    "    Files = os.listdir(Path)\n",
    "    Data = []\n",
    "    for f in Files:\n",
    "        Rate,Signal = wav.read(Path + \"/\" + f)\n",
    "        D = mfcc(signal = Signal,\n",
    "                    winlen = 0.025,\n",
    "                    winstep = 0.015) # As we need a overlap of 10ms\n",
    "        D = (D-np.min(D))/(np.max(D) - np.min(D))\n",
    "        Data.append(D[:10])\n",
    "    return np.asarray(Data)\n",
    "\n",
    "Phone0 = ReadData(PhonesPath + PhonesSelected[0])\n",
    "Phone1 = ReadData(PhonesPath + PhonesSelected[1])"
   ]
  },
  {
   "cell_type": "markdown",
   "metadata": {},
   "source": [
    "## Hidden Markov Model\n",
    "\n",
    "Building a **Hidden Markov Model with Forward Backward** (also known as the Baum-Welch) algorithm to learn the Parameters of a HMM.\n",
    "\n",
    "**Parameters:**\n",
    "\\begin{align}\n",
    "A_{jk} = p(z_{nk} = 1 | z_{(n-1)j} = 1) \\\\\n",
    "\\pi_{k} = p(z_{1k}) \\\\\n",
    "p(x_{n}|z_{n} = k, \\phi) = p(x_{n}|\\phi_{k})\n",
    "\\end{align}\n",
    "\n",
    "**Likelihood Function:**\n",
    "\\begin{align}\n",
    "Q(\\theta, \\theta^{old}) = \\sum_{k=1}^{K} \\gamma\\left(z_{1 k}\\right) \\ln \\pi_{k}+\\sum_{n=2}^{N} \\sum_{j=1}^{K} \\sum_{k=1}^{K} \\xi\\left(z_{n-1, j}, z_{n k}\\right) \\ln A_{j k} +\\sum_{n=1}^{N} \\sum_{k=1}^{K} \\gamma\\left(z_{n k}\\right) \\ln p\\left(x_{n} \\mid \\phi_{k}\\right)\n",
    "\\end{align}\n",
    "\\\n",
    "For, simplicity, we consider $p(X)$ as Likelihood Function.\n",
    "\\begin{align}\n",
    "p(X) = \\sum_{z_{N}} \\alpha(z_{N})\\beta(z_{N})\n",
    "\\end{align}\n",
    "\n",
    "**Forward-Backward Algorithm:**\n",
    "\\begin{align}\n",
    "\\alpha\\left(z_{n}\\right)=p\\left(x_{n} \\mid z_{n}\\right) \\sum_{z_{n-1}} \\alpha\\left(z_{n-1}\\right) p\\left(z_{n} \\mid z_{n-1}\\right) \\\\\n",
    "\\beta\\left(z_{n}\\right)=\\sum_{z_{n+1}} \\beta\\left(z_{n+1}\\right) p\\left(x_{n+1} \\mid z_{n+1}\\right) p\\left(z_{n+1} \\mid z_{n}\\right) \\\\\n",
    "\\gamma(z_{n}) = \\frac{\\alpha(z_{n})\\beta(z_{n})}{p(X)}\\\\\n",
    "\\xi(z_{n-1},z_{n}) = \\frac{\\alpha(z_{n-1})p(x_{n}|z_{n})p(z_{n}|z_{n-1})\\beta(z_{n})}{p(X)} \\\\\n",
    "p(X) = \\sum_{z_{N}} \\alpha(z_{N})\\beta(z_{M})\n",
    "\\end{align}\n",
    "\n",
    "**Estimating Parameters:**\n",
    "\\begin{align}\n",
    "\\mu_{k}=\\frac{\\sum_{n=1}^{n} \\gamma\\left(z_{n k}\\right) x_{n}}{\\sum_{n=1}^{n} \\gamma\\left(z_{n k}\\right)}=\\frac{\\sum_{n=1}^{n} \\alpha\\left(z_{n k}\\right) \\beta\\left(z_{n k}\\right) x_{n}}{\\sum_{n=1}^{n} \\alpha\\left(z_{n k}\\right) \\beta\\left(z_{n k}\\right)} \\\\\n",
    "\\Sigma_{k}=\\frac{\\sum_{n=1}^{N} \\gamma\\left(z_{n k}\\right)\\left(x_{n}-\\mu_{k}\\right)\\left(x_{n}-\\mu_{k}\\right)^{\\mathrm{T}}}{\\sum_{n=1}^{N} \\gamma\\left(z_{n k}\\right)} \\\\\n",
    "\\pi_{k} = \\frac{\\gamma\\left(z_{1 k}\\right)}{\\sum_{j=1}^{K} \\gamma\\left(z_{1 j}\\right)} \\\\\n",
    "A_{j k} = \\frac{\\sum_{n=2}^{N} \\xi\\left(z_{n-1, j}, z_{n k}\\right)}{\\sum_{l=1}^{K} \\sum_{n=2}^{N} \\xi\\left(z_{n-1, j}, z_{n l}\\right)}\n",
    "\\end{align}\n",
    "\n",
    "**Initialisations:**\n",
    "\\begin{align}\n",
    "\\alpha(z_{1k}) = \\pi_{k}p(x_{1}|z_{1k}) \\\\\n",
    "\\beta(z_{Nk}) = \\pi_{k}p(x_{N}|z_{Nk})\n",
    "\\end{align}\n",
    "\n",
    "**Procedure:**\n",
    "1. Initialise Parameters $\\{\\pi, A, \\phi\\}$.\n",
    "2. **E-Step**: Calculate Likelihood\n",
    "3. Calculate $\\alpha$ and $\\beta$ and then $\\gamma$ and $\\xi$.\n",
    "4. **M-Step**: Estimate $\\mu_{k}$ and $\\sum_{k}$.\n",
    "\n",
    "\n",
    "---\n",
    "\n",
    "**Parameter Descriptions:**\n",
    "- K: No.of **States of Latent Variables**.\n",
    "- X: **MFCC Coefficients** so of All Audio Smaples.\n",
    "- N: No.of **Time-Steps.**\n",
    "- $A_{jk}$: **Transition Probability** of Conditional Probability for Transition among Latent Variables.\n",
    "- According to our Assumption which is **Left to Right Transition**, out $A$ should be a Upper Triangular Matrix.\n",
    "- $\\pi_{k}$: Probabailites of first Latent Variable $z_{1}$.\n",
    "- $\\phi = \\{\\mu, \\sum\\}$: State Dependent Parametrisation and $\\phi$ is considered to be Gaussian Distribution.\n",
    "- $p(x_{n}|z_{n} = k, \\phi)$: **Emission Probabilities**.\n",
    "- $Q(\\theta, \\theta^{old})$: **Likelihood Function**.\n",
    "- $\\alpha, \\beta$: Terms of Forward-Backward Algorithm.\n",
    "- $\\gamma$: Marginal Posterior Distribution of Latent Variable $z_{n}$.\n",
    "- $\\xi$: Joint Posterior Distribution of two successive Latent Variable $z_{n}, z_{n-1}$."
   ]
  },
  {
   "cell_type": "code",
   "execution_count": 15,
   "metadata": {},
   "outputs": [],
   "source": [
    "class HMM():\n",
    "    def __init__(self,K):\n",
    "        self.K = K\n",
    "        self.N = None\n",
    "        self.D = None\n",
    "        \n",
    "        self.Pi = None\n",
    "        self.A = None\n",
    "        self.Mean = None\n",
    "        self.CoVariance = None\n",
    "        \n",
    "        self.EmPro = None\n",
    "        self.Alpha = None\n",
    "        self.Beta = None\n",
    "        \n",
    "        self.Gamma = None\n",
    "        self.Xi = None\n",
    "  \n",
    "    def InitialiseParameters(self):\n",
    "        self.Pi = np.ones((self.K,))/self.K\n",
    "        \n",
    "        self.A = np.zeros((self.K,self.K))\n",
    "        for s in range(self.K):\n",
    "            self.A[s] = np.random.uniform(0,1,self.K)\n",
    "            self.A[s] = self.A[s]/np.sum(self.A[s])\n",
    "            \n",
    "        \n",
    "        self.Mean = np.random.rand(self.K,self.D)\n",
    "        for s in range(self.K):\n",
    "            self.Mean[s] = self.X[np.random.randint(0,self.M-1)][np.random.randint(0,self.N-1)]\n",
    "        \n",
    "        self.CoVariance = np.zeros((self.K,self.D,self.D))\n",
    "        for s in range(self.K):\n",
    "            C = np.random.randn(self.D,self.D)\n",
    "            self.CoVariance[s] = np.diag(np.diag(C.T @ C))\n",
    "        \n",
    "    \n",
    "    def EmissionProbabilities(self,x):\n",
    "        self.EmPro = np.zeros((self.K, self.N))\n",
    "        for s in range(self.K):\n",
    "            self.EmPro[s] = multivariate_normal.pdf(x,self.Mean[s],self.CoVariance[s],allow_singular=True)    \n",
    "            \n",
    "            \n",
    "    def Forward(self,x):\n",
    "        self.EmissionProbabilities(x)\n",
    "        \n",
    "        self.Alpha = np.zeros((self.K,self.N))\n",
    "        Likelihood = 0\n",
    "        \n",
    "        self.Alpha[:,0] = np.multiply(self.Pi, self.EmPro[:,0])\n",
    "        for t in range(1,self.N):\n",
    "            self.Alpha[:,t] = np.multiply(self.EmPro[:,t], np.dot(self.A.T, self.Alpha[:,t-1]))\n",
    "            S = np.sum(self.Alpha[:,t])\n",
    "            self.Alpha[:,t] /= np.sum(self.Alpha[:,t])\n",
    "            Likelihood += S\n",
    "            \n",
    "        return Likelihood\n",
    "    \n",
    "    \n",
    "    def Backward(self):\n",
    "        self.Beta = np.zeros((self.K,self.N))\n",
    "        \n",
    "        self.Beta[:,-1] = np.ones((self.K,))\n",
    "        \n",
    "        for t in range(self.N-2, -1, -1):\n",
    "            self.Beta[:,t] = np.dot(self.A, np.multiply(self.EmPro[:,t+1], self.Beta[:,t+1]))\n",
    "            self.Beta[:,t] /= np.sum(self.Beta[:,t])\n",
    "        \n",
    "    \n",
    "    def PosteriorProbabilities(self):\n",
    "        self.Gamma = np.zeros((self.K,self.N))\n",
    "\n",
    "        for t in range(self.N):\n",
    "            self.Gamma[:,t] = np.multiply(self.Alpha[:,t],self.Alpha[:,t])\n",
    "            self.Gamma[:,t] = self.Gamma[:,t]/np.sum(self.Gamma[:,t])\n",
    "        \n",
    "        \n",
    "        self.Xi = np.zeros((self.N-1,self.K,self.K))\n",
    "        for t in range(self.N-1):\n",
    "            for j in range(self.K):\n",
    "                for k in range(self.K):\n",
    "                    self.Xi[t][j][k] = self.Alpha[j][t] * self.EmPro[k][t+1] * self.A[j][k] * self.Beta[k][t+1]\n",
    "            self.Xi[t] = self.Xi[t]/np.sum(self.Xi[t])\n",
    "        \n",
    "        \n",
    "    def EstimateParameters(self,x):\n",
    "        self.Pi = self.Gamma[:,0]\n",
    "        \n",
    "        self.A = np.zeros((self.K,self.K))\n",
    "        for j in range(self.K):\n",
    "            for k in range(self.K):\n",
    "                for n in range(self.N-1):\n",
    "                    self.A[j][k] += self.Xi[n][j][k]\n",
    "            self.A[j] = self.A[j]/np.sum(self.A[j])\n",
    "        \n",
    "        self.Mean = np.zeros((self.K,self.D))\n",
    "        self.CoVariance = np.zeros((self.K,self.D,self.D))\n",
    "        \n",
    "        for s in range(self.K):\n",
    "            N,D = 0,0\n",
    "            for t in range(self.N):\n",
    "                N += (x[t] * self.Gamma[s][t])\n",
    "                D += (self.Gamma[s][t])\n",
    "            self.Mean[s] = N/D\n",
    "            \n",
    "\n",
    "        for s in range(self.K):\n",
    "            N,D = 0,0\n",
    "            for t in range(self.N):\n",
    "                N += (self.Gamma[s][t] * np.matmul(x[t] - self.Mean[s], (x[t] - self.Mean[s]).T))\n",
    "                D += (self.Gamma[s][t])\n",
    "            self.CoVariance[s] = N/D\n",
    "        \n",
    "    def fit(self,X,Threshold):\n",
    "        self.X = X\n",
    "        self.M,self.N,self.D = self.X.shape\n",
    "        self.LikelihoodData = []\n",
    "        \n",
    "        self.InitialiseParameters()\n",
    "        e = 0\n",
    "        \n",
    "        while 1:\n",
    "            e += 1\n",
    "            L = []\n",
    "            for x in self.X:\n",
    "                l = self.Forward(x)\n",
    "                if (np.isnan(self.Mean).any() or np.isnan(self.CoVariance).any() or np.isnan(self.A).any() or np.isnan(self.Pi).any() or np.isnan(l)):\n",
    "                    self.InitialiseParameters()\n",
    "                else:\n",
    "                    L.append(l)\n",
    "                    self.Backward()\n",
    "                    self.PosteriorProbabilities()\n",
    "                    self.EstimateParameters(x)\n",
    "                    \n",
    "            self.LikelihoodData.append(np.mean(L))\n",
    "            print (\"Epoch: %-*s  Average Likelihood: %-*s\" % (6,e,24,np.mean(L)))\n",
    "            \n",
    "    def PlotLikelihood(self):\n",
    "        plt.figure(figsize=(10,8))\n",
    "        plt.plot(self.LikelihoodData)\n",
    "        plt.title(\"Graph of Likelihood vs Epochs\")\n",
    "        plt.xlabel(\"Epochs\")\n",
    "        plt.ylabel(\"Likelihood\")\n",
    "        plt.grid()\n",
    "        plt.show()\n",
    "                "
   ]
  },
  {
   "cell_type": "markdown",
   "metadata": {},
   "source": [
    "## Building a Two-Class Classifier"
   ]
  },
  {
   "cell_type": "code",
   "execution_count": 16,
   "metadata": {
    "scrolled": false
   },
   "outputs": [],
   "source": [
    "class Classifier():\n",
    "    def __init__(self,K):\n",
    "        self.hmm1 = HMM(K)\n",
    "        self.hmm2 = HMM(K)\n",
    "        \n",
    "    def TrainModels(self, Data1, Data2, Threshold):\n",
    "        print (\"Training Model-1\")\n",
    "        self.hmm1.fit(Data1,Threshold)\n",
    "        print ()\n",
    "        print (\"Likelihood Plot of Model-1\")\n",
    "        self.hmm1.PlotLikelihood()\n",
    "        print()\n",
    "        print (\"-------------------------------------------------------------------\")\n",
    "        print ()\n",
    "        print (\"Training Model-2\")\n",
    "        self.hmm2.fit(Data2,Threshold)\n",
    "        print ()\n",
    "        print (\"Likelihood Plot of Model-2\")\n",
    "        self.hmm2.PlotLikelihood()\n",
    "        \n",
    "    def Classify(self,x):\n",
    "        l1 = self.hmm1.Forward(x)\n",
    "        l2 = self.hmm2.Forward(x)\n",
    "        if l1 > l2:\n",
    "            print (\"Input belongs to Phone0\")\n",
    "        else:\n",
    "            print (\"Input belongs to Phone1\")"
   ]
  },
  {
   "cell_type": "code",
   "execution_count": 17,
   "metadata": {
    "scrolled": false
   },
   "outputs": [
    {
     "name": "stdout",
     "output_type": "stream",
     "text": [
      "Training Model-1\n",
      "Epoch: 1       Average Likelihood: 2.0065229328842102      \n",
      "Epoch: 2       Average Likelihood: 2.0701664297114313      \n",
      "Epoch: 3       Average Likelihood: 2.067785974199791       \n",
      "Epoch: 4       Average Likelihood: 2.0661359718954233      \n",
      "Epoch: 5       Average Likelihood: 2.0658438015624356      \n",
      "Epoch: 6       Average Likelihood: 2.0663364393690102      \n",
      "Epoch: 7       Average Likelihood: 2.066800937984814       \n",
      "Epoch: 8       Average Likelihood: 2.0670845940289926      \n",
      "Epoch: 9       Average Likelihood: 2.067248590129517       \n",
      "Epoch: 10      Average Likelihood: 2.067346092274162       \n",
      "Epoch: 11      Average Likelihood: 2.067406290525481       \n",
      "Epoch: 12      Average Likelihood: 2.0674446433057883      \n",
      "Epoch: 13      Average Likelihood: 2.067469655285346       \n",
      "Epoch: 14      Average Likelihood: 2.0674862410112382      \n",
      "Epoch: 15      Average Likelihood: 2.0674973685041076      \n",
      "Epoch: 16      Average Likelihood: 2.067504895017517       \n",
      "Epoch: 17      Average Likelihood: 2.0675100146686023      \n",
      "Epoch: 18      Average Likelihood: 2.067513510753321       \n",
      "Epoch: 19      Average Likelihood: 2.0675159045919416      \n",
      "Epoch: 20      Average Likelihood: 2.067517546756395       \n",
      "Epoch: 21      Average Likelihood: 2.067518674724271       \n",
      "Epoch: 22      Average Likelihood: 2.0675194501890513      \n",
      "Epoch: 23      Average Likelihood: 2.0675199836384492      \n",
      "Epoch: 24      Average Likelihood: 2.067520350758195       \n",
      "Epoch: 25      Average Likelihood: 2.0675206034835103      \n",
      "Epoch: 26      Average Likelihood: 2.067520777494627       \n",
      "Epoch: 27      Average Likelihood: 2.0675208973245867      \n",
      "Epoch: 28      Average Likelihood: 2.06752097985145        \n",
      "Epoch: 29      Average Likelihood: 2.0675210366914274      \n",
      "Epoch: 30      Average Likelihood: 2.067521075841465       \n",
      "\n",
      "Likelihood Plot of Model-1\n"
     ]
    },
    {
     "data": {
      "image/png": "[encoded data removed]",
      "text/plain": [
       "<Figure size 720x576 with 1 Axes>"
      ]
     },
     "metadata": {
      "needs_background": "light"
     },
     "output_type": "display_data"
    },
    {
     "name": "stdout",
     "output_type": "stream",
     "text": [
      "\n",
      "-------------------------------------------------------------------\n",
      "\n",
      "Training Model-2\n",
      "Epoch: 1       Average Likelihood: 2.1249267912210836      \n",
      "Epoch: 2       Average Likelihood: 2.174965977085897       \n",
      "Epoch: 3       Average Likelihood: 2.1744757786350744      \n",
      "Epoch: 4       Average Likelihood: 2.1743913013729204      \n",
      "Epoch: 5       Average Likelihood: 2.1743582260946193      \n",
      "Epoch: 6       Average Likelihood: 2.174345185641031       \n",
      "Epoch: 7       Average Likelihood: 2.1743474519865487      \n",
      "Epoch: 8       Average Likelihood: 2.17436273638325        \n",
      "Epoch: 9       Average Likelihood: 2.174389086944696       \n",
      "Epoch: 10      Average Likelihood: 2.1744246978251285      \n",
      "Epoch: 11      Average Likelihood: 2.1744678895198906      \n",
      "Epoch: 12      Average Likelihood: 2.1745171085669277      \n",
      "Epoch: 13      Average Likelihood: 2.1745709320821573      \n",
      "Epoch: 14      Average Likelihood: 2.1746280738767547      \n",
      "Epoch: 15      Average Likelihood: 2.1746873899408263      \n",
      "Epoch: 16      Average Likelihood: 2.1747478816308994      \n",
      "Epoch: 17      Average Likelihood: 2.174808695563883       \n",
      "Epoch: 18      Average Likelihood: 2.174869119878098       \n",
      "Epoch: 19      Average Likelihood: 2.1749285770636613      \n",
      "Epoch: 20      Average Likelihood: 2.1749866139391276      \n",
      "Epoch: 21      Average Likelihood: 2.1750428895540037      \n",
      "Epoch: 22      Average Likelihood: 2.1750971618521566      \n",
      "Epoch: 23      Average Likelihood: 2.1751492738778833      \n",
      "Epoch: 24      Average Likelihood: 2.1751991401857937      \n",
      "Epoch: 25      Average Likelihood: 2.1752467339636072      \n",
      "Epoch: 26      Average Likelihood: 2.1752920752209706      \n",
      "Epoch: 27      Average Likelihood: 2.175335220255243       \n",
      "Epoch: 28      Average Likelihood: 2.175376252486796       \n",
      "Epoch: 29      Average Likelihood: 2.17541527466491        \n",
      "Epoch: 30      Average Likelihood: 2.1754524023802038      \n",
      "\n",
      "Likelihood Plot of Model-2\n"
     ]
    },
    {
     "data": {
      "image/png": "[encoded data removed]",
      "text/plain": [
       "<Figure size 720x576 with 1 Axes>"
      ]
     },
     "metadata": {
      "needs_background": "light"
     },
     "output_type": "display_data"
    }
   ],
   "source": [
    "CF = Classifier(3)\n",
    "CF.TrainModels(Phone0,Phone1,0.075)"
   ]
  },
  {
   "cell_type": "markdown",
   "metadata": {},
   "source": [
    "## Testing the Classifier"
   ]
  },
  {
   "cell_type": "code",
   "execution_count": 18,
   "metadata": {},
   "outputs": [
    {
     "name": "stdout",
     "output_type": "stream",
     "text": [
      "Input belongs to Phone0\n",
      "Input belongs to Phone0\n"
     ]
    }
   ],
   "source": [
    "CF.Classify(Phone0[0])\n",
    "CF.Classify(Phone1[0])"
   ]
  }
 ],
 "metadata": {
  "kernelspec": {
   "display_name": "Python 3",
   "language": "python",
   "name": "python3"
  },
  "language_info": {
   "codemirror_mode": {
    "name": "ipython",
    "version": 3
   },
   "file_extension": ".py",
   "mimetype": "text/x-python",
   "name": "python",
   "nbconvert_exporter": "python",
   "pygments_lexer": "ipython3",
   "version": "3.6.9"
  }
 },
 "nbformat": 4,
 "nbformat_minor": 4
}
