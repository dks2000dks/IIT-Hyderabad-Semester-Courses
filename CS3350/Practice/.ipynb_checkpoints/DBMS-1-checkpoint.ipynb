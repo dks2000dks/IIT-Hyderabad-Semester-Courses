{
 "cells": [
  {
   "cell_type": "markdown",
   "metadata": {
    "id": "w5CWEVeAiWcw"
   },
   "source": [
    "# DBMS-1\n",
    "\n",
    "Learning SQL"
   ]
  },
  {
   "cell_type": "markdown",
   "metadata": {
    "id": "BmlZlBWsnZg-"
   },
   "source": [
    "### Imports"
   ]
  },
  {
   "cell_type": "markdown",
   "metadata": {
    "id": "qhcPGQRaneiG"
   },
   "source": [
    "Libraries"
   ]
  },
  {
   "cell_type": "code",
   "execution_count": 1,
   "metadata": {
    "executionInfo": {
     "elapsed": 1404,
     "status": "ok",
     "timestamp": 1605381823233,
     "user": {
      "displayName": "Krishna Srikar Durbha",
      "photoUrl": "https://lh3.googleusercontent.com/a-/AOh14Gi_fhrfhFoI_zUdU4n6HvkcXgnZntZMgLzM9uSJnQ=s64",
      "userId": "17130302814618439845"
     },
     "user_tz": -330
    },
    "id": "KxIKcQ3dgLbd"
   },
   "outputs": [],
   "source": [
    "import sqlite3\n",
    "import numpy as np\n",
    "import pandas as pd\n",
    "import matplotlib.pyplot as plt\n",
    "import seaborn as sns\n",
    "import os"
   ]
  },
  {
   "cell_type": "markdown",
   "metadata": {
    "id": "J3qde7SsgQPb"
   },
   "source": [
    "#### Functions\n",
    "\n"
   ]
  },
  {
   "cell_type": "markdown",
   "metadata": {
    "id": "Cg5pxLesi9l6"
   },
   "source": [
    "Reading Commands from .sql file"
   ]
  },
  {
   "cell_type": "code",
   "execution_count": 2,
   "metadata": {
    "executionInfo": {
     "elapsed": 1893,
     "status": "ok",
     "timestamp": 1605381823785,
     "user": {
      "displayName": "Krishna Srikar Durbha",
      "photoUrl": "https://lh3.googleusercontent.com/a-/AOh14Gi_fhrfhFoI_zUdU4n6HvkcXgnZntZMgLzM9uSJnQ=s64",
      "userId": "17130302814618439845"
     },
     "user_tz": -330
    },
    "id": "MfxKSS75jFuc"
   },
   "outputs": [],
   "source": [
    "def Extract(FilePath):\n",
    "    f = open(FilePath)\n",
    "    s = f.read()\n",
    "    return s"
   ]
  },
  {
   "cell_type": "markdown",
   "metadata": {
    "id": "9kWHKQE1g1Xi"
   },
   "source": [
    "#### Creating a DataBase and Entering Data"
   ]
  },
  {
   "cell_type": "markdown",
   "metadata": {
    "id": "NgH30xcelJdy"
   },
   "source": [
    "Creating Database and Tables"
   ]
  },
  {
   "cell_type": "code",
   "execution_count": 3,
   "metadata": {
    "colab": {
     "base_uri": "https://localhost:8080/"
    },
    "executionInfo": {
     "elapsed": 2374,
     "status": "ok",
     "timestamp": 1605381824294,
     "user": {
      "displayName": "Krishna Srikar Durbha",
      "photoUrl": "https://lh3.googleusercontent.com/a-/AOh14Gi_fhrfhFoI_zUdU4n6HvkcXgnZntZMgLzM9uSJnQ=s64",
      "userId": "17130302814618439845"
     },
     "user_tz": -330
    },
    "id": "3O_vrYMsgY_F",
    "outputId": "2a7de866-7e5a-467a-e5a5-da227fcda19c"
   },
   "outputs": [
    {
     "data": {
      "text/plain": [
       "<sqlite3.Cursor at 0x7f8d249af110>"
      ]
     },
     "execution_count": 3,
     "metadata": {},
     "output_type": "execute_result"
    }
   ],
   "source": [
    "connection = sqlite3.connect(\"Database/Data.db\")\n",
    "cursor = connection.cursor()\n",
    "\n",
    "Command = Extract(\"SQL Files/DDL.sql\")\n",
    "cursor.executescript(Command)"
   ]
  },
  {
   "cell_type": "markdown",
   "metadata": {
    "id": "Q4c-T2sBitNX"
   },
   "source": [
    "Entering Data"
   ]
  },
  {
   "cell_type": "code",
   "execution_count": 4,
   "metadata": {
    "colab": {
     "base_uri": "https://localhost:8080/"
    },
    "executionInfo": {
     "elapsed": 5793,
     "status": "ok",
     "timestamp": 1605381827750,
     "user": {
      "displayName": "Krishna Srikar Durbha",
      "photoUrl": "https://lh3.googleusercontent.com/a-/AOh14Gi_fhrfhFoI_zUdU4n6HvkcXgnZntZMgLzM9uSJnQ=s64",
      "userId": "17130302814618439845"
     },
     "user_tz": -330
    },
    "id": "iA8F3KEBg3Mq",
    "outputId": "45bd6991-6d2b-48b0-dd39-a667c316dc4b"
   },
   "outputs": [
    {
     "data": {
      "text/plain": [
       "<sqlite3.Cursor at 0x7f8d249af110>"
      ]
     },
     "execution_count": 4,
     "metadata": {},
     "output_type": "execute_result"
    }
   ],
   "source": [
    "Command = Extract(\"SQL Files/smallRelationsInsertFile.sql\")\n",
    "cursor.executescript(Command)"
   ]
  },
  {
   "cell_type": "markdown",
   "metadata": {
    "id": "YpcgGvtOk81t"
   },
   "source": [
    "Saving Changes\n"
   ]
  },
  {
   "cell_type": "code",
   "execution_count": 5,
   "metadata": {
    "executionInfo": {
     "elapsed": 5775,
     "status": "ok",
     "timestamp": 1605381827758,
     "user": {
      "displayName": "Krishna Srikar Durbha",
      "photoUrl": "https://lh3.googleusercontent.com/a-/AOh14Gi_fhrfhFoI_zUdU4n6HvkcXgnZntZMgLzM9uSJnQ=s64",
      "userId": "17130302814618439845"
     },
     "user_tz": -330
    },
    "id": "dsgbHbUkk-21"
   },
   "outputs": [],
   "source": [
    "connection.commit()"
   ]
  },
  {
   "cell_type": "markdown",
   "metadata": {
    "id": "_FrJ8UaVmYYL"
   },
   "source": [
    "### Queries"
   ]
  },
  {
   "cell_type": "code",
   "execution_count": 6,
   "metadata": {
    "colab": {
     "base_uri": "https://localhost:8080/"
    },
    "executionInfo": {
     "elapsed": 5756,
     "status": "ok",
     "timestamp": 1605381827763,
     "user": {
      "displayName": "Krishna Srikar Durbha",
      "photoUrl": "https://lh3.googleusercontent.com/a-/AOh14Gi_fhrfhFoI_zUdU4n6HvkcXgnZntZMgLzM9uSJnQ=s64",
      "userId": "17130302814618439845"
     },
     "user_tz": -330
    },
    "id": "_uwdqIPImaiQ",
    "outputId": "48620f94-56e5-4381-d469-60841d847770"
   },
   "outputs": [
    {
     "name": "stdout",
     "output_type": "stream",
     "text": [
      "Fetch All:\n",
      "('ID', 'name', 'dept_name', 'salary')\n",
      "('10101', 'Srinivasan', 'Comp. Sci.', 65000)\n",
      "('12121', 'Wu', 'Finance', 90000)\n",
      "('15151', 'Mozart', 'Music', 40000)\n",
      "('22222', 'Einstein', 'Physics', 95000)\n",
      "('32343', 'El Said', 'History', 60000)\n",
      "('33456', 'Gold', 'Physics', 87000)\n",
      "('45565', 'Katz', 'Comp. Sci.', 75000)\n",
      "('58583', 'Califieri', 'History', 62000)\n",
      "('76543', 'Singh', 'Finance', 80000)\n",
      "('76766', 'Crick', 'Biology', 72000)\n",
      "('83821', 'Brandt', 'Comp. Sci.', 92000)\n",
      "('98345', 'Kim', 'Elec. Eng.', 80000)\n"
     ]
    }
   ],
   "source": [
    "Query=\"\"\"\n",
    "SELECT *\n",
    "FROM instructor\n",
    "\"\"\"\n",
    "cursor.execute(Query) \n",
    "print(\"Fetch All:\")\n",
    "names = tuple(map(lambda x: x[0], cursor.description))\n",
    "print (names)\n",
    "result = cursor.fetchall() \n",
    "for r in result:\n",
    "    print(r)"
   ]
  },
  {
   "cell_type": "code",
   "execution_count": 7,
   "metadata": {
    "colab": {
     "base_uri": "https://localhost:8080/"
    },
    "executionInfo": {
     "elapsed": 5737,
     "status": "ok",
     "timestamp": 1605381827767,
     "user": {
      "displayName": "Krishna Srikar Durbha",
      "photoUrl": "https://lh3.googleusercontent.com/a-/AOh14Gi_fhrfhFoI_zUdU4n6HvkcXgnZntZMgLzM9uSJnQ=s64",
      "userId": "17130302814618439845"
     },
     "user_tz": -330
    },
    "id": "tMIzrxyc3Jaz",
    "outputId": "6559a571-2c9b-484c-ea6f-ca523d0792eb"
   },
   "outputs": [
    {
     "name": "stdout",
     "output_type": "stream",
     "text": [
      "Fetch All:\n",
      "('ID', 'name', 'dept_name', 'salary')\n",
      "('10101', 'Srinivasan', 'Comp. Sci.', 65000)\n",
      "('12121', 'Wu', 'Finance', 90000)\n",
      "('15151', 'Mozart', 'Music', 40000)\n",
      "('22222', 'Einstein', 'Physics', 95000)\n",
      "('32343', 'El Said', 'History', 60000)\n",
      "('33456', 'Gold', 'Physics', 87000)\n",
      "('45565', 'Katz', 'Comp. Sci.', 75000)\n",
      "('58583', 'Califieri', 'History', 62000)\n",
      "('76543', 'Singh', 'Finance', 80000)\n",
      "('76766', 'Crick', 'Biology', 72000)\n",
      "('83821', 'Brandt', 'Comp. Sci.', 92000)\n",
      "('98345', 'Kim', 'Elec. Eng.', 80000)\n",
      "('10211', 'Aditya', 'SriDevi', 10000000)\n"
     ]
    }
   ],
   "source": [
    "Query=\"\"\"\n",
    "Insert into instructor values ('10211', 'Aditya', 'SriDevi', 10000000);\n",
    "\"\"\"\n",
    "cursor.execute(Query)\n",
    "\n",
    "Query=\"\"\"\n",
    "SELECT *\n",
    "FROM instructor\n",
    "\"\"\"\n",
    "cursor.execute(Query) \n",
    "print(\"Fetch All:\")\n",
    "names = tuple(map(lambda x: x[0], cursor.description))\n",
    "print (names)\n",
    "result = cursor.fetchall() \n",
    "for r in result:\n",
    "    print(r)"
   ]
  },
  {
   "cell_type": "code",
   "execution_count": 8,
   "metadata": {
    "colab": {
     "base_uri": "https://localhost:8080/"
    },
    "executionInfo": {
     "elapsed": 5713,
     "status": "ok",
     "timestamp": 1605381827770,
     "user": {
      "displayName": "Krishna Srikar Durbha",
      "photoUrl": "https://lh3.googleusercontent.com/a-/AOh14Gi_fhrfhFoI_zUdU4n6HvkcXgnZntZMgLzM9uSJnQ=s64",
      "userId": "17130302814618439845"
     },
     "user_tz": -330
    },
    "id": "-WH-lXoz4GtL",
    "outputId": "53d40a76-0d07-4949-b57c-90d6cd85cc25"
   },
   "outputs": [
    {
     "name": "stdout",
     "output_type": "stream",
     "text": [
      "Fetch All:\n",
      "('ID', 'name', 'dept_name', 'salary', 'CGPA')\n",
      "('10101', 'Srinivasan', 'Comp. Sci.', 65000, None)\n",
      "('12121', 'Wu', 'Finance', 90000, None)\n",
      "('15151', 'Mozart', 'Music', 40000, None)\n",
      "('22222', 'Einstein', 'Physics', 95000, None)\n",
      "('32343', 'El Said', 'History', 60000, None)\n",
      "('33456', 'Gold', 'Physics', 87000, None)\n",
      "('45565', 'Katz', 'Comp. Sci.', 75000, None)\n",
      "('58583', 'Califieri', 'History', 62000, None)\n",
      "('76543', 'Singh', 'Finance', 80000, None)\n",
      "('76766', 'Crick', 'Biology', 72000, None)\n",
      "('83821', 'Brandt', 'Comp. Sci.', 92000, None)\n",
      "('98345', 'Kim', 'Elec. Eng.', 80000, None)\n",
      "('10211', 'Aditya', 'SriDevi', 10000000, None)\n"
     ]
    }
   ],
   "source": [
    "Query=\"\"\"\n",
    "alter table instructor add CGPA double\n",
    "\"\"\"\n",
    "cursor.execute(Query) \n",
    "\n",
    "Query=\"\"\"\n",
    "SELECT *\n",
    "FROM instructor\n",
    "\"\"\"\n",
    "cursor.execute(Query) \n",
    "print(\"Fetch All:\")\n",
    "names = tuple(map(lambda x: x[0], cursor.description))\n",
    "print (names)\n",
    "result = cursor.fetchall() \n",
    "for r in result:\n",
    "    print(r)"
   ]
  },
  {
   "cell_type": "code",
   "execution_count": 9,
   "metadata": {
    "colab": {
     "base_uri": "https://localhost:8080/"
    },
    "executionInfo": {
     "elapsed": 5691,
     "status": "ok",
     "timestamp": 1605381827774,
     "user": {
      "displayName": "Krishna Srikar Durbha",
      "photoUrl": "https://lh3.googleusercontent.com/a-/AOh14Gi_fhrfhFoI_zUdU4n6HvkcXgnZntZMgLzM9uSJnQ=s64",
      "userId": "17130302814618439845"
     },
     "user_tz": -330
    },
    "id": "pM8aScBv7UyU",
    "outputId": "2c74df44-22bd-4d7d-b486-dd211b0fe23d"
   },
   "outputs": [
    {
     "name": "stdout",
     "output_type": "stream",
     "text": [
      "Fetch All:\n",
      "('salary', 'name')\n",
      "(65000, 'Srinivasan')\n",
      "(90000, 'Wu')\n",
      "(40000, 'Mozart')\n",
      "(95000, 'Einstein')\n",
      "(60000, 'El Said')\n",
      "(87000, 'Gold')\n",
      "(75000, 'Katz')\n",
      "(62000, 'Califieri')\n",
      "(80000, 'Singh')\n",
      "(72000, 'Crick')\n",
      "(92000, 'Brandt')\n",
      "(80000, 'Kim')\n",
      "(10000000, 'Aditya')\n"
     ]
    }
   ],
   "source": [
    "Query=\"\"\"\n",
    "SELECT salary,name\n",
    "FROM instructor\n",
    "\"\"\"\n",
    "cursor.execute(Query) \n",
    "print(\"Fetch All:\")\n",
    "names = tuple(map(lambda x: x[0], cursor.description))\n",
    "print (names)\n",
    "result = cursor.fetchall() \n",
    "for r in result:\n",
    "    print(r)"
   ]
  },
  {
   "cell_type": "code",
   "execution_count": 10,
   "metadata": {
    "colab": {
     "base_uri": "https://localhost:8080/"
    },
    "executionInfo": {
     "elapsed": 5670,
     "status": "ok",
     "timestamp": 1605381827777,
     "user": {
      "displayName": "Krishna Srikar Durbha",
      "photoUrl": "https://lh3.googleusercontent.com/a-/AOh14Gi_fhrfhFoI_zUdU4n6HvkcXgnZntZMgLzM9uSJnQ=s64",
      "userId": "17130302814618439845"
     },
     "user_tz": -330
    },
    "id": "Gdpaz9H37XKG",
    "outputId": "b863376a-0a11-44a5-fa8d-ba20666569b5"
   },
   "outputs": [
    {
     "name": "stdout",
     "output_type": "stream",
     "text": [
      "Fetch All:\n",
      "('dept_name',)\n",
      "('Comp. Sci.',)\n",
      "('Finance',)\n",
      "('Music',)\n",
      "('Physics',)\n",
      "('History',)\n",
      "('Biology',)\n",
      "('Elec. Eng.',)\n",
      "('SriDevi',)\n"
     ]
    }
   ],
   "source": [
    "Query=\"\"\"\n",
    "SELECT distinct dept_name\n",
    "FROM instructor\n",
    "\"\"\"\n",
    "cursor.execute(Query) \n",
    "print(\"Fetch All:\")\n",
    "names = tuple(map(lambda x: x[0], cursor.description))\n",
    "print (names)\n",
    "result = cursor.fetchall() \n",
    "for r in result:\n",
    "    print(r)"
   ]
  },
  {
   "cell_type": "code",
   "execution_count": 11,
   "metadata": {
    "colab": {
     "base_uri": "https://localhost:8080/"
    },
    "executionInfo": {
     "elapsed": 5646,
     "status": "ok",
     "timestamp": 1605381827780,
     "user": {
      "displayName": "Krishna Srikar Durbha",
      "photoUrl": "https://lh3.googleusercontent.com/a-/AOh14Gi_fhrfhFoI_zUdU4n6HvkcXgnZntZMgLzM9uSJnQ=s64",
      "userId": "17130302814618439845"
     },
     "user_tz": -330
    },
    "id": "-7K7201R8lTP",
    "outputId": "43e6a10a-b0a2-4927-e015-ee74b5414d9d"
   },
   "outputs": [
    {
     "name": "stdout",
     "output_type": "stream",
     "text": [
      "Fetch All:\n",
      "('FOO',)\n",
      "('437',)\n"
     ]
    }
   ],
   "source": [
    "Query=\"\"\"\n",
    "SELECT '437' as FOO\n",
    "\"\"\"\n",
    "cursor.execute(Query) \n",
    "print(\"Fetch All:\")\n",
    "names = tuple(map(lambda x: x[0], cursor.description))\n",
    "print (names)\n",
    "result = cursor.fetchall() \n",
    "for r in result:\n",
    "    print(r)"
   ]
  },
  {
   "cell_type": "code",
   "execution_count": 12,
   "metadata": {
    "colab": {
     "base_uri": "https://localhost:8080/"
    },
    "executionInfo": {
     "elapsed": 5625,
     "status": "ok",
     "timestamp": 1605381827784,
     "user": {
      "displayName": "Krishna Srikar Durbha",
      "photoUrl": "https://lh3.googleusercontent.com/a-/AOh14Gi_fhrfhFoI_zUdU4n6HvkcXgnZntZMgLzM9uSJnQ=s64",
      "userId": "17130302814618439845"
     },
     "user_tz": -330
    },
    "id": "QgvMzeiY8zK6",
    "outputId": "9d3729a3-ebe3-4dfd-de5f-a9a8eabecc3b"
   },
   "outputs": [
    {
     "name": "stdout",
     "output_type": "stream",
     "text": [
      "Fetch All:\n",
      "(\"'A'\",)\n",
      "('A',)\n",
      "('A',)\n",
      "('A',)\n",
      "('A',)\n",
      "('A',)\n",
      "('A',)\n",
      "('A',)\n",
      "('A',)\n",
      "('A',)\n",
      "('A',)\n",
      "('A',)\n",
      "('A',)\n",
      "('A',)\n"
     ]
    }
   ],
   "source": [
    "Query=\"\"\"\n",
    "SELECT 'A'\n",
    "FROM instructor\n",
    "\"\"\"\n",
    "cursor.execute(Query) \n",
    "print(\"Fetch All:\")\n",
    "names = tuple(map(lambda x: x[0], cursor.description))\n",
    "print (names)\n",
    "result = cursor.fetchall() \n",
    "for r in result:\n",
    "    print(r)"
   ]
  },
  {
   "cell_type": "code",
   "execution_count": 13,
   "metadata": {
    "colab": {
     "base_uri": "https://localhost:8080/"
    },
    "executionInfo": {
     "elapsed": 5604,
     "status": "ok",
     "timestamp": 1605381827788,
     "user": {
      "displayName": "Krishna Srikar Durbha",
      "photoUrl": "https://lh3.googleusercontent.com/a-/AOh14Gi_fhrfhFoI_zUdU4n6HvkcXgnZntZMgLzM9uSJnQ=s64",
      "userId": "17130302814618439845"
     },
     "user_tz": -330
    },
    "id": "vvmXFAe09AwT",
    "outputId": "9545f106-aca5-4ffa-84ac-f8c7e142b00c"
   },
   "outputs": [
    {
     "name": "stdout",
     "output_type": "stream",
     "text": [
      "Fetch All:\n",
      "('name', 'monthly_salary')\n",
      "('Srinivasan', 5416)\n",
      "('Wu', 7500)\n",
      "('Mozart', 3333)\n",
      "('Einstein', 7916)\n",
      "('El Said', 5000)\n",
      "('Gold', 7250)\n",
      "('Katz', 6250)\n",
      "('Califieri', 5166)\n",
      "('Singh', 6666)\n",
      "('Crick', 6000)\n",
      "('Brandt', 7666)\n",
      "('Kim', 6666)\n",
      "('Aditya', 833333)\n"
     ]
    }
   ],
   "source": [
    "Query=\"\"\"\n",
    "SELECT name,salary/12 as monthly_salary\n",
    "FROM instructor\n",
    "\"\"\"\n",
    "cursor.execute(Query) \n",
    "print(\"Fetch All:\")\n",
    "names = tuple(map(lambda x: x[0], cursor.description))\n",
    "print (names)\n",
    "result = cursor.fetchall() \n",
    "for r in result:\n",
    "    print(r)"
   ]
  },
  {
   "cell_type": "code",
   "execution_count": 14,
   "metadata": {
    "colab": {
     "base_uri": "https://localhost:8080/"
    },
    "executionInfo": {
     "elapsed": 5585,
     "status": "ok",
     "timestamp": 1605381827791,
     "user": {
      "displayName": "Krishna Srikar Durbha",
      "photoUrl": "https://lh3.googleusercontent.com/a-/AOh14Gi_fhrfhFoI_zUdU4n6HvkcXgnZntZMgLzM9uSJnQ=s64",
      "userId": "17130302814618439845"
     },
     "user_tz": -330
    },
    "id": "sc51i0UW9hQz",
    "outputId": "b21c0bf8-8b07-4122-b3ce-a0adee61f3d3"
   },
   "outputs": [
    {
     "name": "stdout",
     "output_type": "stream",
     "text": [
      "Fetch All:\n",
      "('name', 'dept_name')\n",
      "('Srinivasan', 'Comp. Sci.')\n",
      "('Wu', 'Finance')\n",
      "('Mozart', 'Music')\n",
      "('Einstein', 'Physics')\n",
      "('El Said', 'History')\n",
      "('Gold', 'Physics')\n",
      "('Katz', 'Comp. Sci.')\n",
      "('Califieri', 'History')\n",
      "('Singh', 'Finance')\n",
      "('Crick', 'Biology')\n",
      "('Brandt', 'Comp. Sci.')\n",
      "('Kim', 'Elec. Eng.')\n"
     ]
    }
   ],
   "source": [
    "Query=\"\"\"\n",
    "SELECT name,dept_name\n",
    "FROM instructor\n",
    "where not salary == 10000000\n",
    "\"\"\"\n",
    "cursor.execute(Query) \n",
    "print(\"Fetch All:\")\n",
    "names = tuple(map(lambda x: x[0], cursor.description))\n",
    "print (names)\n",
    "result = cursor.fetchall() \n",
    "for r in result:\n",
    "    print(r)"
   ]
  },
  {
   "cell_type": "code",
   "execution_count": 15,
   "metadata": {
    "colab": {
     "base_uri": "https://localhost:8080/"
    },
    "executionInfo": {
     "elapsed": 5564,
     "status": "ok",
     "timestamp": 1605381827795,
     "user": {
      "displayName": "Krishna Srikar Durbha",
      "photoUrl": "https://lh3.googleusercontent.com/a-/AOh14Gi_fhrfhFoI_zUdU4n6HvkcXgnZntZMgLzM9uSJnQ=s64",
      "userId": "17130302814618439845"
     },
     "user_tz": -330
    },
    "id": "kqnG2S9V-3K2",
    "outputId": "55817041-d40a-4ff5-c9f8-f4f3088c1e6c"
   },
   "outputs": [
    {
     "name": "stdout",
     "output_type": "stream",
     "text": [
      "Fetch All:\n",
      "('ID', 'name', 'dept_name', 'salary', 'CGPA', 'ID', 'course_id', 'sec_id', 'semester', 'year')\n",
      "('10101', 'Srinivasan', 'Comp. Sci.', 65000, None, '10101', 'CS-101', '1', 'Fall', 2009)\n",
      "('10101', 'Srinivasan', 'Comp. Sci.', 65000, None, '10101', 'CS-315', '1', 'Spring', 2010)\n",
      "('10101', 'Srinivasan', 'Comp. Sci.', 65000, None, '10101', 'CS-347', '1', 'Fall', 2009)\n",
      "('10101', 'Srinivasan', 'Comp. Sci.', 65000, None, '12121', 'FIN-201', '1', 'Spring', 2010)\n",
      "('10101', 'Srinivasan', 'Comp. Sci.', 65000, None, '15151', 'MU-199', '1', 'Spring', 2010)\n",
      "('10101', 'Srinivasan', 'Comp. Sci.', 65000, None, '22222', 'PHY-101', '1', 'Fall', 2009)\n",
      "('10101', 'Srinivasan', 'Comp. Sci.', 65000, None, '32343', 'HIS-351', '1', 'Spring', 2010)\n",
      "('10101', 'Srinivasan', 'Comp. Sci.', 65000, None, '45565', 'CS-101', '1', 'Spring', 2010)\n",
      "('10101', 'Srinivasan', 'Comp. Sci.', 65000, None, '45565', 'CS-319', '1', 'Spring', 2010)\n",
      "('10101', 'Srinivasan', 'Comp. Sci.', 65000, None, '76766', 'BIO-101', '1', 'Summer', 2009)\n",
      "('10101', 'Srinivasan', 'Comp. Sci.', 65000, None, '76766', 'BIO-301', '1', 'Summer', 2010)\n",
      "('10101', 'Srinivasan', 'Comp. Sci.', 65000, None, '83821', 'CS-190', '1', 'Spring', 2009)\n",
      "('10101', 'Srinivasan', 'Comp. Sci.', 65000, None, '83821', 'CS-190', '2', 'Spring', 2009)\n",
      "('10101', 'Srinivasan', 'Comp. Sci.', 65000, None, '83821', 'CS-319', '2', 'Spring', 2010)\n",
      "('10101', 'Srinivasan', 'Comp. Sci.', 65000, None, '98345', 'EE-181', '1', 'Spring', 2009)\n",
      "('12121', 'Wu', 'Finance', 90000, None, '10101', 'CS-101', '1', 'Fall', 2009)\n",
      "('12121', 'Wu', 'Finance', 90000, None, '10101', 'CS-315', '1', 'Spring', 2010)\n",
      "('12121', 'Wu', 'Finance', 90000, None, '10101', 'CS-347', '1', 'Fall', 2009)\n",
      "('12121', 'Wu', 'Finance', 90000, None, '12121', 'FIN-201', '1', 'Spring', 2010)\n",
      "('12121', 'Wu', 'Finance', 90000, None, '15151', 'MU-199', '1', 'Spring', 2010)\n",
      "('12121', 'Wu', 'Finance', 90000, None, '22222', 'PHY-101', '1', 'Fall', 2009)\n",
      "('12121', 'Wu', 'Finance', 90000, None, '32343', 'HIS-351', '1', 'Spring', 2010)\n",
      "('12121', 'Wu', 'Finance', 90000, None, '45565', 'CS-101', '1', 'Spring', 2010)\n",
      "('12121', 'Wu', 'Finance', 90000, None, '45565', 'CS-319', '1', 'Spring', 2010)\n",
      "('12121', 'Wu', 'Finance', 90000, None, '76766', 'BIO-101', '1', 'Summer', 2009)\n",
      "('12121', 'Wu', 'Finance', 90000, None, '76766', 'BIO-301', '1', 'Summer', 2010)\n",
      "('12121', 'Wu', 'Finance', 90000, None, '83821', 'CS-190', '1', 'Spring', 2009)\n",
      "('12121', 'Wu', 'Finance', 90000, None, '83821', 'CS-190', '2', 'Spring', 2009)\n",
      "('12121', 'Wu', 'Finance', 90000, None, '83821', 'CS-319', '2', 'Spring', 2010)\n",
      "('12121', 'Wu', 'Finance', 90000, None, '98345', 'EE-181', '1', 'Spring', 2009)\n",
      "('15151', 'Mozart', 'Music', 40000, None, '10101', 'CS-101', '1', 'Fall', 2009)\n",
      "('15151', 'Mozart', 'Music', 40000, None, '10101', 'CS-315', '1', 'Spring', 2010)\n",
      "('15151', 'Mozart', 'Music', 40000, None, '10101', 'CS-347', '1', 'Fall', 2009)\n",
      "('15151', 'Mozart', 'Music', 40000, None, '12121', 'FIN-201', '1', 'Spring', 2010)\n",
      "('15151', 'Mozart', 'Music', 40000, None, '15151', 'MU-199', '1', 'Spring', 2010)\n",
      "('15151', 'Mozart', 'Music', 40000, None, '22222', 'PHY-101', '1', 'Fall', 2009)\n",
      "('15151', 'Mozart', 'Music', 40000, None, '32343', 'HIS-351', '1', 'Spring', 2010)\n",
      "('15151', 'Mozart', 'Music', 40000, None, '45565', 'CS-101', '1', 'Spring', 2010)\n",
      "('15151', 'Mozart', 'Music', 40000, None, '45565', 'CS-319', '1', 'Spring', 2010)\n",
      "('15151', 'Mozart', 'Music', 40000, None, '76766', 'BIO-101', '1', 'Summer', 2009)\n",
      "('15151', 'Mozart', 'Music', 40000, None, '76766', 'BIO-301', '1', 'Summer', 2010)\n",
      "('15151', 'Mozart', 'Music', 40000, None, '83821', 'CS-190', '1', 'Spring', 2009)\n",
      "('15151', 'Mozart', 'Music', 40000, None, '83821', 'CS-190', '2', 'Spring', 2009)\n",
      "('15151', 'Mozart', 'Music', 40000, None, '83821', 'CS-319', '2', 'Spring', 2010)\n",
      "('15151', 'Mozart', 'Music', 40000, None, '98345', 'EE-181', '1', 'Spring', 2009)\n",
      "('22222', 'Einstein', 'Physics', 95000, None, '10101', 'CS-101', '1', 'Fall', 2009)\n",
      "('22222', 'Einstein', 'Physics', 95000, None, '10101', 'CS-315', '1', 'Spring', 2010)\n",
      "('22222', 'Einstein', 'Physics', 95000, None, '10101', 'CS-347', '1', 'Fall', 2009)\n",
      "('22222', 'Einstein', 'Physics', 95000, None, '12121', 'FIN-201', '1', 'Spring', 2010)\n",
      "('22222', 'Einstein', 'Physics', 95000, None, '15151', 'MU-199', '1', 'Spring', 2010)\n",
      "('22222', 'Einstein', 'Physics', 95000, None, '22222', 'PHY-101', '1', 'Fall', 2009)\n",
      "('22222', 'Einstein', 'Physics', 95000, None, '32343', 'HIS-351', '1', 'Spring', 2010)\n",
      "('22222', 'Einstein', 'Physics', 95000, None, '45565', 'CS-101', '1', 'Spring', 2010)\n",
      "('22222', 'Einstein', 'Physics', 95000, None, '45565', 'CS-319', '1', 'Spring', 2010)\n",
      "('22222', 'Einstein', 'Physics', 95000, None, '76766', 'BIO-101', '1', 'Summer', 2009)\n",
      "('22222', 'Einstein', 'Physics', 95000, None, '76766', 'BIO-301', '1', 'Summer', 2010)\n",
      "('22222', 'Einstein', 'Physics', 95000, None, '83821', 'CS-190', '1', 'Spring', 2009)\n",
      "('22222', 'Einstein', 'Physics', 95000, None, '83821', 'CS-190', '2', 'Spring', 2009)\n",
      "('22222', 'Einstein', 'Physics', 95000, None, '83821', 'CS-319', '2', 'Spring', 2010)\n",
      "('22222', 'Einstein', 'Physics', 95000, None, '98345', 'EE-181', '1', 'Spring', 2009)\n",
      "('32343', 'El Said', 'History', 60000, None, '10101', 'CS-101', '1', 'Fall', 2009)\n",
      "('32343', 'El Said', 'History', 60000, None, '10101', 'CS-315', '1', 'Spring', 2010)\n",
      "('32343', 'El Said', 'History', 60000, None, '10101', 'CS-347', '1', 'Fall', 2009)\n",
      "('32343', 'El Said', 'History', 60000, None, '12121', 'FIN-201', '1', 'Spring', 2010)\n",
      "('32343', 'El Said', 'History', 60000, None, '15151', 'MU-199', '1', 'Spring', 2010)\n",
      "('32343', 'El Said', 'History', 60000, None, '22222', 'PHY-101', '1', 'Fall', 2009)\n",
      "('32343', 'El Said', 'History', 60000, None, '32343', 'HIS-351', '1', 'Spring', 2010)\n",
      "('32343', 'El Said', 'History', 60000, None, '45565', 'CS-101', '1', 'Spring', 2010)\n",
      "('32343', 'El Said', 'History', 60000, None, '45565', 'CS-319', '1', 'Spring', 2010)\n",
      "('32343', 'El Said', 'History', 60000, None, '76766', 'BIO-101', '1', 'Summer', 2009)\n",
      "('32343', 'El Said', 'History', 60000, None, '76766', 'BIO-301', '1', 'Summer', 2010)\n",
      "('32343', 'El Said', 'History', 60000, None, '83821', 'CS-190', '1', 'Spring', 2009)\n",
      "('32343', 'El Said', 'History', 60000, None, '83821', 'CS-190', '2', 'Spring', 2009)\n",
      "('32343', 'El Said', 'History', 60000, None, '83821', 'CS-319', '2', 'Spring', 2010)\n",
      "('32343', 'El Said', 'History', 60000, None, '98345', 'EE-181', '1', 'Spring', 2009)\n",
      "('33456', 'Gold', 'Physics', 87000, None, '10101', 'CS-101', '1', 'Fall', 2009)\n",
      "('33456', 'Gold', 'Physics', 87000, None, '10101', 'CS-315', '1', 'Spring', 2010)\n",
      "('33456', 'Gold', 'Physics', 87000, None, '10101', 'CS-347', '1', 'Fall', 2009)\n",
      "('33456', 'Gold', 'Physics', 87000, None, '12121', 'FIN-201', '1', 'Spring', 2010)\n",
      "('33456', 'Gold', 'Physics', 87000, None, '15151', 'MU-199', '1', 'Spring', 2010)\n",
      "('33456', 'Gold', 'Physics', 87000, None, '22222', 'PHY-101', '1', 'Fall', 2009)\n",
      "('33456', 'Gold', 'Physics', 87000, None, '32343', 'HIS-351', '1', 'Spring', 2010)\n",
      "('33456', 'Gold', 'Physics', 87000, None, '45565', 'CS-101', '1', 'Spring', 2010)\n",
      "('33456', 'Gold', 'Physics', 87000, None, '45565', 'CS-319', '1', 'Spring', 2010)\n",
      "('33456', 'Gold', 'Physics', 87000, None, '76766', 'BIO-101', '1', 'Summer', 2009)\n",
      "('33456', 'Gold', 'Physics', 87000, None, '76766', 'BIO-301', '1', 'Summer', 2010)\n",
      "('33456', 'Gold', 'Physics', 87000, None, '83821', 'CS-190', '1', 'Spring', 2009)\n",
      "('33456', 'Gold', 'Physics', 87000, None, '83821', 'CS-190', '2', 'Spring', 2009)\n",
      "('33456', 'Gold', 'Physics', 87000, None, '83821', 'CS-319', '2', 'Spring', 2010)\n",
      "('33456', 'Gold', 'Physics', 87000, None, '98345', 'EE-181', '1', 'Spring', 2009)\n",
      "('45565', 'Katz', 'Comp. Sci.', 75000, None, '10101', 'CS-101', '1', 'Fall', 2009)\n",
      "('45565', 'Katz', 'Comp. Sci.', 75000, None, '10101', 'CS-315', '1', 'Spring', 2010)\n",
      "('45565', 'Katz', 'Comp. Sci.', 75000, None, '10101', 'CS-347', '1', 'Fall', 2009)\n",
      "('45565', 'Katz', 'Comp. Sci.', 75000, None, '12121', 'FIN-201', '1', 'Spring', 2010)\n",
      "('45565', 'Katz', 'Comp. Sci.', 75000, None, '15151', 'MU-199', '1', 'Spring', 2010)\n",
      "('45565', 'Katz', 'Comp. Sci.', 75000, None, '22222', 'PHY-101', '1', 'Fall', 2009)\n",
      "('45565', 'Katz', 'Comp. Sci.', 75000, None, '32343', 'HIS-351', '1', 'Spring', 2010)\n",
      "('45565', 'Katz', 'Comp. Sci.', 75000, None, '45565', 'CS-101', '1', 'Spring', 2010)\n",
      "('45565', 'Katz', 'Comp. Sci.', 75000, None, '45565', 'CS-319', '1', 'Spring', 2010)\n",
      "('45565', 'Katz', 'Comp. Sci.', 75000, None, '76766', 'BIO-101', '1', 'Summer', 2009)\n",
      "('45565', 'Katz', 'Comp. Sci.', 75000, None, '76766', 'BIO-301', '1', 'Summer', 2010)\n",
      "('45565', 'Katz', 'Comp. Sci.', 75000, None, '83821', 'CS-190', '1', 'Spring', 2009)\n",
      "('45565', 'Katz', 'Comp. Sci.', 75000, None, '83821', 'CS-190', '2', 'Spring', 2009)\n",
      "('45565', 'Katz', 'Comp. Sci.', 75000, None, '83821', 'CS-319', '2', 'Spring', 2010)\n",
      "('45565', 'Katz', 'Comp. Sci.', 75000, None, '98345', 'EE-181', '1', 'Spring', 2009)\n",
      "('58583', 'Califieri', 'History', 62000, None, '10101', 'CS-101', '1', 'Fall', 2009)\n",
      "('58583', 'Califieri', 'History', 62000, None, '10101', 'CS-315', '1', 'Spring', 2010)\n",
      "('58583', 'Califieri', 'History', 62000, None, '10101', 'CS-347', '1', 'Fall', 2009)\n",
      "('58583', 'Califieri', 'History', 62000, None, '12121', 'FIN-201', '1', 'Spring', 2010)\n",
      "('58583', 'Califieri', 'History', 62000, None, '15151', 'MU-199', '1', 'Spring', 2010)\n",
      "('58583', 'Califieri', 'History', 62000, None, '22222', 'PHY-101', '1', 'Fall', 2009)\n",
      "('58583', 'Califieri', 'History', 62000, None, '32343', 'HIS-351', '1', 'Spring', 2010)\n",
      "('58583', 'Califieri', 'History', 62000, None, '45565', 'CS-101', '1', 'Spring', 2010)\n",
      "('58583', 'Califieri', 'History', 62000, None, '45565', 'CS-319', '1', 'Spring', 2010)\n",
      "('58583', 'Califieri', 'History', 62000, None, '76766', 'BIO-101', '1', 'Summer', 2009)\n",
      "('58583', 'Califieri', 'History', 62000, None, '76766', 'BIO-301', '1', 'Summer', 2010)\n",
      "('58583', 'Califieri', 'History', 62000, None, '83821', 'CS-190', '1', 'Spring', 2009)\n",
      "('58583', 'Califieri', 'History', 62000, None, '83821', 'CS-190', '2', 'Spring', 2009)\n",
      "('58583', 'Califieri', 'History', 62000, None, '83821', 'CS-319', '2', 'Spring', 2010)\n",
      "('58583', 'Califieri', 'History', 62000, None, '98345', 'EE-181', '1', 'Spring', 2009)\n",
      "('76543', 'Singh', 'Finance', 80000, None, '10101', 'CS-101', '1', 'Fall', 2009)\n",
      "('76543', 'Singh', 'Finance', 80000, None, '10101', 'CS-315', '1', 'Spring', 2010)\n",
      "('76543', 'Singh', 'Finance', 80000, None, '10101', 'CS-347', '1', 'Fall', 2009)\n",
      "('76543', 'Singh', 'Finance', 80000, None, '12121', 'FIN-201', '1', 'Spring', 2010)\n",
      "('76543', 'Singh', 'Finance', 80000, None, '15151', 'MU-199', '1', 'Spring', 2010)\n",
      "('76543', 'Singh', 'Finance', 80000, None, '22222', 'PHY-101', '1', 'Fall', 2009)\n",
      "('76543', 'Singh', 'Finance', 80000, None, '32343', 'HIS-351', '1', 'Spring', 2010)\n",
      "('76543', 'Singh', 'Finance', 80000, None, '45565', 'CS-101', '1', 'Spring', 2010)\n",
      "('76543', 'Singh', 'Finance', 80000, None, '45565', 'CS-319', '1', 'Spring', 2010)\n",
      "('76543', 'Singh', 'Finance', 80000, None, '76766', 'BIO-101', '1', 'Summer', 2009)\n",
      "('76543', 'Singh', 'Finance', 80000, None, '76766', 'BIO-301', '1', 'Summer', 2010)\n",
      "('76543', 'Singh', 'Finance', 80000, None, '83821', 'CS-190', '1', 'Spring', 2009)\n",
      "('76543', 'Singh', 'Finance', 80000, None, '83821', 'CS-190', '2', 'Spring', 2009)\n",
      "('76543', 'Singh', 'Finance', 80000, None, '83821', 'CS-319', '2', 'Spring', 2010)\n",
      "('76543', 'Singh', 'Finance', 80000, None, '98345', 'EE-181', '1', 'Spring', 2009)\n",
      "('76766', 'Crick', 'Biology', 72000, None, '10101', 'CS-101', '1', 'Fall', 2009)\n",
      "('76766', 'Crick', 'Biology', 72000, None, '10101', 'CS-315', '1', 'Spring', 2010)\n",
      "('76766', 'Crick', 'Biology', 72000, None, '10101', 'CS-347', '1', 'Fall', 2009)\n",
      "('76766', 'Crick', 'Biology', 72000, None, '12121', 'FIN-201', '1', 'Spring', 2010)\n",
      "('76766', 'Crick', 'Biology', 72000, None, '15151', 'MU-199', '1', 'Spring', 2010)\n",
      "('76766', 'Crick', 'Biology', 72000, None, '22222', 'PHY-101', '1', 'Fall', 2009)\n",
      "('76766', 'Crick', 'Biology', 72000, None, '32343', 'HIS-351', '1', 'Spring', 2010)\n",
      "('76766', 'Crick', 'Biology', 72000, None, '45565', 'CS-101', '1', 'Spring', 2010)\n",
      "('76766', 'Crick', 'Biology', 72000, None, '45565', 'CS-319', '1', 'Spring', 2010)\n",
      "('76766', 'Crick', 'Biology', 72000, None, '76766', 'BIO-101', '1', 'Summer', 2009)\n",
      "('76766', 'Crick', 'Biology', 72000, None, '76766', 'BIO-301', '1', 'Summer', 2010)\n",
      "('76766', 'Crick', 'Biology', 72000, None, '83821', 'CS-190', '1', 'Spring', 2009)\n",
      "('76766', 'Crick', 'Biology', 72000, None, '83821', 'CS-190', '2', 'Spring', 2009)\n",
      "('76766', 'Crick', 'Biology', 72000, None, '83821', 'CS-319', '2', 'Spring', 2010)\n",
      "('76766', 'Crick', 'Biology', 72000, None, '98345', 'EE-181', '1', 'Spring', 2009)\n",
      "('83821', 'Brandt', 'Comp. Sci.', 92000, None, '10101', 'CS-101', '1', 'Fall', 2009)\n",
      "('83821', 'Brandt', 'Comp. Sci.', 92000, None, '10101', 'CS-315', '1', 'Spring', 2010)\n",
      "('83821', 'Brandt', 'Comp. Sci.', 92000, None, '10101', 'CS-347', '1', 'Fall', 2009)\n",
      "('83821', 'Brandt', 'Comp. Sci.', 92000, None, '12121', 'FIN-201', '1', 'Spring', 2010)\n",
      "('83821', 'Brandt', 'Comp. Sci.', 92000, None, '15151', 'MU-199', '1', 'Spring', 2010)\n",
      "('83821', 'Brandt', 'Comp. Sci.', 92000, None, '22222', 'PHY-101', '1', 'Fall', 2009)\n",
      "('83821', 'Brandt', 'Comp. Sci.', 92000, None, '32343', 'HIS-351', '1', 'Spring', 2010)\n",
      "('83821', 'Brandt', 'Comp. Sci.', 92000, None, '45565', 'CS-101', '1', 'Spring', 2010)\n",
      "('83821', 'Brandt', 'Comp. Sci.', 92000, None, '45565', 'CS-319', '1', 'Spring', 2010)\n",
      "('83821', 'Brandt', 'Comp. Sci.', 92000, None, '76766', 'BIO-101', '1', 'Summer', 2009)\n",
      "('83821', 'Brandt', 'Comp. Sci.', 92000, None, '76766', 'BIO-301', '1', 'Summer', 2010)\n",
      "('83821', 'Brandt', 'Comp. Sci.', 92000, None, '83821', 'CS-190', '1', 'Spring', 2009)\n",
      "('83821', 'Brandt', 'Comp. Sci.', 92000, None, '83821', 'CS-190', '2', 'Spring', 2009)\n",
      "('83821', 'Brandt', 'Comp. Sci.', 92000, None, '83821', 'CS-319', '2', 'Spring', 2010)\n",
      "('83821', 'Brandt', 'Comp. Sci.', 92000, None, '98345', 'EE-181', '1', 'Spring', 2009)\n",
      "('98345', 'Kim', 'Elec. Eng.', 80000, None, '10101', 'CS-101', '1', 'Fall', 2009)\n",
      "('98345', 'Kim', 'Elec. Eng.', 80000, None, '10101', 'CS-315', '1', 'Spring', 2010)\n",
      "('98345', 'Kim', 'Elec. Eng.', 80000, None, '10101', 'CS-347', '1', 'Fall', 2009)\n",
      "('98345', 'Kim', 'Elec. Eng.', 80000, None, '12121', 'FIN-201', '1', 'Spring', 2010)\n",
      "('98345', 'Kim', 'Elec. Eng.', 80000, None, '15151', 'MU-199', '1', 'Spring', 2010)\n",
      "('98345', 'Kim', 'Elec. Eng.', 80000, None, '22222', 'PHY-101', '1', 'Fall', 2009)\n",
      "('98345', 'Kim', 'Elec. Eng.', 80000, None, '32343', 'HIS-351', '1', 'Spring', 2010)\n",
      "('98345', 'Kim', 'Elec. Eng.', 80000, None, '45565', 'CS-101', '1', 'Spring', 2010)\n",
      "('98345', 'Kim', 'Elec. Eng.', 80000, None, '45565', 'CS-319', '1', 'Spring', 2010)\n",
      "('98345', 'Kim', 'Elec. Eng.', 80000, None, '76766', 'BIO-101', '1', 'Summer', 2009)\n",
      "('98345', 'Kim', 'Elec. Eng.', 80000, None, '76766', 'BIO-301', '1', 'Summer', 2010)\n",
      "('98345', 'Kim', 'Elec. Eng.', 80000, None, '83821', 'CS-190', '1', 'Spring', 2009)\n",
      "('98345', 'Kim', 'Elec. Eng.', 80000, None, '83821', 'CS-190', '2', 'Spring', 2009)\n",
      "('98345', 'Kim', 'Elec. Eng.', 80000, None, '83821', 'CS-319', '2', 'Spring', 2010)\n",
      "('98345', 'Kim', 'Elec. Eng.', 80000, None, '98345', 'EE-181', '1', 'Spring', 2009)\n",
      "('10211', 'Aditya', 'SriDevi', 10000000, None, '10101', 'CS-101', '1', 'Fall', 2009)\n",
      "('10211', 'Aditya', 'SriDevi', 10000000, None, '10101', 'CS-315', '1', 'Spring', 2010)\n",
      "('10211', 'Aditya', 'SriDevi', 10000000, None, '10101', 'CS-347', '1', 'Fall', 2009)\n",
      "('10211', 'Aditya', 'SriDevi', 10000000, None, '12121', 'FIN-201', '1', 'Spring', 2010)\n",
      "('10211', 'Aditya', 'SriDevi', 10000000, None, '15151', 'MU-199', '1', 'Spring', 2010)\n",
      "('10211', 'Aditya', 'SriDevi', 10000000, None, '22222', 'PHY-101', '1', 'Fall', 2009)\n",
      "('10211', 'Aditya', 'SriDevi', 10000000, None, '32343', 'HIS-351', '1', 'Spring', 2010)\n",
      "('10211', 'Aditya', 'SriDevi', 10000000, None, '45565', 'CS-101', '1', 'Spring', 2010)\n",
      "('10211', 'Aditya', 'SriDevi', 10000000, None, '45565', 'CS-319', '1', 'Spring', 2010)\n",
      "('10211', 'Aditya', 'SriDevi', 10000000, None, '76766', 'BIO-101', '1', 'Summer', 2009)\n",
      "('10211', 'Aditya', 'SriDevi', 10000000, None, '76766', 'BIO-301', '1', 'Summer', 2010)\n",
      "('10211', 'Aditya', 'SriDevi', 10000000, None, '83821', 'CS-190', '1', 'Spring', 2009)\n",
      "('10211', 'Aditya', 'SriDevi', 10000000, None, '83821', 'CS-190', '2', 'Spring', 2009)\n",
      "('10211', 'Aditya', 'SriDevi', 10000000, None, '83821', 'CS-319', '2', 'Spring', 2010)\n",
      "('10211', 'Aditya', 'SriDevi', 10000000, None, '98345', 'EE-181', '1', 'Spring', 2009)\n"
     ]
    }
   ],
   "source": [
    "Query=\"\"\"\n",
    "SELECT *\n",
    "FROM instructor, teaches\n",
    "\"\"\"\n",
    "cursor.execute(Query) \n",
    "print(\"Fetch All:\")\n",
    "names = tuple(map(lambda x: x[0], cursor.description))\n",
    "print (names)\n",
    "result = cursor.fetchall() \n",
    "for r in result:\n",
    "    print(r)"
   ]
  },
  {
   "cell_type": "code",
   "execution_count": 16,
   "metadata": {
    "colab": {
     "base_uri": "https://localhost:8080/"
    },
    "executionInfo": {
     "elapsed": 5542,
     "status": "ok",
     "timestamp": 1605381827798,
     "user": {
      "displayName": "Krishna Srikar Durbha",
      "photoUrl": "https://lh3.googleusercontent.com/a-/AOh14Gi_fhrfhFoI_zUdU4n6HvkcXgnZntZMgLzM9uSJnQ=s64",
      "userId": "17130302814618439845"
     },
     "user_tz": -330
    },
    "id": "fPzV_DL2APWG",
    "outputId": "bb218faa-9b47-4290-a3f4-d5fab07d3218"
   },
   "outputs": [
    {
     "name": "stdout",
     "output_type": "stream",
     "text": [
      "Fetch All:\n",
      "('name', 'dept_name', 'course_id')\n",
      "('Aditya', 'SriDevi', 'CS-101')\n",
      "('Aditya', 'SriDevi', 'CS-315')\n",
      "('Aditya', 'SriDevi', 'CS-347')\n",
      "('Aditya', 'SriDevi', 'FIN-201')\n",
      "('Aditya', 'SriDevi', 'MU-199')\n",
      "('Aditya', 'SriDevi', 'PHY-101')\n",
      "('Aditya', 'SriDevi', 'HIS-351')\n",
      "('Aditya', 'SriDevi', 'CS-101')\n",
      "('Aditya', 'SriDevi', 'CS-319')\n",
      "('Aditya', 'SriDevi', 'BIO-101')\n",
      "('Aditya', 'SriDevi', 'BIO-301')\n",
      "('Aditya', 'SriDevi', 'CS-190')\n",
      "('Aditya', 'SriDevi', 'CS-190')\n",
      "('Aditya', 'SriDevi', 'CS-319')\n",
      "('Aditya', 'SriDevi', 'EE-181')\n"
     ]
    }
   ],
   "source": [
    "Query=\"\"\"\n",
    "SELECT name, dept_name, course_id\n",
    "FROM instructor, teaches\n",
    "where instructor.dept_name='SriDevi'\n",
    "\"\"\"\n",
    "cursor.execute(Query) \n",
    "print(\"Fetch All:\")\n",
    "names = tuple(map(lambda x: x[0], cursor.description))\n",
    "print (names)\n",
    "result = cursor.fetchall() \n",
    "for r in result:\n",
    "    print(r)"
   ]
  },
  {
   "cell_type": "code",
   "execution_count": 17,
   "metadata": {
    "colab": {
     "base_uri": "https://localhost:8080/"
    },
    "executionInfo": {
     "elapsed": 5520,
     "status": "ok",
     "timestamp": 1605381827801,
     "user": {
      "displayName": "Krishna Srikar Durbha",
      "photoUrl": "https://lh3.googleusercontent.com/a-/AOh14Gi_fhrfhFoI_zUdU4n6HvkcXgnZntZMgLzM9uSJnQ=s64",
      "userId": "17130302814618439845"
     },
     "user_tz": -330
    },
    "id": "jTc6lFYGBOaQ",
    "outputId": "81c0e828-aaf1-443e-9042-06a775fb5324"
   },
   "outputs": [
    {
     "name": "stdout",
     "output_type": "stream",
     "text": [
      "Fetch All:\n",
      "('name', 'salary', 'name', 'salary')\n",
      "('Srinivasan', 65000, 'Mozart', 40000)\n",
      "('Srinivasan', 65000, 'El Said', 60000)\n",
      "('Srinivasan', 65000, 'Califieri', 62000)\n",
      "('Wu', 90000, 'Srinivasan', 65000)\n",
      "('Wu', 90000, 'Mozart', 40000)\n",
      "('Wu', 90000, 'El Said', 60000)\n",
      "('Wu', 90000, 'Gold', 87000)\n",
      "('Wu', 90000, 'Katz', 75000)\n",
      "('Wu', 90000, 'Califieri', 62000)\n",
      "('Wu', 90000, 'Singh', 80000)\n",
      "('Wu', 90000, 'Crick', 72000)\n",
      "('Wu', 90000, 'Kim', 80000)\n",
      "('Einstein', 95000, 'Srinivasan', 65000)\n",
      "('Einstein', 95000, 'Wu', 90000)\n",
      "('Einstein', 95000, 'Mozart', 40000)\n",
      "('Einstein', 95000, 'El Said', 60000)\n",
      "('Einstein', 95000, 'Gold', 87000)\n",
      "('Einstein', 95000, 'Katz', 75000)\n",
      "('Einstein', 95000, 'Califieri', 62000)\n",
      "('Einstein', 95000, 'Singh', 80000)\n",
      "('Einstein', 95000, 'Crick', 72000)\n",
      "('Einstein', 95000, 'Brandt', 92000)\n",
      "('Einstein', 95000, 'Kim', 80000)\n",
      "('El Said', 60000, 'Mozart', 40000)\n",
      "('Gold', 87000, 'Srinivasan', 65000)\n",
      "('Gold', 87000, 'Mozart', 40000)\n",
      "('Gold', 87000, 'El Said', 60000)\n",
      "('Gold', 87000, 'Katz', 75000)\n",
      "('Gold', 87000, 'Califieri', 62000)\n",
      "('Gold', 87000, 'Singh', 80000)\n",
      "('Gold', 87000, 'Crick', 72000)\n",
      "('Gold', 87000, 'Kim', 80000)\n",
      "('Katz', 75000, 'Srinivasan', 65000)\n",
      "('Katz', 75000, 'Mozart', 40000)\n",
      "('Katz', 75000, 'El Said', 60000)\n",
      "('Katz', 75000, 'Califieri', 62000)\n",
      "('Katz', 75000, 'Crick', 72000)\n",
      "('Califieri', 62000, 'Mozart', 40000)\n",
      "('Califieri', 62000, 'El Said', 60000)\n",
      "('Singh', 80000, 'Srinivasan', 65000)\n",
      "('Singh', 80000, 'Mozart', 40000)\n",
      "('Singh', 80000, 'El Said', 60000)\n",
      "('Singh', 80000, 'Katz', 75000)\n",
      "('Singh', 80000, 'Califieri', 62000)\n",
      "('Singh', 80000, 'Crick', 72000)\n",
      "('Crick', 72000, 'Srinivasan', 65000)\n",
      "('Crick', 72000, 'Mozart', 40000)\n",
      "('Crick', 72000, 'El Said', 60000)\n",
      "('Crick', 72000, 'Califieri', 62000)\n",
      "('Brandt', 92000, 'Srinivasan', 65000)\n",
      "('Brandt', 92000, 'Wu', 90000)\n",
      "('Brandt', 92000, 'Mozart', 40000)\n",
      "('Brandt', 92000, 'El Said', 60000)\n",
      "('Brandt', 92000, 'Gold', 87000)\n",
      "('Brandt', 92000, 'Katz', 75000)\n",
      "('Brandt', 92000, 'Califieri', 62000)\n",
      "('Brandt', 92000, 'Singh', 80000)\n",
      "('Brandt', 92000, 'Crick', 72000)\n",
      "('Brandt', 92000, 'Kim', 80000)\n",
      "('Kim', 80000, 'Srinivasan', 65000)\n",
      "('Kim', 80000, 'Mozart', 40000)\n",
      "('Kim', 80000, 'El Said', 60000)\n",
      "('Kim', 80000, 'Katz', 75000)\n",
      "('Kim', 80000, 'Califieri', 62000)\n",
      "('Kim', 80000, 'Crick', 72000)\n",
      "('Aditya', 10000000, 'Srinivasan', 65000)\n",
      "('Aditya', 10000000, 'Wu', 90000)\n",
      "('Aditya', 10000000, 'Mozart', 40000)\n",
      "('Aditya', 10000000, 'Einstein', 95000)\n",
      "('Aditya', 10000000, 'El Said', 60000)\n",
      "('Aditya', 10000000, 'Gold', 87000)\n",
      "('Aditya', 10000000, 'Katz', 75000)\n",
      "('Aditya', 10000000, 'Califieri', 62000)\n",
      "('Aditya', 10000000, 'Singh', 80000)\n",
      "('Aditya', 10000000, 'Crick', 72000)\n",
      "('Aditya', 10000000, 'Brandt', 92000)\n",
      "('Aditya', 10000000, 'Kim', 80000)\n"
     ]
    }
   ],
   "source": [
    "Query=\"\"\"\n",
    "SELECT distinct T.name, T.salary, S.name, S.salary\n",
    "FROM instructor as T, instructor as S\n",
    "where T.salary > S.salary\n",
    "\"\"\"\n",
    "cursor.execute(Query) \n",
    "print(\"Fetch All:\")\n",
    "names = tuple(map(lambda x: x[0], cursor.description))\n",
    "print (names)\n",
    "result = cursor.fetchall() \n",
    "for r in result:\n",
    "    print(r)"
   ]
  },
  {
   "cell_type": "code",
   "execution_count": 18,
   "metadata": {
    "colab": {
     "base_uri": "https://localhost:8080/"
    },
    "executionInfo": {
     "elapsed": 5499,
     "status": "ok",
     "timestamp": 1605381827805,
     "user": {
      "displayName": "Krishna Srikar Durbha",
      "photoUrl": "https://lh3.googleusercontent.com/a-/AOh14Gi_fhrfhFoI_zUdU4n6HvkcXgnZntZMgLzM9uSJnQ=s64",
      "userId": "17130302814618439845"
     },
     "user_tz": -330
    },
    "id": "EnEnwra3EoKI",
    "outputId": "dc62a2be-c207-4281-a83e-a9c7ef834e1b"
   },
   "outputs": [
    {
     "name": "stdout",
     "output_type": "stream",
     "text": [
      "Fetch All:\n",
      "('name', 'dept_name')\n",
      "('Aditya', 'SriDevi')\n"
     ]
    }
   ],
   "source": [
    "Query=\"\"\"\n",
    "SELECT name,dept_name\n",
    "FROM instructor\n",
    "where name like '%it%'\n",
    "\"\"\"\n",
    "cursor.execute(Query) \n",
    "print(\"Fetch All:\")\n",
    "names = tuple(map(lambda x: x[0], cursor.description))\n",
    "print (names)\n",
    "result = cursor.fetchall() \n",
    "for r in result:\n",
    "    print(r)"
   ]
  },
  {
   "cell_type": "code",
   "execution_count": 19,
   "metadata": {
    "colab": {
     "base_uri": "https://localhost:8080/"
    },
    "executionInfo": {
     "elapsed": 5473,
     "status": "ok",
     "timestamp": 1605381827810,
     "user": {
      "displayName": "Krishna Srikar Durbha",
      "photoUrl": "https://lh3.googleusercontent.com/a-/AOh14Gi_fhrfhFoI_zUdU4n6HvkcXgnZntZMgLzM9uSJnQ=s64",
      "userId": "17130302814618439845"
     },
     "user_tz": -330
    },
    "id": "EEWshkKEFmPj",
    "outputId": "6a8bd29e-746b-441b-8ceb-d8a6744b206a"
   },
   "outputs": [
    {
     "name": "stdout",
     "output_type": "stream",
     "text": [
      "Fetch All:\n",
      "('dept_name', 'name')\n",
      "('Biology', 'Crick')\n",
      "('Comp. Sci.', 'Brandt')\n",
      "('Comp. Sci.', 'Katz')\n",
      "('Comp. Sci.', 'Srinivasan')\n",
      "('Elec. Eng.', 'Kim')\n",
      "('Finance', 'Singh')\n",
      "('Finance', 'Wu')\n",
      "('History', 'Califieri')\n",
      "('History', 'El Said')\n",
      "('Music', 'Mozart')\n",
      "('Physics', 'Einstein')\n",
      "('Physics', 'Gold')\n",
      "('SriDevi', 'Aditya')\n"
     ]
    }
   ],
   "source": [
    "Query=\"\"\"\n",
    "SELECT dept_name,name\n",
    "FROM instructor\n",
    "order by dept_name, name\n",
    "\"\"\"\n",
    "cursor.execute(Query) \n",
    "print(\"Fetch All:\")\n",
    "names = tuple(map(lambda x: x[0], cursor.description))\n",
    "print (names)\n",
    "result = cursor.fetchall() \n",
    "for r in result:\n",
    "    print(r)"
   ]
  },
  {
   "cell_type": "code",
   "execution_count": 20,
   "metadata": {
    "colab": {
     "base_uri": "https://localhost:8080/"
    },
    "executionInfo": {
     "elapsed": 5448,
     "status": "ok",
     "timestamp": 1605381827814,
     "user": {
      "displayName": "Krishna Srikar Durbha",
      "photoUrl": "https://lh3.googleusercontent.com/a-/AOh14Gi_fhrfhFoI_zUdU4n6HvkcXgnZntZMgLzM9uSJnQ=s64",
      "userId": "17130302814618439845"
     },
     "user_tz": -330
    },
    "id": "Leq38DX_G9CA",
    "outputId": "55deb0fe-41b5-4894-a557-9577312fd064"
   },
   "outputs": [
    {
     "name": "stdout",
     "output_type": "stream",
     "text": [
      "Fetch All:\n",
      "('name', 'dept_name', 'salary')\n",
      "('Califieri', 'History', 62000)\n",
      "('El Said', 'History', 60000)\n",
      "('Mozart', 'Music', 40000)\n",
      "('Srinivasan', 'Comp. Sci.', 65000)\n"
     ]
    }
   ],
   "source": [
    "Query=\"\"\"\n",
    "SELECT name,dept_name,salary\n",
    "FROM instructor\n",
    "where salary between 40000 and 70000\n",
    "order by name\n",
    "\"\"\"\n",
    "cursor.execute(Query) \n",
    "print(\"Fetch All:\")\n",
    "names = tuple(map(lambda x: x[0], cursor.description))\n",
    "print (names)\n",
    "result = cursor.fetchall() \n",
    "for r in result:\n",
    "    print(r)"
   ]
  },
  {
   "cell_type": "code",
   "execution_count": 21,
   "metadata": {
    "colab": {
     "base_uri": "https://localhost:8080/"
    },
    "executionInfo": {
     "elapsed": 5427,
     "status": "ok",
     "timestamp": 1605381827816,
     "user": {
      "displayName": "Krishna Srikar Durbha",
      "photoUrl": "https://lh3.googleusercontent.com/a-/AOh14Gi_fhrfhFoI_zUdU4n6HvkcXgnZntZMgLzM9uSJnQ=s64",
      "userId": "17130302814618439845"
     },
     "user_tz": -330
    },
    "id": "9l5cFIxMIpmN",
    "outputId": "9fa15163-bddc-4473-f3fc-634f65fb4161"
   },
   "outputs": [
    {
     "name": "stdout",
     "output_type": "stream",
     "text": [
      "Fetch All:\n",
      "('course_id',)\n",
      "('CS-101',)\n",
      "('CS-315',)\n",
      "('CS-319',)\n",
      "('CS-347',)\n",
      "('FIN-201',)\n",
      "('HIS-351',)\n",
      "('MU-199',)\n",
      "('PHY-101',)\n"
     ]
    }
   ],
   "source": [
    "Query=\"\"\"\n",
    "SELECT course_id from section where semester='Fall' and year=2009\n",
    "union\n",
    "select course_id from section where semester='Spring' and year=2010\n",
    "\"\"\"\n",
    "cursor.execute(Query) \n",
    "print(\"Fetch All:\")\n",
    "names = tuple(map(lambda x: x[0], cursor.description))\n",
    "print (names)\n",
    "result = cursor.fetchall() \n",
    "for r in result:\n",
    "    print(r)"
   ]
  },
  {
   "cell_type": "code",
   "execution_count": 22,
   "metadata": {
    "colab": {
     "base_uri": "https://localhost:8080/"
    },
    "executionInfo": {
     "elapsed": 5406,
     "status": "ok",
     "timestamp": 1605381827820,
     "user": {
      "displayName": "Krishna Srikar Durbha",
      "photoUrl": "https://lh3.googleusercontent.com/a-/AOh14Gi_fhrfhFoI_zUdU4n6HvkcXgnZntZMgLzM9uSJnQ=s64",
      "userId": "17130302814618439845"
     },
     "user_tz": -330
    },
    "id": "EClFYLxnKWQI",
    "outputId": "2aed55fc-2901-4df6-a783-15becedb94fd"
   },
   "outputs": [
    {
     "name": "stdout",
     "output_type": "stream",
     "text": [
      "Fetch All:\n",
      "('avg(salary)',)\n",
      "(838307.6923076923,)\n"
     ]
    }
   ],
   "source": [
    "Query=\"\"\"\n",
    "SELECT avg(salary)\n",
    "FROM instructor\n",
    "where cgpa is null\n",
    "\"\"\"\n",
    "cursor.execute(Query) \n",
    "print(\"Fetch All:\")\n",
    "names = tuple(map(lambda x: x[0], cursor.description))\n",
    "print (names)\n",
    "result = cursor.fetchall() \n",
    "for r in result:\n",
    "    print(r)"
   ]
  },
  {
   "cell_type": "code",
   "execution_count": 23,
   "metadata": {
    "colab": {
     "base_uri": "https://localhost:8080/"
    },
    "executionInfo": {
     "elapsed": 5400,
     "status": "ok",
     "timestamp": 1605381827837,
     "user": {
      "displayName": "Krishna Srikar Durbha",
      "photoUrl": "https://lh3.googleusercontent.com/a-/AOh14Gi_fhrfhFoI_zUdU4n6HvkcXgnZntZMgLzM9uSJnQ=s64",
      "userId": "17130302814618439845"
     },
     "user_tz": -330
    },
    "id": "aCLSxb0XLR-b",
    "outputId": "5f134819-eedd-40e1-ba2a-03ef4f78e200"
   },
   "outputs": [
    {
     "name": "stdout",
     "output_type": "stream",
     "text": [
      "Fetch All:\n",
      "('dept_name', 'avg(salary)')\n",
      "('Biology', 72000.0)\n",
      "('Comp. Sci.', 77333.33333333333)\n",
      "('Elec. Eng.', 80000.0)\n",
      "('Finance', 85000.0)\n",
      "('History', 61000.0)\n",
      "('Music', 40000.0)\n",
      "('Physics', 91000.0)\n",
      "('SriDevi', 10000000.0)\n"
     ]
    }
   ],
   "source": [
    "Query=\"\"\"\n",
    "SELECT dept_name, avg(salary)\n",
    "FROM instructor\n",
    "where cgpa is null\n",
    "group by dept_name\n",
    "\"\"\"\n",
    "cursor.execute(Query) \n",
    "print(\"Fetch All:\")\n",
    "names = tuple(map(lambda x: x[0], cursor.description))\n",
    "print (names)\n",
    "result = cursor.fetchall() \n",
    "for r in result:\n",
    "    print(r)"
   ]
  },
  {
   "cell_type": "code",
   "execution_count": 24,
   "metadata": {
    "colab": {
     "base_uri": "https://localhost:8080/"
    },
    "executionInfo": {
     "elapsed": 5376,
     "status": "ok",
     "timestamp": 1605381827842,
     "user": {
      "displayName": "Krishna Srikar Durbha",
      "photoUrl": "https://lh3.googleusercontent.com/a-/AOh14Gi_fhrfhFoI_zUdU4n6HvkcXgnZntZMgLzM9uSJnQ=s64",
      "userId": "17130302814618439845"
     },
     "user_tz": -330
    },
    "id": "G5oLVvB0LgKt",
    "outputId": "d89fcb80-306a-477a-8382-0f8c62f65dc5"
   },
   "outputs": [
    {
     "name": "stdout",
     "output_type": "stream",
     "text": [
      "Fetch All:\n",
      "('dept_name', 'avg(salary)')\n",
      "('Biology', 72000.0)\n",
      "('Comp. Sci.', 77333.33333333333)\n",
      "('Elec. Eng.', 80000.0)\n",
      "('Finance', 85000.0)\n",
      "('Physics', 91000.0)\n",
      "('SriDevi', 10000000.0)\n"
     ]
    }
   ],
   "source": [
    "Query=\"\"\"\n",
    "SELECT dept_name, avg(salary)\n",
    "FROM instructor\n",
    "where cgpa is null\n",
    "group by dept_name\n",
    "having avg(salary) > 70000\n",
    "\"\"\"\n",
    "cursor.execute(Query) \n",
    "print(\"Fetch All:\")\n",
    "names = tuple(map(lambda x: x[0], cursor.description))\n",
    "print (names)\n",
    "result = cursor.fetchall() \n",
    "for r in result:\n",
    "    print(r)"
   ]
  },
  {
   "cell_type": "code",
   "execution_count": 25,
   "metadata": {
    "colab": {
     "base_uri": "https://localhost:8080/"
    },
    "executionInfo": {
     "elapsed": 1257,
     "status": "ok",
     "timestamp": 1605381945006,
     "user": {
      "displayName": "Krishna Srikar Durbha",
      "photoUrl": "https://lh3.googleusercontent.com/a-/AOh14Gi_fhrfhFoI_zUdU4n6HvkcXgnZntZMgLzM9uSJnQ=s64",
      "userId": "17130302814618439845"
     },
     "user_tz": -330
    },
    "id": "qLdzC8xKMdV7",
    "outputId": "2b95ce23-1a17-4a32-9f53-b6c81393a3a9"
   },
   "outputs": [
    {
     "name": "stdout",
     "output_type": "stream",
     "text": [
      "Fetch All:\n",
      "('course_id',)\n",
      "('CS-347',)\n",
      "('PHY-101',)\n"
     ]
    }
   ],
   "source": [
    "Query=\"\"\"\n",
    "select distinct course_id\n",
    "from section\n",
    "where semester = 'Fall' and year= 2009 and\n",
    "    course_id not in (select course_id\n",
    "                    from section\n",
    "                    where semester = 'Spring' and year= 2010);\n",
    "\"\"\"\n",
    "cursor.execute(Query) \n",
    "print(\"Fetch All:\")\n",
    "names = tuple(map(lambda x: x[0], cursor.description))\n",
    "print (names)\n",
    "result = cursor.fetchall() \n",
    "for r in result:\n",
    "    print(r)"
   ]
  },
  {
   "cell_type": "code",
   "execution_count": 26,
   "metadata": {
    "colab": {
     "base_uri": "https://localhost:8080/"
    },
    "executionInfo": {
     "elapsed": 986,
     "status": "ok",
     "timestamp": 1605381948842,
     "user": {
      "displayName": "Krishna Srikar Durbha",
      "photoUrl": "https://lh3.googleusercontent.com/a-/AOh14Gi_fhrfhFoI_zUdU4n6HvkcXgnZntZMgLzM9uSJnQ=s64",
      "userId": "17130302814618439845"
     },
     "user_tz": -330
    },
    "id": "UYLOtAl7NGAX",
    "outputId": "c2c20a05-2dc2-4bea-8f9d-aa404b4380cc"
   },
   "outputs": [
    {
     "name": "stdout",
     "output_type": "stream",
     "text": [
      "Fetch All:\n",
      "('course_id',)\n",
      "('CS-347',)\n",
      "('PHY-101',)\n"
     ]
    }
   ],
   "source": [
    "Query=\"\"\"\n",
    "select distinct course_id from section where semester = 'Fall' and year=2009\n",
    "except\n",
    "select course_id from section where semester = 'Spring' and year=2010\n",
    "\"\"\"\n",
    "cursor.execute(Query) \n",
    "print(\"Fetch All:\")\n",
    "names = tuple(map(lambda x: x[0], cursor.description))\n",
    "print (names)\n",
    "result = cursor.fetchall() \n",
    "for r in result:\n",
    "    print(r)"
   ]
  },
  {
   "cell_type": "code",
   "execution_count": 27,
   "metadata": {
    "colab": {
     "base_uri": "https://localhost:8080/"
    },
    "executionInfo": {
     "elapsed": 2374,
     "status": "ok",
     "timestamp": 1605382759605,
     "user": {
      "displayName": "Krishna Srikar Durbha",
      "photoUrl": "https://lh3.googleusercontent.com/a-/AOh14Gi_fhrfhFoI_zUdU4n6HvkcXgnZntZMgLzM9uSJnQ=s64",
      "userId": "17130302814618439845"
     },
     "user_tz": -330
    },
    "id": "mLezcMxBOV1u",
    "outputId": "2fc2f289-6f8c-4d14-ec91-54952135e549"
   },
   "outputs": [
    {
     "name": "stdout",
     "output_type": "stream",
     "text": [
      "Fetch All:\n",
      "('course_id',)\n",
      "('CS-347',)\n",
      "('PHY-101',)\n"
     ]
    }
   ],
   "source": [
    "Query=\"\"\"\n",
    "select distinct course_id from section where semester = 'Fall' and year=2009\n",
    "except\n",
    "select course_id from section where semester = 'Spring' and year=2010\n",
    "\"\"\"\n",
    "cursor.execute(Query) \n",
    "print(\"Fetch All:\")\n",
    "names = tuple(map(lambda x: x[0], cursor.description))\n",
    "print (names)\n",
    "result = cursor.fetchall() \n",
    "for r in result:\n",
    "    print(r)"
   ]
  },
  {
   "cell_type": "code",
   "execution_count": 28,
   "metadata": {
    "colab": {
     "base_uri": "https://localhost:8080/"
    },
    "executionInfo": {
     "elapsed": 2499,
     "status": "ok",
     "timestamp": 1605382835189,
     "user": {
      "displayName": "Krishna Srikar Durbha",
      "photoUrl": "https://lh3.googleusercontent.com/a-/AOh14Gi_fhrfhFoI_zUdU4n6HvkcXgnZntZMgLzM9uSJnQ=s64",
      "userId": "17130302814618439845"
     },
     "user_tz": -330
    },
    "id": "pewOn2uYRdVv",
    "outputId": "984800a1-cc73-4302-caef-1501c2c98d94"
   },
   "outputs": [
    {
     "name": "stdout",
     "output_type": "stream",
     "text": [
      "Fetch All:\n",
      "('dept_name', 'building', 'budget')\n",
      "('Biology', 'Watson', 90000)\n",
      "('Comp. Sci.', 'Taylor', 100000)\n",
      "('Elec. Eng.', 'Taylor', 85000)\n",
      "('Finance', 'Painter', 120000)\n",
      "('History', 'Painter', 50000)\n",
      "('Music', 'Packard', 80000)\n",
      "('Physics', 'Watson', 70000)\n"
     ]
    }
   ],
   "source": [
    "Query=\"\"\"\n",
    "select *\n",
    "from department\n",
    "\"\"\"\n",
    "cursor.execute(Query) \n",
    "print(\"Fetch All:\")\n",
    "names = tuple(map(lambda x: x[0], cursor.description))\n",
    "print (names)\n",
    "result = cursor.fetchall() \n",
    "for r in result:\n",
    "    print(r)"
   ]
  },
  {
   "cell_type": "code",
   "execution_count": 29,
   "metadata": {
    "colab": {
     "base_uri": "https://localhost:8080/"
    },
    "executionInfo": {
     "elapsed": 1192,
     "status": "ok",
     "timestamp": 1605382888149,
     "user": {
      "displayName": "Krishna Srikar Durbha",
      "photoUrl": "https://lh3.googleusercontent.com/a-/AOh14Gi_fhrfhFoI_zUdU4n6HvkcXgnZntZMgLzM9uSJnQ=s64",
      "userId": "17130302814618439845"
     },
     "user_tz": -330
    },
    "id": "dkems-2uROsF",
    "outputId": "6d6f6deb-dac6-493b-bf91-859387938826"
   },
   "outputs": [
    {
     "name": "stdout",
     "output_type": "stream",
     "text": [
      "Fetch All:\n",
      "('budget', 'dept_name')\n",
      "(120000, 'Finance')\n"
     ]
    }
   ],
   "source": [
    "Query=\"\"\"\n",
    "with max_budget (value) as\n",
    "    (select max(budget)\n",
    "    from department)\n",
    "select budget, dept_name\n",
    "from department, max_budget\n",
    "where department.budget = max_budget.value;\n",
    "\"\"\"\n",
    "cursor.execute(Query) \n",
    "print(\"Fetch All:\")\n",
    "names = tuple(map(lambda x: x[0], cursor.description))\n",
    "print (names)\n",
    "result = cursor.fetchall() \n",
    "for r in result:\n",
    "    print(r)"
   ]
  },
  {
   "cell_type": "code",
   "execution_count": 30,
   "metadata": {
    "colab": {
     "base_uri": "https://localhost:8080/"
    },
    "executionInfo": {
     "elapsed": 1480,
     "status": "ok",
     "timestamp": 1605383272534,
     "user": {
      "displayName": "Krishna Srikar Durbha",
      "photoUrl": "https://lh3.googleusercontent.com/a-/AOh14Gi_fhrfhFoI_zUdU4n6HvkcXgnZntZMgLzM9uSJnQ=s64",
      "userId": "17130302814618439845"
     },
     "user_tz": -330
    },
    "id": "tnkxjH4CSBY1",
    "outputId": "a83d7b4a-e375-4d67-99dd-3a8005d9c9a2"
   },
   "outputs": [
    {
     "name": "stdout",
     "output_type": "stream",
     "text": [
      "Fetch All:\n",
      "('name', 'dept_name')\n",
      "('Aditya', 'SriDevi')\n"
     ]
    }
   ],
   "source": [
    "Query=\"\"\"\n",
    "with dept_total (name, dept_name, value) as\n",
    "    (select name, dept_name, sum(salary)\n",
    "    from instructor\n",
    "    group by dept_name),\n",
    "dept_total_avg(name, value) as\n",
    "    (select name, avg(value)\n",
    "    from dept_total)\n",
    "select dept_total.name,dept_name\n",
    "from dept_total, dept_total_avg\n",
    "where dept_total.value >= dept_total_avg.value;\n",
    "\"\"\"\n",
    "cursor.execute(Query) \n",
    "print(\"Fetch All:\")\n",
    "names = tuple(map(lambda x: x[0], cursor.description))\n",
    "print (names)\n",
    "result = cursor.fetchall() \n",
    "for r in result:\n",
    "    print(r)"
   ]
  }
 ],
 "metadata": {
  "colab": {
   "collapsed_sections": [],
   "name": "DBMS-1.ipynb",
   "provenance": []
  },
  "kernelspec": {
   "display_name": "Python 3",
   "language": "python",
   "name": "python3"
  },
  "language_info": {
   "codemirror_mode": {
    "name": "ipython",
    "version": 3
   },
   "file_extension": ".py",
   "mimetype": "text/x-python",
   "name": "python",
   "nbconvert_exporter": "python",
   "pygments_lexer": "ipython3",
   "version": "3.6.9"
  }
 },
 "nbformat": 4,
 "nbformat_minor": 1
}
