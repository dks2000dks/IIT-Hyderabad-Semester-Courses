{
 "cells": [
  {
   "cell_type": "markdown",
   "metadata": {
    "id": "w5CWEVeAiWcw"
   },
   "source": [
    "# DBMS-1\n",
    "\n",
    "Learning SQL"
   ]
  },
  {
   "cell_type": "markdown",
   "metadata": {
    "id": "J3qde7SsgQPb"
   },
   "source": [
    "#### Python Libraries and Definitions\n",
    "\n"
   ]
  },
  {
   "cell_type": "code",
   "execution_count": 1,
   "metadata": {
    "executionInfo": {
     "elapsed": 1390,
     "status": "ok",
     "timestamp": 1605423114858,
     "user": {
      "displayName": "Krishna Srikar Durbha",
      "photoUrl": "https://lh3.googleusercontent.com/a-/AOh14GguyCk7fMoxlGF33hgpv82v6EoSOX-IYmZSxvBGVw=s64",
      "userId": "03841998749584242455"
     },
     "user_tz": -330
    },
    "id": "KxIKcQ3dgLbd"
   },
   "outputs": [],
   "source": [
    "import sqlite3"
   ]
  },
  {
   "cell_type": "markdown",
   "metadata": {
    "id": "Cg5pxLesi9l6"
   },
   "source": [
    "Reading Commands from .sql file"
   ]
  },
  {
   "cell_type": "code",
   "execution_count": 2,
   "metadata": {
    "executionInfo": {
     "elapsed": 1081,
     "status": "ok",
     "timestamp": 1605423114860,
     "user": {
      "displayName": "Krishna Srikar Durbha",
      "photoUrl": "https://lh3.googleusercontent.com/a-/AOh14GguyCk7fMoxlGF33hgpv82v6EoSOX-IYmZSxvBGVw=s64",
      "userId": "03841998749584242455"
     },
     "user_tz": -330
    },
    "id": "MfxKSS75jFuc"
   },
   "outputs": [],
   "source": [
    "def Extract(FilePath):\n",
    "    f = open(FilePath)\n",
    "    s = f.read()\n",
    "    return s"
   ]
  },
  {
   "cell_type": "markdown",
   "metadata": {
    "id": "9kWHKQE1g1Xi"
   },
   "source": [
    "#### Q1"
   ]
  },
  {
   "cell_type": "code",
   "execution_count": 3,
   "metadata": {
    "colab": {
     "base_uri": "https://localhost:8080/"
    },
    "executionInfo": {
     "elapsed": 1248,
     "status": "ok",
     "timestamp": 1605423138164,
     "user": {
      "displayName": "Krishna Srikar Durbha",
      "photoUrl": "https://lh3.googleusercontent.com/a-/AOh14GguyCk7fMoxlGF33hgpv82v6EoSOX-IYmZSxvBGVw=s64",
      "userId": "03841998749584242455"
     },
     "user_tz": -330
    },
    "id": "3O_vrYMsgY_F",
    "outputId": "ed8e88d5-c859-4407-e793-8bd0ab67f037"
   },
   "outputs": [
    {
     "data": {
      "text/plain": [
       "<sqlite3.Cursor at 0x7fb3781102d0>"
      ]
     },
     "execution_count": 3,
     "metadata": {},
     "output_type": "execute_result"
    }
   ],
   "source": [
    "connection = sqlite3.connect(\"DataBases/Q1.db\")\n",
    "cursor = connection.cursor()\n",
    "\n",
    "Command=\"\"\"\n",
    "create table E\n",
    "\t(enr\t\tvarchar(15),\n",
    "\t ename\t\tvarchar(7),\n",
    "\t dept\t\tvarchar(7),\n",
    "\t primary key (enr)\n",
    "\t);\n",
    "\"\"\"\n",
    "cursor.executescript(Command)\n",
    "\n",
    "\n",
    "Command=\"\"\"\n",
    "create table D\n",
    "\t(dnr\t\tvarchar(7),\n",
    "\tdname\t\tvarchar(15),\n",
    "\t primary key (dnr)\n",
    "\t);\n",
    "\"\"\"\n",
    "cursor.executescript(Command)"
   ]
  },
  {
   "cell_type": "code",
   "execution_count": 4,
   "metadata": {
    "colab": {
     "base_uri": "https://localhost:8080/"
    },
    "executionInfo": {
     "elapsed": 1197,
     "status": "ok",
     "timestamp": 1605423204161,
     "user": {
      "displayName": "Krishna Srikar Durbha",
      "photoUrl": "https://lh3.googleusercontent.com/a-/AOh14GguyCk7fMoxlGF33hgpv82v6EoSOX-IYmZSxvBGVw=s64",
      "userId": "03841998749584242455"
     },
     "user_tz": -330
    },
    "id": "cbV4omPGrKep",
    "outputId": "a44286c0-f26b-461d-95a5-9bfe3aab2157"
   },
   "outputs": [
    {
     "data": {
      "text/plain": [
       "<sqlite3.Cursor at 0x7fb3781102d0>"
      ]
     },
     "execution_count": 4,
     "metadata": {},
     "output_type": "execute_result"
    }
   ],
   "source": [
    "Command=\"\"\"\n",
    "insert into E values ('1', 'Bill', 'A');\n",
    "insert into E values ('2', 'Sarah', 'C');\n",
    "insert into E values ('3', 'John', 'A');\n",
    "\"\"\"\n",
    "cursor.executescript(Command)\n",
    "\n",
    "Command=\"\"\"\n",
    "insert into D values ('A', 'Marketing');\n",
    "insert into D values ('B', 'Sales');\n",
    "insert into D values ('C', 'Legal');\n",
    "\"\"\"\n",
    "cursor.executescript(Command)\n"
   ]
  },
  {
   "cell_type": "code",
   "execution_count": 5,
   "metadata": {
    "colab": {
     "base_uri": "https://localhost:8080/"
    },
    "executionInfo": {
     "elapsed": 3112,
     "status": "ok",
     "timestamp": 1605423343675,
     "user": {
      "displayName": "Krishna Srikar Durbha",
      "photoUrl": "https://lh3.googleusercontent.com/a-/AOh14GguyCk7fMoxlGF33hgpv82v6EoSOX-IYmZSxvBGVw=s64",
      "userId": "03841998749584242455"
     },
     "user_tz": -330
    },
    "id": "pvGt_SuUrhKR",
    "outputId": "f634b316-b81d-4299-b87a-19a2b227b039"
   },
   "outputs": [
    {
     "name": "stdout",
     "output_type": "stream",
     "text": [
      "Fetch All:\n",
      "('enr', 'ename', 'dept', 'dnr', 'dname')\n",
      "('1', 'Bill', 'A', 'A', 'Marketing')\n",
      "('1', 'Bill', 'A', 'B', 'Sales')\n",
      "('1', 'Bill', 'A', 'C', 'Legal')\n",
      "('2', 'Sarah', 'C', 'A', 'Marketing')\n",
      "('2', 'Sarah', 'C', 'B', 'Sales')\n",
      "('2', 'Sarah', 'C', 'C', 'Legal')\n",
      "('3', 'John', 'A', 'A', 'Marketing')\n",
      "('3', 'John', 'A', 'B', 'Sales')\n",
      "('3', 'John', 'A', 'C', 'Legal')\n"
     ]
    }
   ],
   "source": [
    "Query=\"\"\"\n",
    "Select *\n",
    "from E,D;\n",
    "\"\"\"\n",
    "cursor.execute(Query) \n",
    "print(\"Fetch All:\")\n",
    "names = tuple(map(lambda x: x[0], cursor.description))\n",
    "print (names)\n",
    "result = cursor.fetchall() \n",
    "for r in result:\n",
    "    print(r)"
   ]
  },
  {
   "cell_type": "code",
   "execution_count": 6,
   "metadata": {
    "colab": {
     "base_uri": "https://localhost:8080/"
    },
    "executionInfo": {
     "elapsed": 3108,
     "status": "ok",
     "timestamp": 1605423343677,
     "user": {
      "displayName": "Krishna Srikar Durbha",
      "photoUrl": "https://lh3.googleusercontent.com/a-/AOh14GguyCk7fMoxlGF33hgpv82v6EoSOX-IYmZSxvBGVw=s64",
      "userId": "03841998749584242455"
     },
     "user_tz": -330
    },
    "id": "R3v5HYPvr8ZX",
    "outputId": "e3eed661-56a5-489d-e00e-f2a448157245"
   },
   "outputs": [
    {
     "name": "stdout",
     "output_type": "stream",
     "text": [
      "Fetch All:\n",
      "('enr', 'ename', 'dept', 'dnr', 'dname')\n",
      "('1', 'Bill', 'A', 'A', 'Marketing')\n",
      "('2', 'Sarah', 'C', 'C', 'Legal')\n",
      "('3', 'John', 'A', 'A', 'Marketing')\n"
     ]
    }
   ],
   "source": [
    "Query=\"\"\"\n",
    "Select *\n",
    "from E,D\n",
    "where dept=dnr;\n",
    "\"\"\"\n",
    "cursor.execute(Query) \n",
    "print(\"Fetch All:\")\n",
    "names = tuple(map(lambda x: x[0], cursor.description))\n",
    "print (names)\n",
    "result = cursor.fetchall() \n",
    "for r in result:\n",
    "    print(r)"
   ]
  },
  {
   "cell_type": "markdown",
   "metadata": {
    "id": "rucl3LkP4lGs"
   },
   "source": [
    "#### Q4\n"
   ]
  },
  {
   "cell_type": "code",
   "execution_count": 7,
   "metadata": {
    "id": "_e874COV4m1z"
   },
   "outputs": [
    {
     "data": {
      "text/plain": [
       "<sqlite3.Cursor at 0x7fb3781101f0>"
      ]
     },
     "execution_count": 7,
     "metadata": {},
     "output_type": "execute_result"
    }
   ],
   "source": [
    "connection = sqlite3.connect(\"DataBases/Q4.db\")\n",
    "cursor = connection.cursor()\n",
    "\n",
    "Command=\"\"\"\n",
    "create table TNL\n",
    "\t(Nmbr\t \t\tfloat\n",
    "\t);\n",
    "\"\"\"\n",
    "cursor.executescript(Command)\n",
    "\n",
    "Command=\"\"\"\n",
    "insert into TNL values (1);\n",
    "insert into TNL values (0);\n",
    "insert into TNL values (0);\n",
    "insert into TNL values (1);\n",
    "insert into TNL values (1);\n",
    "insert into TNL values (1);\n",
    "insert into TNL values (1);\n",
    "insert into TNL values (0);\n",
    "insert into TNL values (0);\n",
    "insert into TNL values (1);\n",
    "insert into TNL values (0);\n",
    "insert into TNL values (1);\n",
    "insert into TNL values (0);\n",
    "insert into TNL values (1);\n",
    "insert into TNL values (0);\n",
    "insert into TNL values (1);\n",
    "\"\"\"\n",
    "\n",
    "cursor.executescript(Command)"
   ]
  },
  {
   "cell_type": "code",
   "execution_count": 8,
   "metadata": {
    "colab": {
     "base_uri": "https://localhost:8080/"
    },
    "executionInfo": {
     "elapsed": 1705,
     "status": "ok",
     "timestamp": 1605427105514,
     "user": {
      "displayName": "Krishna Srikar Durbha",
      "photoUrl": "https://lh3.googleusercontent.com/a-/AOh14GguyCk7fMoxlGF33hgpv82v6EoSOX-IYmZSxvBGVw=s64",
      "userId": "03841998749584242455"
     },
     "user_tz": -330
    },
    "id": "kKzpiMNK5VzK",
    "outputId": "801a5190-3cd3-43c5-b2ce-7766622506fb"
   },
   "outputs": [
    {
     "name": "stdout",
     "output_type": "stream",
     "text": [
      "Fetch All:\n",
      "('Nmbr',)\n",
      "(1.0,)\n",
      "(0.0,)\n",
      "(0.0,)\n",
      "(1.0,)\n",
      "(1.0,)\n",
      "(1.0,)\n",
      "(1.0,)\n",
      "(0.0,)\n",
      "(0.0,)\n",
      "(1.0,)\n",
      "(0.0,)\n",
      "(1.0,)\n",
      "(0.0,)\n",
      "(1.0,)\n",
      "(0.0,)\n",
      "(1.0,)\n"
     ]
    }
   ],
   "source": [
    "Query=\"\"\"\n",
    "Select *\n",
    "from TNL\n",
    "\"\"\"\n",
    "cursor.execute(Query) \n",
    "print(\"Fetch All:\")\n",
    "names = tuple(map(lambda x: x[0], cursor.description))\n",
    "print (names)\n",
    "result = cursor.fetchall() \n",
    "for r in result:\n",
    "    print(r)"
   ]
  },
  {
   "cell_type": "code",
   "execution_count": 9,
   "metadata": {
    "colab": {
     "base_uri": "https://localhost:8080/"
    },
    "executionInfo": {
     "elapsed": 1157,
     "status": "ok",
     "timestamp": 1605427108513,
     "user": {
      "displayName": "Krishna Srikar Durbha",
      "photoUrl": "https://lh3.googleusercontent.com/a-/AOh14GguyCk7fMoxlGF33hgpv82v6EoSOX-IYmZSxvBGVw=s64",
      "userId": "03841998749584242455"
     },
     "user_tz": -330
    },
    "id": "i8-uUXaI5bka",
    "outputId": "f7fe959b-de30-4ddb-9c6a-2ac906c711a2"
   },
   "outputs": [
    {
     "name": "stdout",
     "output_type": "stream",
     "text": [
      "Fetch All:\n",
      "('Nmbr',)\n",
      "(4.0,)\n",
      "(2.0,)\n",
      "(2.0,)\n",
      "(4.0,)\n",
      "(4.0,)\n",
      "(4.0,)\n",
      "(4.0,)\n",
      "(2.0,)\n",
      "(2.0,)\n",
      "(4.0,)\n",
      "(2.0,)\n",
      "(4.0,)\n",
      "(2.0,)\n",
      "(4.0,)\n",
      "(2.0,)\n",
      "(4.0,)\n"
     ]
    }
   ],
   "source": [
    "Query=\"\"\"\n",
    "Update TNL\n",
    "set Nmbr = case\n",
    "            when Nmbr = 0 then Nmbr + 2\n",
    "            else Nmbr + 3\n",
    "            end;\n",
    "\"\"\"\n",
    "cursor.execute(Query) \n",
    "\n",
    "Query=\"\"\"\n",
    "Select *\n",
    "from TNL\n",
    "\"\"\"\n",
    "cursor.execute(Query) \n",
    "print(\"Fetch All:\")\n",
    "names = tuple(map(lambda x: x[0], cursor.description))\n",
    "print (names)\n",
    "result = cursor.fetchall() \n",
    "for r in result:\n",
    "    print(r)"
   ]
  },
  {
   "cell_type": "markdown",
   "metadata": {
    "id": "QXCU-jyA7usd"
   },
   "source": [
    "#### Q10"
   ]
  },
  {
   "cell_type": "code",
   "execution_count": 10,
   "metadata": {
    "colab": {
     "base_uri": "https://localhost:8080/"
    },
    "executionInfo": {
     "elapsed": 1948,
     "status": "ok",
     "timestamp": 1605427598730,
     "user": {
      "displayName": "Krishna Srikar Durbha",
      "photoUrl": "https://lh3.googleusercontent.com/a-/AOh14GguyCk7fMoxlGF33hgpv82v6EoSOX-IYmZSxvBGVw=s64",
      "userId": "03841998749584242455"
     },
     "user_tz": -330
    },
    "id": "qclMlrpB6J0z",
    "outputId": "4148bd17-fa09-4965-a2d4-b714b3e026ad"
   },
   "outputs": [
    {
     "data": {
      "text/plain": [
       "<sqlite3.Cursor at 0x7fb378110730>"
      ]
     },
     "execution_count": 10,
     "metadata": {},
     "output_type": "execute_result"
    }
   ],
   "source": [
    "connection = sqlite3.connect(\"DataBases/Q10.db\")\n",
    "cursor = connection.cursor()\n",
    "\n",
    "Command=\"\"\"\n",
    "create table A\n",
    "\t(x\t \t\tfloat\n",
    "\t);\n",
    "\"\"\"\n",
    "cursor.executescript(Command)\n",
    "\n",
    "Command=\"\"\"\n",
    "insert into A values (2);\n",
    "insert into A values (-2);\n",
    "insert into A values (4);\n",
    "insert into A values (-4);\n",
    "insert into A values (-3);\n",
    "insert into A values (0);\n",
    "insert into A values (2);\n",
    "\"\"\"\n",
    "\n",
    "cursor.executescript(Command)"
   ]
  },
  {
   "cell_type": "code",
   "execution_count": 11,
   "metadata": {
    "colab": {
     "base_uri": "https://localhost:8080/"
    },
    "executionInfo": {
     "elapsed": 1301,
     "status": "ok",
     "timestamp": 1605427623222,
     "user": {
      "displayName": "Krishna Srikar Durbha",
      "photoUrl": "https://lh3.googleusercontent.com/a-/AOh14GguyCk7fMoxlGF33hgpv82v6EoSOX-IYmZSxvBGVw=s64",
      "userId": "03841998749584242455"
     },
     "user_tz": -330
    },
    "id": "dNsIR4P68SpN",
    "outputId": "1ea959c3-6418-4987-8afd-f6fc4a7ccec3"
   },
   "outputs": [
    {
     "name": "stdout",
     "output_type": "stream",
     "text": [
      "Fetch All:\n",
      "('x',)\n",
      "(2.0,)\n",
      "(-2.0,)\n",
      "(4.0,)\n",
      "(-4.0,)\n",
      "(-3.0,)\n",
      "(0.0,)\n",
      "(2.0,)\n"
     ]
    }
   ],
   "source": [
    "Query=\"\"\"\n",
    "Select *\n",
    "from A\n",
    "\"\"\"\n",
    "cursor.execute(Query) \n",
    "print(\"Fetch All:\")\n",
    "names = tuple(map(lambda x: x[0], cursor.description))\n",
    "print (names)\n",
    "result = cursor.fetchall() \n",
    "for r in result:\n",
    "    print(r)"
   ]
  },
  {
   "cell_type": "code",
   "execution_count": 12,
   "metadata": {
    "colab": {
     "base_uri": "https://localhost:8080/"
    },
    "executionInfo": {
     "elapsed": 1176,
     "status": "ok",
     "timestamp": 1605429676948,
     "user": {
      "displayName": "Krishna Srikar Durbha",
      "photoUrl": "https://lh3.googleusercontent.com/a-/AOh14GguyCk7fMoxlGF33hgpv82v6EoSOX-IYmZSxvBGVw=s64",
      "userId": "03841998749584242455"
     },
     "user_tz": -330
    },
    "id": "0YRQk9wj8ZZc",
    "outputId": "75b9976c-467b-47b5-a5d9-d72babb7c247"
   },
   "outputs": [
    {
     "name": "stdout",
     "output_type": "stream",
     "text": [
      "Fetch All:\n",
      "('NegetiveSum', 'PositiveSum')\n",
      "(-9.0, 8.0)\n"
     ]
    }
   ],
   "source": [
    "Query=\"\"\"\n",
    "Select  Sum(case\n",
    "                when x>0 then 0\n",
    "                else x\n",
    "            end) as NegetiveSum,\n",
    "        Sum(case\n",
    "                when x>0 then x\n",
    "                else 0\n",
    "            end) as PositiveSum\n",
    "From A;\n",
    "\"\"\"\n",
    "cursor.execute(Query) \n",
    "print(\"Fetch All:\")\n",
    "names = tuple(map(lambda x: x[0], cursor.description))\n",
    "print (names)\n",
    "result = cursor.fetchall() \n",
    "for r in result:\n",
    "    print(r)"
   ]
  },
  {
   "cell_type": "markdown",
   "metadata": {
    "id": "WYNWq31VEhZo"
   },
   "source": [
    "#### Q5 and Q8"
   ]
  },
  {
   "cell_type": "code",
   "execution_count": 13,
   "metadata": {
    "colab": {
     "base_uri": "https://localhost:8080/"
    },
    "executionInfo": {
     "elapsed": 1223,
     "status": "ok",
     "timestamp": 1605433866484,
     "user": {
      "displayName": "Krishna Srikar Durbha",
      "photoUrl": "https://lh3.googleusercontent.com/a-/AOh14GguyCk7fMoxlGF33hgpv82v6EoSOX-IYmZSxvBGVw=s64",
      "userId": "03841998749584242455"
     },
     "user_tz": -330
    },
    "id": "3MfnKi3BEkKP",
    "outputId": "146cca61-3f60-42f4-cdef-de604a268fae"
   },
   "outputs": [
    {
     "data": {
      "text/plain": [
       "<sqlite3.Cursor at 0x7fb378110b90>"
      ]
     },
     "execution_count": 13,
     "metadata": {},
     "output_type": "execute_result"
    }
   ],
   "source": [
    "connection = sqlite3.connect(\"DataBases/Q5_Q8.db\")\n",
    "cursor = connection.cursor()\n",
    "\n",
    "Command=\"\"\"\n",
    "create table Suppliers\n",
    "\t(sid        int,\n",
    "     sname      varchar(20),\n",
    "     address    varchar(20),\n",
    "     primary key(sid)\n",
    "\t);\n",
    "\"\"\"\n",
    "cursor.executescript(Command)\n",
    "\n",
    "Command = \"\"\"create table Parts\n",
    "\t(pid        int,\n",
    "     pname      varchar(20),\n",
    "     color    varchar(20),\n",
    "     primary key(pid)\n",
    "\t)\n",
    "\n",
    "\"\"\"\n",
    "cursor.executescript(Command)\n",
    "\n",
    "Command=\"\"\"\n",
    "create table Catalog\n",
    "\t(sid        int,\n",
    "     pid        int,\n",
    "     cost       real,\n",
    "     primary key(sid, pid)\n",
    "\t);\n",
    "\"\"\"\n",
    "cursor.executescript(Command)"
   ]
  },
  {
   "cell_type": "code",
   "execution_count": 14,
   "metadata": {
    "colab": {
     "base_uri": "https://localhost:8080/"
    },
    "executionInfo": {
     "elapsed": 1333,
     "status": "ok",
     "timestamp": 1605433870075,
     "user": {
      "displayName": "Krishna Srikar Durbha",
      "photoUrl": "https://lh3.googleusercontent.com/a-/AOh14GguyCk7fMoxlGF33hgpv82v6EoSOX-IYmZSxvBGVw=s64",
      "userId": "03841998749584242455"
     },
     "user_tz": -330
    },
    "id": "zggBDtvJGAbk",
    "outputId": "38a01fa0-8507-4074-ff16-7a75f06d6847"
   },
   "outputs": [
    {
     "data": {
      "text/plain": [
       "<sqlite3.Cursor at 0x7fb378110b90>"
      ]
     },
     "execution_count": 14,
     "metadata": {},
     "output_type": "execute_result"
    }
   ],
   "source": [
    "Command=\"\"\"\n",
    "insert into Suppliers values (1, \"Aditya\", \"SriDevi\");\n",
    "insert into Suppliers values (2, \"Akash\", \"ML\");\n",
    "insert into Suppliers values (3, \"Narasimha\", \"Signal\");\n",
    "insert into Suppliers values (4, \"Srikar\", \"ML\");\n",
    "\n",
    "insert into Parts values (1, \"Laptop\", \"Red\");\n",
    "insert into Parts values (2, \"Phone\", \"Green\");\n",
    "insert into Parts values (3, \"Tab\", \"Green\");\n",
    "insert into Parts values (4, \"Headphones\", \"Green\");\n",
    "insert into Parts values (5, \"Ring\", \"Yellow\");\n",
    "insert into Parts values (6, \"Car\", \"Red\");\n",
    "insert into Parts values (7, \"Plane\", \"Green\");\n",
    "insert into Parts values (8, \"Boat\", \"Red\");\n",
    "\n",
    "insert into Catalog values (1, 1, 30);\n",
    "insert into Catalog values (1, 2, 15);\n",
    "insert into Catalog values (2, 3, 10);\n",
    "insert into Catalog values (2, 4, 99);\n",
    "insert into Catalog values (3, 5, 19);\n",
    "insert into Catalog values (3, 6, 89);\n",
    "insert into Catalog values (4, 7, 29);\n",
    "insert into Catalog values (4, 8, 59);\n",
    "\"\"\"\n",
    "cursor.executescript(Command)"
   ]
  },
  {
   "cell_type": "code",
   "execution_count": 15,
   "metadata": {
    "colab": {
     "base_uri": "https://localhost:8080/"
    },
    "executionInfo": {
     "elapsed": 1183,
     "status": "ok",
     "timestamp": 1605433870077,
     "user": {
      "displayName": "Krishna Srikar Durbha",
      "photoUrl": "https://lh3.googleusercontent.com/a-/AOh14GguyCk7fMoxlGF33hgpv82v6EoSOX-IYmZSxvBGVw=s64",
      "userId": "03841998749584242455"
     },
     "user_tz": -330
    },
    "id": "qVm89B_aHscF",
    "outputId": "8759e99c-881a-4877-df03-7d94e6224682"
   },
   "outputs": [
    {
     "name": "stdout",
     "output_type": "stream",
     "text": [
      "Fetch All:\n",
      "('sid', 'sname', 'address')\n",
      "(1, 'Aditya', 'SriDevi')\n",
      "(2, 'Akash', 'ML')\n",
      "(3, 'Narasimha', 'Signal')\n",
      "(4, 'Srikar', 'ML')\n"
     ]
    }
   ],
   "source": [
    "Query=\"\"\"\n",
    "Select *\n",
    "from Suppliers\n",
    "\"\"\"\n",
    "cursor.execute(Query) \n",
    "print(\"Fetch All:\")\n",
    "names = tuple(map(lambda x: x[0], cursor.description))\n",
    "print (names)\n",
    "result = cursor.fetchall() \n",
    "for r in result:\n",
    "    print(r)"
   ]
  },
  {
   "cell_type": "code",
   "execution_count": 16,
   "metadata": {
    "colab": {
     "base_uri": "https://localhost:8080/"
    },
    "executionInfo": {
     "elapsed": 1022,
     "status": "ok",
     "timestamp": 1605433870078,
     "user": {
      "displayName": "Krishna Srikar Durbha",
      "photoUrl": "https://lh3.googleusercontent.com/a-/AOh14GguyCk7fMoxlGF33hgpv82v6EoSOX-IYmZSxvBGVw=s64",
      "userId": "03841998749584242455"
     },
     "user_tz": -330
    },
    "id": "8dL3BMgfHyJ1",
    "outputId": "2b4db622-a1d1-4c15-b4b5-bfe9f1cd6529"
   },
   "outputs": [
    {
     "name": "stdout",
     "output_type": "stream",
     "text": [
      "Fetch All:\n",
      "('pid', 'pname', 'color')\n",
      "(1, 'Laptop', 'Red')\n",
      "(2, 'Phone', 'Green')\n",
      "(3, 'Tab', 'Green')\n",
      "(4, 'Headphones', 'Green')\n",
      "(5, 'Ring', 'Yellow')\n",
      "(6, 'Car', 'Red')\n",
      "(7, 'Plane', 'Green')\n",
      "(8, 'Boat', 'Red')\n"
     ]
    }
   ],
   "source": [
    "Query=\"\"\"\n",
    "Select *\n",
    "from Parts\n",
    "\"\"\"\n",
    "cursor.execute(Query) \n",
    "print(\"Fetch All:\")\n",
    "names = tuple(map(lambda x: x[0], cursor.description))\n",
    "print (names)\n",
    "result = cursor.fetchall() \n",
    "for r in result:\n",
    "    print(r)"
   ]
  },
  {
   "cell_type": "code",
   "execution_count": 17,
   "metadata": {
    "colab": {
     "base_uri": "https://localhost:8080/"
    },
    "executionInfo": {
     "elapsed": 868,
     "status": "ok",
     "timestamp": 1605433870080,
     "user": {
      "displayName": "Krishna Srikar Durbha",
      "photoUrl": "https://lh3.googleusercontent.com/a-/AOh14GguyCk7fMoxlGF33hgpv82v6EoSOX-IYmZSxvBGVw=s64",
      "userId": "03841998749584242455"
     },
     "user_tz": -330
    },
    "id": "ZIMfAXHSH1w6",
    "outputId": "820d07c6-30b6-43bb-e2c1-6e51f6e4b337"
   },
   "outputs": [
    {
     "name": "stdout",
     "output_type": "stream",
     "text": [
      "Fetch All:\n",
      "('sid', 'pid', 'cost')\n",
      "(1, 1, 30.0)\n",
      "(1, 2, 15.0)\n",
      "(2, 3, 10.0)\n",
      "(2, 4, 99.0)\n",
      "(3, 5, 19.0)\n",
      "(3, 6, 89.0)\n",
      "(4, 7, 29.0)\n",
      "(4, 8, 59.0)\n"
     ]
    }
   ],
   "source": [
    "Query=\"\"\"\n",
    "Select *\n",
    "from Catalog\n",
    "\"\"\"\n",
    "cursor.execute(Query) \n",
    "print(\"Fetch All:\")\n",
    "names = tuple(map(lambda x: x[0], cursor.description))\n",
    "print (names)\n",
    "result = cursor.fetchall() \n",
    "for r in result:\n",
    "    print(r)"
   ]
  },
  {
   "cell_type": "code",
   "execution_count": 18,
   "metadata": {
    "colab": {
     "base_uri": "https://localhost:8080/"
    },
    "executionInfo": {
     "elapsed": 1418,
     "status": "ok",
     "timestamp": 1605433873634,
     "user": {
      "displayName": "Krishna Srikar Durbha",
      "photoUrl": "https://lh3.googleusercontent.com/a-/AOh14GguyCk7fMoxlGF33hgpv82v6EoSOX-IYmZSxvBGVw=s64",
      "userId": "03841998749584242455"
     },
     "user_tz": -330
    },
    "id": "e1dGW8LOH-MT",
    "outputId": "97f1a57d-f74e-43ba-f409-bc2d10daa6a7"
   },
   "outputs": [
    {
     "name": "stdout",
     "output_type": "stream",
     "text": [
      "Fetch All:\n",
      "('sid',)\n",
      "(1,)\n",
      "(4,)\n"
     ]
    }
   ],
   "source": [
    "Query=\"\"\"\n",
    "Select sid from suppliers\n",
    "where sid in (select sid from Catalog\n",
    "                where pid in (select pid from Parts\n",
    "                                where color = \"Red\") and cost < 100)\n",
    "intersect\n",
    "Select sid from suppliers\n",
    "where sid in (select sid from Catalog\n",
    "                where pid in (select pid from Parts\n",
    "                                where color = \"Green\") and cost < 100);\n",
    "\"\"\"\n",
    "cursor.execute(Query) \n",
    "print(\"Fetch All:\")\n",
    "names = tuple(map(lambda x: x[0], cursor.description))\n",
    "print (names)\n",
    "result = cursor.fetchall() \n",
    "for r in result:\n",
    "    print(r)"
   ]
  },
  {
   "cell_type": "code",
   "execution_count": 19,
   "metadata": {
    "id": "rkz62HC5Jr_d"
   },
   "outputs": [
    {
     "name": "stdout",
     "output_type": "stream",
     "text": [
      "Fetch All:\n",
      "('sid',)\n",
      "(1,)\n",
      "(3,)\n",
      "(4,)\n"
     ]
    }
   ],
   "source": [
    "Query=\"\"\"\n",
    "select sid from Catalog\n",
    "where pid in (select pid from Parts\n",
    "                where color = \"Red\") and cost < 100;\n",
    "\"\"\"\n",
    "cursor.execute(Query) \n",
    "print(\"Fetch All:\")\n",
    "names = tuple(map(lambda x: x[0], cursor.description))\n",
    "print (names)\n",
    "result = cursor.fetchall() \n",
    "for r in result:\n",
    "    print(r)"
   ]
  },
  {
   "cell_type": "code",
   "execution_count": 20,
   "metadata": {
    "executionInfo": {
     "elapsed": 1137,
     "status": "aborted",
     "timestamp": 1605433873636,
     "user": {
      "displayName": "Krishna Srikar Durbha",
      "photoUrl": "https://lh3.googleusercontent.com/a-/AOh14GguyCk7fMoxlGF33hgpv82v6EoSOX-IYmZSxvBGVw=s64",
      "userId": "03841998749584242455"
     },
     "user_tz": -330
    },
    "id": "4t37up_TJ5wu"
   },
   "outputs": [
    {
     "name": "stdout",
     "output_type": "stream",
     "text": [
      "Fetch All:\n",
      "('sid',)\n",
      "(1,)\n",
      "(2,)\n",
      "(2,)\n",
      "(4,)\n"
     ]
    }
   ],
   "source": [
    "Query=\"\"\"\n",
    "select sid from Catalog\n",
    "where pid in (select pid from Parts\n",
    "        where color = \"Green\") and cost < 100;\n",
    "\"\"\"\n",
    "cursor.execute(Query) \n",
    "print(\"Fetch All:\")\n",
    "names = tuple(map(lambda x: x[0], cursor.description))\n",
    "print (names)\n",
    "result = cursor.fetchall() \n",
    "for r in result:\n",
    "    print(r)"
   ]
  },
  {
   "cell_type": "code",
   "execution_count": 21,
   "metadata": {
    "executionInfo": {
     "elapsed": 997,
     "status": "aborted",
     "timestamp": 1605433873638,
     "user": {
      "displayName": "Krishna Srikar Durbha",
      "photoUrl": "https://lh3.googleusercontent.com/a-/AOh14GguyCk7fMoxlGF33hgpv82v6EoSOX-IYmZSxvBGVw=s64",
      "userId": "03841998749584242455"
     },
     "user_tz": -330
    },
    "id": "t7SFyo9DOHgO"
   },
   "outputs": [
    {
     "name": "stdout",
     "output_type": "stream",
     "text": [
      "Fetch All:\n",
      "('pid', 'pname', 'color', 'sid', 'cost')\n",
      "(1, 'Laptop', 'Red', 1, 30.0)\n",
      "(6, 'Car', 'Red', 3, 89.0)\n",
      "(8, 'Boat', 'Red', 4, 59.0)\n"
     ]
    }
   ],
   "source": [
    "Query=\"\"\"\n",
    "SELECT * \n",
    "FROM Parts NATURAL JOIN Catalog\n",
    "where color=\"Red\" and cost < 100;\n",
    "\"\"\"\n",
    "cursor.execute(Query) \n",
    "print(\"Fetch All:\")\n",
    "names = tuple(map(lambda x: x[0], cursor.description))\n",
    "print (names)\n",
    "result = cursor.fetchall() \n",
    "for r in result:\n",
    "    print(r)"
   ]
  },
  {
   "cell_type": "code",
   "execution_count": 22,
   "metadata": {
    "colab": {
     "base_uri": "https://localhost:8080/"
    },
    "executionInfo": {
     "elapsed": 1589,
     "status": "ok",
     "timestamp": 1605433874938,
     "user": {
      "displayName": "Krishna Srikar Durbha",
      "photoUrl": "https://lh3.googleusercontent.com/a-/AOh14GguyCk7fMoxlGF33hgpv82v6EoSOX-IYmZSxvBGVw=s64",
      "userId": "03841998749584242455"
     },
     "user_tz": -330
    },
    "id": "o6DxQCnEOe7j",
    "outputId": "1dac861b-ac27-4fb3-9c0e-a8ba26f16725"
   },
   "outputs": [
    {
     "name": "stdout",
     "output_type": "stream",
     "text": [
      "Fetch All:\n",
      "('pid', 'pname', 'color', 'sid', 'cost')\n",
      "(2, 'Phone', 'Green', 1, 15.0)\n",
      "(3, 'Tab', 'Green', 2, 10.0)\n",
      "(4, 'Headphones', 'Green', 2, 99.0)\n",
      "(7, 'Plane', 'Green', 4, 29.0)\n"
     ]
    }
   ],
   "source": [
    "Query=\"\"\"\n",
    "SELECT * \n",
    "FROM Parts NATURAL JOIN Catalog\n",
    "where color=\"Green\" and cost < 100;\n",
    "\"\"\"\n",
    "cursor.execute(Query) \n",
    "print(\"Fetch All:\")\n",
    "names = tuple(map(lambda x: x[0], cursor.description))\n",
    "print (names)\n",
    "result = cursor.fetchall() \n",
    "for r in result:\n",
    "    print(r)"
   ]
  },
  {
   "cell_type": "code",
   "execution_count": 23,
   "metadata": {
    "colab": {
     "base_uri": "https://localhost:8080/"
    },
    "executionInfo": {
     "elapsed": 1189,
     "status": "ok",
     "timestamp": 1605433876336,
     "user": {
      "displayName": "Krishna Srikar Durbha",
      "photoUrl": "https://lh3.googleusercontent.com/a-/AOh14GguyCk7fMoxlGF33hgpv82v6EoSOX-IYmZSxvBGVw=s64",
      "userId": "03841998749584242455"
     },
     "user_tz": -330
    },
    "id": "sQP1uwKhOsBI",
    "outputId": "da06272f-6627-40ce-9d31-b9b9b1e6e4c7"
   },
   "outputs": [
    {
     "name": "stdout",
     "output_type": "stream",
     "text": [
      "Fetch All:\n",
      "('sid',)\n",
      "(1,)\n",
      "(4,)\n"
     ]
    }
   ],
   "source": [
    "Query=\"\"\"\n",
    "SELECT sid\n",
    "FROM Parts NATURAL JOIN Catalog\n",
    "where color=\"Red\" and cost < 100\n",
    "\n",
    "intersect\n",
    "\n",
    "SELECT sid\n",
    "FROM Parts NATURAL JOIN Catalog\n",
    "where color=\"Green\" and cost < 100\n",
    "\"\"\"\n",
    "cursor.execute(Query) \n",
    "print(\"Fetch All:\")\n",
    "names = tuple(map(lambda x: x[0], cursor.description))\n",
    "print (names)\n",
    "result = cursor.fetchall() \n",
    "for r in result:\n",
    "    print(r)"
   ]
  },
  {
   "cell_type": "code",
   "execution_count": 24,
   "metadata": {
    "colab": {
     "base_uri": "https://localhost:8080/"
    },
    "executionInfo": {
     "elapsed": 1207,
     "status": "ok",
     "timestamp": 1605434353270,
     "user": {
      "displayName": "Krishna Srikar Durbha",
      "photoUrl": "https://lh3.googleusercontent.com/a-/AOh14GguyCk7fMoxlGF33hgpv82v6EoSOX-IYmZSxvBGVw=s64",
      "userId": "03841998749584242455"
     },
     "user_tz": -330
    },
    "id": "0eQhUZ5ZR51c",
    "outputId": "8ada527b-47fe-4904-e6a7-32a856cfc8d3"
   },
   "outputs": [
    {
     "name": "stdout",
     "output_type": "stream",
     "text": [
      "Fetch All:\n",
      "('sid', 'sname', 'max(cost)')\n",
      "(1, 'Aditya', 30.0)\n",
      "(4, 'Srikar', 59.0)\n"
     ]
    }
   ],
   "source": [
    "Query=\"\"\"\n",
    "Select sid, sname, max(cost) from Suppliers NATURAL JOIN Catalog\n",
    "where sid in (\n",
    "            SELECT sid\n",
    "            FROM Parts NATURAL JOIN Catalog\n",
    "            where color=\"Red\"\n",
    "            intersect\n",
    "            SELECT sid\n",
    "            FROM Parts NATURAL JOIN Catalog\n",
    "            where color=\"Green\"\n",
    "            )\n",
    "group by sid\n",
    "\"\"\"\n",
    "cursor.execute(Query) \n",
    "print(\"Fetch All:\")\n",
    "names = tuple(map(lambda x: x[0], cursor.description))\n",
    "print (names)\n",
    "result = cursor.fetchall() \n",
    "for r in result:\n",
    "    print(r)"
   ]
  },
  {
   "cell_type": "code",
   "execution_count": 25,
   "metadata": {
    "colab": {
     "base_uri": "https://localhost:8080/"
    },
    "executionInfo": {
     "elapsed": 778,
     "status": "ok",
     "timestamp": 1605433878903,
     "user": {
      "displayName": "Krishna Srikar Durbha",
      "photoUrl": "https://lh3.googleusercontent.com/a-/AOh14GguyCk7fMoxlGF33hgpv82v6EoSOX-IYmZSxvBGVw=s64",
      "userId": "03841998749584242455"
     },
     "user_tz": -330
    },
    "id": "P0aK9oSsTC1P",
    "outputId": "0e01bb07-ade3-48b9-f072-1b7137c62371"
   },
   "outputs": [
    {
     "name": "stdout",
     "output_type": "stream",
     "text": [
      "Fetch All:\n",
      "('sid', 'sname', 'address', 'pid', 'cost')\n",
      "(1, 'Aditya', 'SriDevi', 1, 30.0)\n",
      "(1, 'Aditya', 'SriDevi', 2, 15.0)\n",
      "(2, 'Akash', 'ML', 3, 10.0)\n",
      "(2, 'Akash', 'ML', 4, 99.0)\n",
      "(3, 'Narasimha', 'Signal', 5, 19.0)\n",
      "(3, 'Narasimha', 'Signal', 6, 89.0)\n",
      "(4, 'Srikar', 'ML', 7, 29.0)\n",
      "(4, 'Srikar', 'ML', 8, 59.0)\n"
     ]
    }
   ],
   "source": [
    "Query=\"\"\"\n",
    "Select *\n",
    "from Suppliers NATURAL JOIN Catalog;\n",
    "\"\"\"\n",
    "cursor.execute(Query) \n",
    "print(\"Fetch All:\")\n",
    "names = tuple(map(lambda x: x[0], cursor.description))\n",
    "print (names)\n",
    "result = cursor.fetchall() \n",
    "for r in result:\n",
    "    print(r)"
   ]
  },
  {
   "cell_type": "markdown",
   "metadata": {
    "id": "xhUvGIrHXdS8"
   },
   "source": [
    "#### Q9"
   ]
  },
  {
   "cell_type": "code",
   "execution_count": 26,
   "metadata": {
    "colab": {
     "base_uri": "https://localhost:8080/"
    },
    "executionInfo": {
     "elapsed": 1424,
     "status": "ok",
     "timestamp": 1605435785449,
     "user": {
      "displayName": "Krishna Srikar Durbha",
      "photoUrl": "https://lh3.googleusercontent.com/a-/AOh14GguyCk7fMoxlGF33hgpv82v6EoSOX-IYmZSxvBGVw=s64",
      "userId": "03841998749584242455"
     },
     "user_tz": -330
    },
    "id": "BrDObB2cUOXJ",
    "outputId": "2b5432f2-54e5-42aa-9495-5a1864f7e5bf"
   },
   "outputs": [
    {
     "data": {
      "text/plain": [
       "<sqlite3.Cursor at 0x7fb378110500>"
      ]
     },
     "execution_count": 26,
     "metadata": {},
     "output_type": "execute_result"
    }
   ],
   "source": [
    "connection = sqlite3.connect(\"DataBases/Q9.db\")\n",
    "cursor = connection.cursor()\n",
    "\n",
    "Command=\"\"\"\n",
    "create table users\n",
    "\t(user_id        int,\n",
    "     username      varchar(50),\n",
    "     primary key(user_id)\n",
    "\t);\n",
    "\"\"\"\n",
    "cursor.executescript(Command)\n",
    "\n",
    "Command = \"\"\"create table training_details\n",
    "\t(user_id                 int,\n",
    "     training_id             int,\n",
    "     training_date           varchar(20)\n",
    "\t);\n",
    "\"\"\"\n",
    "cursor.executescript(Command)"
   ]
  },
  {
   "cell_type": "code",
   "execution_count": 27,
   "metadata": {
    "colab": {
     "base_uri": "https://localhost:8080/"
    },
    "executionInfo": {
     "elapsed": 1159,
     "status": "ok",
     "timestamp": 1605435785450,
     "user": {
      "displayName": "Krishna Srikar Durbha",
      "photoUrl": "https://lh3.googleusercontent.com/a-/AOh14GguyCk7fMoxlGF33hgpv82v6EoSOX-IYmZSxvBGVw=s64",
      "userId": "03841998749584242455"
     },
     "user_tz": -330
    },
    "id": "gPoFIjPYYK8N",
    "outputId": "d3005b29-b31e-4348-ef99-9cb1857682a9"
   },
   "outputs": [
    {
     "data": {
      "text/plain": [
       "<sqlite3.Cursor at 0x7fb378110500>"
      ]
     },
     "execution_count": 27,
     "metadata": {},
     "output_type": "execute_result"
    }
   ],
   "source": [
    "Command=\"\"\"\n",
    "insert into users values (1, \"John Doe\");\n",
    "insert into users values (2, \"Jane Don\");\n",
    "insert into users values (3, \"Alice Jones\");\n",
    "insert into users values (4, \"Lisa Romero\");\n",
    "\n",
    "insert into training_details values (1,1,\"2015-08-02\");\n",
    "insert into training_details values (2,1,\"2015-08-03\");\n",
    "insert into training_details values (3,2,\"2015-08-02\");\n",
    "insert into training_details values (4,2,\"2015-08-04\");\n",
    "insert into training_details values (2,2,\"2015-08-03\");\n",
    "insert into training_details values (1,1,\"2015-08-02\");\n",
    "insert into training_details values (3,2,\"2015-08-04\");\n",
    "insert into training_details values (4,3,\"2015-08-03\");\n",
    "insert into training_details values (1,4,\"2015-08-03\");\n",
    "insert into training_details values (3,1,\"2015-08-02\");\n",
    "insert into training_details values (4,2,\"2015-08-04\");\n",
    "insert into training_details values (3,2,\"2015-08-02\");\n",
    "insert into training_details values (1,1,\"2015-08-02\");\n",
    "insert into training_details values (4,3,\"2015-08-03\");\n",
    "\"\"\"\n",
    "cursor.executescript(Command)"
   ]
  },
  {
   "cell_type": "code",
   "execution_count": 28,
   "metadata": {
    "colab": {
     "base_uri": "https://localhost:8080/"
    },
    "executionInfo": {
     "elapsed": 1296,
     "status": "ok",
     "timestamp": 1605435788035,
     "user": {
      "displayName": "Krishna Srikar Durbha",
      "photoUrl": "https://lh3.googleusercontent.com/a-/AOh14GguyCk7fMoxlGF33hgpv82v6EoSOX-IYmZSxvBGVw=s64",
      "userId": "03841998749584242455"
     },
     "user_tz": -330
    },
    "id": "_bTltGSrZn_V",
    "outputId": "a01e8c1c-29d7-452b-e5f1-5058665d1f34"
   },
   "outputs": [
    {
     "name": "stdout",
     "output_type": "stream",
     "text": [
      "Fetch All:\n",
      "('user_id', 'training_id', 'training_date')\n",
      "(1, 1, '2015-08-02')\n",
      "(2, 1, '2015-08-03')\n",
      "(3, 2, '2015-08-02')\n",
      "(4, 2, '2015-08-04')\n",
      "(2, 2, '2015-08-03')\n",
      "(1, 1, '2015-08-02')\n",
      "(3, 2, '2015-08-04')\n",
      "(4, 3, '2015-08-03')\n",
      "(1, 4, '2015-08-03')\n",
      "(3, 1, '2015-08-02')\n",
      "(4, 2, '2015-08-04')\n",
      "(3, 2, '2015-08-02')\n",
      "(1, 1, '2015-08-02')\n",
      "(4, 3, '2015-08-03')\n"
     ]
    }
   ],
   "source": [
    "Query=\"\"\"\n",
    "Select *\n",
    "from training_details\n",
    "\"\"\"\n",
    "cursor.execute(Query) \n",
    "print(\"Fetch All:\")\n",
    "names = tuple(map(lambda x: x[0], cursor.description))\n",
    "print (names)\n",
    "result = cursor.fetchall() \n",
    "for r in result:\n",
    "    print(r)"
   ]
  },
  {
   "cell_type": "code",
   "execution_count": 29,
   "metadata": {
    "colab": {
     "base_uri": "https://localhost:8080/"
    },
    "executionInfo": {
     "elapsed": 1170,
     "status": "ok",
     "timestamp": 1605435845908,
     "user": {
      "displayName": "Krishna Srikar Durbha",
      "photoUrl": "https://lh3.googleusercontent.com/a-/AOh14GguyCk7fMoxlGF33hgpv82v6EoSOX-IYmZSxvBGVw=s64",
      "userId": "03841998749584242455"
     },
     "user_tz": -330
    },
    "id": "VMv5OYM2Z_E4",
    "outputId": "3b2f29a3-6fa5-4be4-ada3-9abd8b0e2a37"
   },
   "outputs": [
    {
     "name": "stdout",
     "output_type": "stream",
     "text": [
      "Fetch All:\n",
      "('user_id', 'training_id', 'training_date')\n",
      "(2, 1, '2015-08-03')\n",
      "(2, 2, '2015-08-03')\n"
     ]
    }
   ],
   "source": [
    "Query=\"\"\"\n",
    "Select *\n",
    "from training_details\n",
    "where user_id = 2\n",
    "\"\"\"\n",
    "cursor.execute(Query) \n",
    "print(\"Fetch All:\")\n",
    "names = tuple(map(lambda x: x[0], cursor.description))\n",
    "print (names)\n",
    "result = cursor.fetchall() \n",
    "for r in result:\n",
    "    print(r)"
   ]
  },
  {
   "cell_type": "code",
   "execution_count": 30,
   "metadata": {
    "colab": {
     "base_uri": "https://localhost:8080/",
     "height": 229
    },
    "executionInfo": {
     "elapsed": 1331,
     "status": "error",
     "timestamp": 1605436250684,
     "user": {
      "displayName": "Krishna Srikar Durbha",
      "photoUrl": "https://lh3.googleusercontent.com/a-/AOh14GguyCk7fMoxlGF33hgpv82v6EoSOX-IYmZSxvBGVw=s64",
      "userId": "03841998749584242455"
     },
     "user_tz": -330
    },
    "id": "QE2XNBC9bhAk",
    "outputId": "a61e82d6-0fbb-42e9-8dfa-42d0d45fe1b6"
   },
   "outputs": [
    {
     "name": "stdout",
     "output_type": "stream",
     "text": [
      "Fetch All:\n",
      "('count(user_id)',)\n",
      "(14,)\n"
     ]
    }
   ],
   "source": [
    "Query=\"\"\"\n",
    "Select count(user_id)\n",
    "from training_details\n",
    "\"\"\"\n",
    "cursor.execute(Query) \n",
    "print(\"Fetch All:\")\n",
    "names = tuple(map(lambda x: x[0], cursor.description))\n",
    "print (names)\n",
    "result = cursor.fetchall() \n",
    "for r in result:\n",
    "    print(r)"
   ]
  }
 ],
 "metadata": {
  "colab": {
   "authorship_tag": "ABX9TyNTonqnBB/FhGnqWg4ITMFe",
   "name": "Exam-1.ipynb",
   "provenance": []
  },
  "kernelspec": {
   "display_name": "Python 3",
   "language": "python",
   "name": "python3"
  },
  "language_info": {
   "codemirror_mode": {
    "name": "ipython",
    "version": 3
   },
   "file_extension": ".py",
   "mimetype": "text/x-python",
   "name": "python",
   "nbconvert_exporter": "python",
   "pygments_lexer": "ipython3",
   "version": "3.6.9"
  }
 },
 "nbformat": 4,
 "nbformat_minor": 1
}
