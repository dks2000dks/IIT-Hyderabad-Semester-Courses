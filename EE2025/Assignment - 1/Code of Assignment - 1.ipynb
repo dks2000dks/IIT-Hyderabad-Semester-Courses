{
 "cells": [
  {
   "cell_type": "markdown",
   "metadata": {},
   "source": [
    "<h1><center> <i>EE2025 Independent Project</i><br/><br/>\n",
    "<font size=\"4\"><i>Programming Assignment - 1<i></font></center></h1>"
   ]
  },
  {
   "cell_type": "markdown",
   "metadata": {},
   "source": [
    "This Assignment is done by\n",
    "D.Krishna Srikar -- EE18BTECH11014 and V.Narasimha Reddy -- EE18BTECH11046"
   ]
  },
  {
   "cell_type": "markdown",
   "metadata": {},
   "source": [
    "The image(Monalisa), in all, contains 110 × 100 = 11000 information bits. We will modulate and transmit them using 4-QAM modulation scheme with carrier frequency 2 MHz and symbol duration 1 micro sec, i.e., 2 bits\n",
    "are transmitted per micro second. The receiver will use the optimal demodulator, i.e., the maximum-likelihood detector or the minimum distance detector.\n",
    "\n",
    "<b>The Simualation Results are at the end of pdf/ipynb file.</b>"
   ]
  },
  {
   "cell_type": "code",
   "execution_count": 1,
   "metadata": {},
   "outputs": [
    {
     "data": {
      "text/html": [
       "<style>.container { width:100% !important; }</style>"
      ],
      "text/plain": [
       "<IPython.core.display.HTML object>"
      ]
     },
     "metadata": {},
     "output_type": "display_data"
    }
   ],
   "source": [
    "# Setting the width of IPython Notebook\n",
    "\n",
    "from IPython.display import HTML\n",
    "display(HTML(\"<style>.container { width:100% !important; }</style>\"))"
   ]
  },
  {
   "cell_type": "markdown",
   "metadata": {},
   "source": [
    "## *Importing Libraries*"
   ]
  },
  {
   "cell_type": "code",
   "execution_count": 2,
   "metadata": {},
   "outputs": [],
   "source": [
    "import numpy as np\n",
    "import matplotlib.pyplot as plt\n",
    "import scipy\n",
    "from scipy import signal\n",
    "from sklearn.metrics import mean_squared_error"
   ]
  },
  {
   "cell_type": "markdown",
   "metadata": {},
   "source": [
    "## *Functions*"
   ]
  },
  {
   "cell_type": "markdown",
   "metadata": {},
   "source": [
    "Functions Coded for the given Task"
   ]
  },
  {
   "cell_type": "markdown",
   "metadata": {},
   "source": [
    "Generates Constellation to encode for 4-QAM"
   ]
  },
  {
   "cell_type": "code",
   "execution_count": 3,
   "metadata": {},
   "outputs": [],
   "source": [
    "def Encode_4QAM(Digital_Signal):\n",
    "    \n",
    "    output = np.zeros(Digital_Signal.shape)\n",
    "    \n",
    "    for i in range(Digital_Signal.shape[0]):\n",
    "        if (Digital_Signal[i] == 0):\n",
    "            output[i] = 1\n",
    "        else:\n",
    "            output[i] = -1\n",
    "            \n",
    "    return output"
   ]
  },
  {
   "cell_type": "markdown",
   "metadata": {},
   "source": [
    "Decodes bits from 4-QAM Constellation"
   ]
  },
  {
   "cell_type": "code",
   "execution_count": 4,
   "metadata": {},
   "outputs": [],
   "source": [
    "def Decode_4QAM(Signal):\n",
    "    \n",
    "    output = np.zeros(Signal.shape)\n",
    "    \n",
    "    for i in range(Signal.shape[0]):\n",
    "        if (Signal[i] == 1):\n",
    "            output[i] = 0\n",
    "        else:\n",
    "            output[i] = 1\n",
    "            \n",
    "    return output.astype(int)"
   ]
  },
  {
   "cell_type": "markdown",
   "metadata": {},
   "source": [
    "Generates a Vector of Analog Signal Transmitted for the Bits Transmitted"
   ]
  },
  {
   "cell_type": "code",
   "execution_count": 5,
   "metadata": {},
   "outputs": [],
   "source": [
    "def Analog_Signal_Generator(a,b,i,samples,T,fc,fs,Sampling=False):\n",
    "    # Generates s(t) for the given input of 2 bits with and without Sampling.\n",
    "    if Sampling != True:\n",
    "        # Without Sampling\n",
    "        t = np.linspace((i-1)*T, i*T, samples,endpoint=False)\n",
    "        c = np.cos(2*np.pi*fc*t)\n",
    "        s = np.sin(2*np.pi*fc*t)\n",
    "        output = a*c + b*s\n",
    "    else:\n",
    "        # With Sampling\n",
    "        t = np.linspace((i-1)*T, i*T, int(T*fs),endpoint=False)\n",
    "        \"\"\"\n",
    "        # to = np.arange((i-1)*T, i*T, 1/fs)\n",
    "        np.arange has a \"Stop Precision Issue so np.linspace is used.\"\n",
    "        \"\"\"\n",
    "        c = np.cos(2*np.pi*fc*t)\n",
    "        s = np.sin(2*np.pi*fc*t)\n",
    "        output = a*c + b*s\n",
    "        \n",
    "    return output"
   ]
  },
  {
   "cell_type": "markdown",
   "metadata": {},
   "source": [
    "Generates White Gaussian Noise"
   ]
  },
  {
   "cell_type": "code",
   "execution_count": 6,
   "metadata": {},
   "outputs": [],
   "source": [
    "def WGN(Variance,Nt,samples,T,fs,Sampling=False):\n",
    "    # Generates White Gaussian Noise with and without Sampling\n",
    "    \n",
    "    if Sampling != True:\n",
    "        # Without Sampling\n",
    "        output = np.zeros((Nt,samples))\n",
    "        mu = 0\n",
    "        sigma = np.sqrt(Variance)\n",
    "        for i in range(Nt):\n",
    "            output[i] = np.random.normal(mu, sigma, samples)\n",
    "    else:\n",
    "        # With Sampling\n",
    "        output = np.zeros((Nt,int(T*fs)))\n",
    "        mu = 0\n",
    "        sigma = np.sqrt(Variance)\n",
    "        for i in range(Nt):\n",
    "            output[i] = np.random.normal(mu, sigma, int(T*fs))\n",
    "\n",
    "    return output"
   ]
  },
  {
   "cell_type": "markdown",
   "metadata": {},
   "source": [
    "Generates a Matrix of Analog Signals that need to be Transmitted"
   ]
  },
  {
   "cell_type": "code",
   "execution_count": 7,
   "metadata": {},
   "outputs": [],
   "source": [
    "def Analog_Matrix(Digital_Signal,samples,T,fc,fs,Sampling=False):\n",
    "    # Outputs a matrix of all Transmitted Signals\n",
    "    s = int(Digital_Signal.shape[0]/2)\n",
    "    if Sampling != True:\n",
    "        # Without Sampling\n",
    "        output = np.zeros((s,samples))\n",
    "    else:\n",
    "        # With Sampling\n",
    "        output = np.zeros((s,int(T*fs)))\n",
    "        \n",
    "    for i in range(s):\n",
    "        a = Digital_Signal[2*i]\n",
    "        b = Digital_Signal[2*i + 1]\n",
    "        output[i] = Analog_Signal_Generator(a,b,i+1,samples,T,fc,fs,Sampling=Sampling)\n",
    "        \n",
    "    Nt = s\n",
    "    return output,Nt"
   ]
  },
  {
   "cell_type": "markdown",
   "metadata": {},
   "source": [
    "To Calculate Energy of each Signal Transmitted"
   ]
  },
  {
   "cell_type": "code",
   "execution_count": 8,
   "metadata": {},
   "outputs": [],
   "source": [
    "def Energy_Signal_Matrix(signal_matrix):\n",
    "    # Total Energy Matrix\n",
    "    output = np.multiply(signal_matrix,signal_matrix)\n",
    "    output = np.mean(output,axis=1)\n",
    "    \n",
    "    return output"
   ]
  },
  {
   "cell_type": "markdown",
   "metadata": {},
   "source": [
    "For Fourier Transform of a Analog Signal Matrix"
   ]
  },
  {
   "cell_type": "code",
   "execution_count": 9,
   "metadata": {},
   "outputs": [],
   "source": [
    "def FFT(Signal_Matrix,fs):\n",
    "    # Gives Fourier Transform of Sampled Analog Noisy Signal Matrix\n",
    "    FFT_Matrix = np.fft.fft(Signal_Matrix) # /int(Signal_Matrix.shape[-1]/2)\n",
    "    freq = np.fft.fftfreq(Signal_Matrix.shape[-1])*fs\n",
    "    \n",
    "    return FFT_Matrix,freq"
   ]
  },
  {
   "cell_type": "markdown",
   "metadata": {},
   "source": [
    "For Inverse Fourier Transform of Analog Signal Matrix"
   ]
  },
  {
   "cell_type": "code",
   "execution_count": 10,
   "metadata": {},
   "outputs": [],
   "source": [
    "def IFFT(Signal_Matrix):\n",
    "    # Gives Inverse Fourier Transform of Sampled Analog Noisy Signal Matrix\n",
    "    IFFT_Matrix = np.fft.ifft(Signal_Matrix).real\n",
    "    \n",
    "    return IFFT_Matrix"
   ]
  },
  {
   "cell_type": "markdown",
   "metadata": {},
   "source": [
    "Low Pass Filter for Matrix of Analog Signals"
   ]
  },
  {
   "cell_type": "code",
   "execution_count": 11,
   "metadata": {},
   "outputs": [],
   "source": [
    "def Low_Pass_Filtered_Matrix(Matrix,Cutoff_Freq,fs,T,Nt,Order=8):\n",
    "    # Applies Low Pass Filter to each Signal in Matrix\n",
    "    Output = np.zeros((Nt,int(fs*T)))\n",
    "    \n",
    "    for i in range(Matrix.shape[0]):\n",
    "        \n",
    "        if (Cutoff_Freq*2 == fs):\n",
    "            w = 1 - 1e-9\n",
    "        else:\n",
    "            w = Cutoff_Freq*2/fs\n",
    "            \n",
    "        b, a = signal.butter(Order, w)\n",
    "        x = np.array(list(Matrix[i]))\n",
    "        output = signal.filtfilt(b,a, x)\n",
    "        \n",
    "        # Decimating or Downsampling Signal\n",
    "        output = signal.decimate(output,1)\n",
    "        Output[i] = signal.decimate(output,1)\n",
    "\n",
    "        \n",
    "    return Output"
   ]
  },
  {
   "cell_type": "markdown",
   "metadata": {},
   "source": [
    "Total no.of Waveforms for Transmission"
   ]
  },
  {
   "cell_type": "code",
   "execution_count": 12,
   "metadata": {},
   "outputs": [],
   "source": [
    "def Waveforms(M,fs,T,fc):\n",
    "    # Different Waveforms that are Transmitted by Transmitter\n",
    "    Waveforms = np.zeros((M,int(fs*T)))\n",
    "    a = np.array([0,0,1,1])\n",
    "    b = np.array([0,1,0,1])\n",
    "    a_encoded = Encode_4QAM(a)\n",
    "    b_encoded = Encode_4QAM(b)\n",
    "    t = np.linspace(0, T, int(fs*T),endpoint=False)\n",
    "    c = np.cos(2*np.pi*fc*t)\n",
    "    s = np.sin(2*np.pi*fc*t)\n",
    "    i = 0\n",
    "    \n",
    "    Directory = {}\n",
    "    \n",
    "    for x,y in zip(a_encoded,b_encoded):\n",
    "        Waveforms[i] = x*c +y*s\n",
    "        Directory[i] = np.array([x,y])\n",
    "        i = i+1 \n",
    "        \n",
    "    return Waveforms,Directory"
   ]
  },
  {
   "cell_type": "markdown",
   "metadata": {},
   "source": [
    "Decodes the Analog Signal Matrix and returns Bits"
   ]
  },
  {
   "cell_type": "code",
   "execution_count": 13,
   "metadata": {},
   "outputs": [],
   "source": [
    "def Decode(Signal_Matrix,Waveforms,Directory,M):\n",
    "    # Returns Array of Bits decoded at the Reciever\n",
    "    Index = np.zeros((Signal_Matrix.shape[0],2))\n",
    "    Error = np.random.rand(M)\n",
    "\n",
    "    for i in range(Signal_Matrix.shape[0]):\n",
    "        \n",
    "        for j in range(M):\n",
    "            Error[j] = mean_squared_error(Signal_Matrix[i],Waveforms[j])\n",
    "            \n",
    "        x = np.argmin(Error)\n",
    "        Index[i] = np.array(Directory[x])\n",
    "        \n",
    "    Output = Index.flatten()\n",
    "    \n",
    "    return Output.astype(int)"
   ]
  },
  {
   "cell_type": "markdown",
   "metadata": {},
   "source": [
    "## *Encode, Transmit, Receieve and Decode*"
   ]
  },
  {
   "cell_type": "markdown",
   "metadata": {},
   "source": [
    "Function to Encode, Transmit and Decode Signals"
   ]
  },
  {
   "cell_type": "markdown",
   "metadata": {},
   "source": [
    "Modulation Scheme:\n",
    "\n",
    "Carrier Frequency = 2 MHz\n",
    "Symbol Duration T = 1μ sec.\n",
    "\n",
    "$s(t)=x_{2 i-1} \\cos \\left(2 \\pi f_{c} t\\right)+x_{2 i} \\sin \\left(2 \\pi f_{c} t\\right),$ for $(i-1) T \\leq t<i T$"
   ]
  },
  {
   "cell_type": "code",
   "execution_count": 14,
   "metadata": {},
   "outputs": [],
   "source": [
    "def Modulation(Digital_Signal,fc,T,M,fs,Ratio,Cutoff_Freq,samples=1000):\n",
    "    \n",
    "    # Different Waveforms Transmited and Corresponding Directory\n",
    "    Waveforms_Transmitted,Directory = Waveforms(M,fs,T,fc)\n",
    "    \n",
    "    '''\n",
    "    Examples of Non-Sampled Signals (\"The Context Non-Sampled implies that they are not samples with fs = 50MHz\")\n",
    "    '''\n",
    "\n",
    "    # Encoding Signal\n",
    "    Digital_Signal_Encoded = Encode_4QAM(Digital_Signal)\n",
    "    Analog_Signal_Matrix,Nt = Analog_Matrix(Digital_Signal_Encoded,samples,T,fc,fs,Sampling=True)\n",
    "    \n",
    "    # Energy for Waveforms_Transmitted\n",
    "    Average_Energy = T # By Integrating Analog Signal\n",
    "    print (\"Average Energy of Transmitted Signal\",Average_Energy)\n",
    "    Energy_per_Bit = Average_Energy/np.log2(M)\n",
    "    print (\"Energy per Bit of Transmitted Signal\",Energy_per_Bit)\n",
    "    \n",
    "    # No Calculations\n",
    "    No = Energy_per_Bit/pow(10,(Ratio/10))\n",
    "    R = pow(10,(Ratio/10))\n",
    "    print (\"Eb/No Ratio in dB is\", Ratio)\n",
    "    print (\"Eb/No Ratio is\", R)\n",
    "    \n",
    "    \n",
    "    # Variance of White Gaussian Noise/Channel\n",
    "    Variance = (No/2)*(2*Cutoff_Freq)\n",
    "    print (\"Variance of WGN\",Variance)\n",
    "    \n",
    "    # Transmitting Signal\n",
    "    Analog_Sampled_Signal_Matrix = Analog_Signal_Matrix + WGN(Variance,Nt,samples,T,fs,Sampling=True)\n",
    "   \n",
    "    # Receving Signal\n",
    "    Filtered_Signal_Matrix = Low_Pass_Filtered_Matrix(Analog_Sampled_Signal_Matrix,Cutoff_Freq,fs,T,Nt)\n",
    "    \n",
    "    # Decoding Signal\n",
    "    Decoded_Array = Decode_4QAM(Decode(Filtered_Signal_Matrix,Waveforms_Transmitted,Directory,M))\n",
    "    \n",
    "    # Probability of Error\n",
    "    Error_Bits = np.sum(np.abs(Decoded_Array - Digital_Signal))\n",
    "    print (\"No.of Wrong Bits\",Error_Bits)\n",
    "    Fraction_of_Error = Error_Bits /(Decoded_Array.shape[0])\n",
    "    print (\"Fraction of Error is\",Fraction_of_Error)\n",
    "    Q = scipy.stats.norm(0, 1).cdf(-np.sqrt(2*R/1))\n",
    "    print (\"Pe(Proballity of Error) =\",Q)\n",
    "    \n",
    "    #Plotting the Signal\n",
    "    Img = Decoded_Array.reshape(110,100)\n",
    "    plt.imshow(Img,'gray')\n",
    "    plt.show()\n",
    "    print (\"---------------------------------------------------------------------------------------\")\n",
    "    \n",
    "    return Fraction_of_Error"
   ]
  },
  {
   "cell_type": "markdown",
   "metadata": {},
   "source": [
    "### *Binary Image*"
   ]
  },
  {
   "cell_type": "markdown",
   "metadata": {},
   "source": [
    "Importing Binary Image file"
   ]
  },
  {
   "cell_type": "code",
   "execution_count": 15,
   "metadata": {},
   "outputs": [],
   "source": [
    "MonaLisa = np.load('binary_image.npy')"
   ]
  },
  {
   "cell_type": "markdown",
   "metadata": {},
   "source": [
    "Displaying Image"
   ]
  },
  {
   "cell_type": "code",
   "execution_count": 16,
   "metadata": {},
   "outputs": [
    {
     "data": {
      "image/png": "[encoded data removed]",
      "text/plain": [
       "<Figure size 432x288 with 1 Axes>"
      ]
     },
     "metadata": {
      "needs_background": "light"
     },
     "output_type": "display_data"
    }
   ],
   "source": [
    "plt.imshow(MonaLisa,'gray')\n",
    "plt.show()"
   ]
  },
  {
   "cell_type": "code",
   "execution_count": 17,
   "metadata": {},
   "outputs": [],
   "source": [
    "Digital_Signal = MonaLisa.flatten()"
   ]
  },
  {
   "cell_type": "markdown",
   "metadata": {},
   "source": [
    "## *Results*"
   ]
  },
  {
   "cell_type": "code",
   "execution_count": 18,
   "metadata": {},
   "outputs": [
    {
     "name": "stdout",
     "output_type": "stream",
     "text": [
      "Average Energy of Transmitted Signal 1e-06\n",
      "Energy per Bit of Transmitted Signal 5e-07\n",
      "Eb/No Ratio in dB is -10\n",
      "Eb/No Ratio is 0.1\n",
      "Variance of WGN 124.99999999999999\n",
      "No.of Wrong Bits 3611\n",
      "Fraction of Error is 0.32827272727272727\n",
      "Pe(Proballity of Error) = 0.32736042300928847\n"
     ]
    },
    {
     "data": {
      "image/png": "[encoded data removed]",
      "text/plain": [
       "<Figure size 432x288 with 1 Axes>"
      ]
     },
     "metadata": {
      "needs_background": "light"
     },
     "output_type": "display_data"
    },
    {
     "name": "stdout",
     "output_type": "stream",
     "text": [
      "---------------------------------------------------------------------------------------\n",
      "Average Energy of Transmitted Signal 1e-06\n",
      "Energy per Bit of Transmitted Signal 5e-07\n",
      "Eb/No Ratio in dB is -5\n",
      "Eb/No Ratio is 0.31622776601683794\n",
      "Variance of WGN 39.52847075210474\n",
      "No.of Wrong Bits 2333\n",
      "Fraction of Error is 0.21209090909090908\n",
      "Pe(Proballity of Error) = 0.2132280183576204\n"
     ]
    },
    {
     "data": {
      "image/png": "[encoded data removed]",
      "text/plain": [
       "<Figure size 432x288 with 1 Axes>"
      ]
     },
     "metadata": {
      "needs_background": "light"
     },
     "output_type": "display_data"
    },
    {
     "name": "stdout",
     "output_type": "stream",
     "text": [
      "---------------------------------------------------------------------------------------\n",
      "Average Energy of Transmitted Signal 1e-06\n",
      "Energy per Bit of Transmitted Signal 5e-07\n",
      "Eb/No Ratio in dB is 0\n",
      "Eb/No Ratio is 1.0\n",
      "Variance of WGN 12.5\n",
      "No.of Wrong Bits 891\n",
      "Fraction of Error is 0.081\n",
      "Pe(Proballity of Error) = 0.07864960352514251\n"
     ]
    },
    {
     "data": {
      "image/png": "[encoded data removed]",
      "text/plain": [
       "<Figure size 432x288 with 1 Axes>"
      ]
     },
     "metadata": {
      "needs_background": "light"
     },
     "output_type": "display_data"
    },
    {
     "name": "stdout",
     "output_type": "stream",
     "text": [
      "---------------------------------------------------------------------------------------\n",
      "Average Energy of Transmitted Signal 1e-06\n",
      "Energy per Bit of Transmitted Signal 5e-07\n",
      "Eb/No Ratio in dB is 5\n",
      "Eb/No Ratio is 3.1622776601683795\n",
      "Variance of WGN 3.952847075210474\n",
      "No.of Wrong Bits 65\n",
      "Fraction of Error is 0.005909090909090909\n",
      "Pe(Proballity of Error) = 0.005953867147778654\n"
     ]
    },
    {
     "data": {
      "image/png": "[encoded data removed]",
      "text/plain": [
       "<Figure size 432x288 with 1 Axes>"
      ]
     },
     "metadata": {
      "needs_background": "light"
     },
     "output_type": "display_data"
    },
    {
     "name": "stdout",
     "output_type": "stream",
     "text": [
      "---------------------------------------------------------------------------------------\n"
     ]
    }
   ],
   "source": [
    "fc = 2 * 1e6\n",
    "T = 1e-6\n",
    "M = 4\n",
    "fs = 50 * 1e6\n",
    "Cutoff_Freq = 25*pow(10,6)\n",
    "Ratio = [-10,-5,0,5]\n",
    "BER = []\n",
    "\n",
    "for r in Ratio:\n",
    "    BER.append(Modulation(Digital_Signal,fc,T,M,fs,r,Cutoff_Freq))"
   ]
  },
  {
   "cell_type": "markdown",
   "metadata": {},
   "source": [
    "## Plotting"
   ]
  },
  {
   "cell_type": "markdown",
   "metadata": {},
   "source": [
    "Plot BER vs $\\frac{E_{\\mathrm{b}}}{N_{0}}$"
   ]
  },
  {
   "cell_type": "code",
   "execution_count": 19,
   "metadata": {},
   "outputs": [
    {
     "data": {
      "image/png": "[encoded data removed]",
      "text/plain": [
       "<Figure size 432x288 with 1 Axes>"
      ]
     },
     "metadata": {
      "needs_background": "light"
     },
     "output_type": "display_data"
    }
   ],
   "source": [
    "plt.plot(Ratio,BER)\n",
    "plt.ylabel('BER')\n",
    "plt.xlabel(r'$\\frac{E_{\\mathrm{b}}}{N_{0}}$')\n",
    "plt.title(r'BER vs $\\frac{E_{\\mathrm{b}}}{N_{0}}$ Simulation Results')\n",
    "plt.scatter(Ratio,BER)\n",
    "plt.grid()\n",
    "plt.show()"
   ]
  },
  {
   "cell_type": "markdown",
   "metadata": {},
   "source": [
    "The Graph shows us the results of Simulations. X-axis has $\\frac{E_{\\mathrm{b}}}{N_{0}}$ in decibal scale and Y-axis as BER(Bit Error Rate). We can observe that as $\\frac{E_{\\mathrm{b}}}{N_{0}}$ increases BER decreases."
   ]
  }
 ],
 "metadata": {
  "kernelspec": {
   "display_name": "Python 3",
   "language": "python",
   "name": "python3"
  },
  "language_info": {
   "codemirror_mode": {
    "name": "ipython",
    "version": 3
   },
   "file_extension": ".py",
   "mimetype": "text/x-python",
   "name": "python",
   "nbconvert_exporter": "python",
   "pygments_lexer": "ipython3",
   "version": "3.7.4"
  }
 },
 "nbformat": 4,
 "nbformat_minor": 2
}
