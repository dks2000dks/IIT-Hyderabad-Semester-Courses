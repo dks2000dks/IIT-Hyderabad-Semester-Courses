{
 "cells": [
  {
   "cell_type": "markdown",
   "metadata": {},
   "source": [
    "<h1><center> <i>EE2025 Independent Project</i><br/><br/>\n",
    "<font size=\"4\"><i>Programming Assignment - 1<i></font></center></h1>"
   ]
  },
  {
   "cell_type": "code",
   "execution_count": 2,
   "metadata": {},
   "outputs": [
    {
     "data": {
      "text/html": [
       "<style>.container { width:90% !important; }</style>"
      ],
      "text/plain": [
       "<IPython.core.display.HTML object>"
      ]
     },
     "metadata": {},
     "output_type": "display_data"
    }
   ],
   "source": [
    "# Setting the width of IPython Notebook\n",
    "\n",
    "from IPython.display import HTML\n",
    "display(HTML(\"<style>.container { width:90% !important; }</style>\"))"
   ]
  },
  {
   "cell_type": "markdown",
   "metadata": {},
   "source": [
    "### *Importing Libraries*"
   ]
  },
  {
   "cell_type": "code",
   "execution_count": 3,
   "metadata": {},
   "outputs": [],
   "source": [
    "import numpy as np\n",
    "import matplotlib.pyplot as plt\n",
    "import scipy\n",
    "from scipy import signal\n",
    "from sklearn.metrics import mean_squared_error"
   ]
  },
  {
   "cell_type": "markdown",
   "metadata": {},
   "source": [
    "### *Binary Image*"
   ]
  },
  {
   "cell_type": "markdown",
   "metadata": {},
   "source": [
    "Importing Binary Image file"
   ]
  },
  {
   "cell_type": "code",
   "execution_count": 4,
   "metadata": {},
   "outputs": [],
   "source": [
    "MonaLisa = np.load('binary_image.npy')"
   ]
  },
  {
   "cell_type": "markdown",
   "metadata": {},
   "source": [
    "Displaying Image"
   ]
  },
  {
   "cell_type": "code",
   "execution_count": 5,
   "metadata": {},
   "outputs": [
    {
     "data": {
      "image/png": "[encoded data removed]",
      "text/plain": [
       "<Figure size 432x288 with 1 Axes>"
      ]
     },
     "metadata": {
      "needs_background": "light"
     },
     "output_type": "display_data"
    }
   ],
   "source": [
    "plt.imshow(MonaLisa,'gray')\n",
    "plt.show()"
   ]
  },
  {
   "cell_type": "code",
   "execution_count": 6,
   "metadata": {},
   "outputs": [
    {
     "name": "stdout",
     "output_type": "stream",
     "text": [
      "4654\n"
     ]
    }
   ],
   "source": [
    "Digital_Signal = MonaLisa.flatten()\n",
    "print (np.sum(Digital_Signal))"
   ]
  },
  {
   "cell_type": "markdown",
   "metadata": {},
   "source": [
    "### *Setting Modulation Scheme*"
   ]
  },
  {
   "cell_type": "markdown",
   "metadata": {},
   "source": [
    "Carrier Frequency = 2 MHz\n",
    "Symbol Duration T = 1μ sec.\n",
    "\n",
    "$s(t)=x_{2 i-1} \\cos \\left(2 \\pi f_{c} t\\right)+x_{2 i} \\sin \\left(2 \\pi f_{c} t\\right),$ for $(i-1) T \\leq t<i T$"
   ]
  },
  {
   "cell_type": "markdown",
   "metadata": {},
   "source": [
    "Setting Parameters like Carrier Frequency, Time Period for Each Symbol, No.of Samples, Total no.of Symbols, Sampling Frequency"
   ]
  },
  {
   "cell_type": "code",
   "execution_count": 7,
   "metadata": {},
   "outputs": [],
   "source": [
    "fc = 2 * 1e6\n",
    "T = 1e-6\n",
    "samples = 1000\n",
    "M = 4\n",
    "fs = 50 * 1e6\n",
    "Variance = 1\n",
    "No = 2 * Variance\n",
    "Cutoff_Freq = pow(10,7)"
   ]
  },
  {
   "cell_type": "code",
   "execution_count": 8,
   "metadata": {},
   "outputs": [],
   "source": [
    "def Analog_Signal_Generator(a,b,i,samples,T,fc,fs,Sampling=False):\n",
    "    # Generates s(t) for the given input of 2 bits with and without Sampling.\n",
    "    if Sampling != True:\n",
    "        # Without Sampling\n",
    "        t = np.linspace((i-1)*T, i*T, samples,endpoint=False)\n",
    "        c = np.cos(2*np.pi*fc*t)\n",
    "        s = np.sin(2*np.pi*fc*t)\n",
    "        output = a*c + b*s\n",
    "    else:\n",
    "        # With Sampling\n",
    "        t = np.linspace((i-1)*T, i*T, int(T*fs),endpoint=False)\n",
    "        \"\"\"\n",
    "        # to = np.arange((i-1)*T, i*T, 1/fs)\n",
    "        np.arange has a \"Stop Precision Issue so np.linspace is used.\"\n",
    "        \"\"\"\n",
    "        c = np.cos(2*np.pi*fc*t)\n",
    "        s = np.sin(2*np.pi*fc*t)\n",
    "        output = a*c + b*s\n",
    "        \n",
    "    return output"
   ]
  },
  {
   "cell_type": "code",
   "execution_count": 9,
   "metadata": {},
   "outputs": [],
   "source": [
    "def WGN(Variance,Nt,samples,T,fs,Sampling=False):\n",
    "    # Generates White Gaussian Noise with and without Sampling\n",
    "    \n",
    "    if Sampling != True:\n",
    "        # Without Sampling\n",
    "        output = np.zeros((Nt,samples))\n",
    "        mu = 0\n",
    "        sigma = np.sqrt(Variance)\n",
    "        for i in range(Nt):\n",
    "            output[i] = np.random.normal(mu, sigma, samples)\n",
    "    else:\n",
    "        # With Sampling\n",
    "        output = np.zeros((Nt,int(T*fs)))\n",
    "        mu = 0\n",
    "        sigma = np.sqrt(Variance)\n",
    "        for i in range(Nt):\n",
    "            output[i] = np.random.normal(mu, sigma, int(T*fs))\n",
    "\n",
    "    return output"
   ]
  },
  {
   "cell_type": "code",
   "execution_count": 10,
   "metadata": {},
   "outputs": [],
   "source": [
    "def Analog_Matrix(Digital_Signal,samples,T,fc,fs,Sampling=False):\n",
    "    # Outputs a matrix of all Transmitted Signals\n",
    "    s = int(Digital_Signal.shape[0]/2)\n",
    "    if Sampling != True:\n",
    "        # Without Sampling\n",
    "        output = np.zeros((s,samples))\n",
    "    else:\n",
    "        # With Sampling\n",
    "        output = np.zeros((s,int(T*fs)))\n",
    "        \n",
    "    for i in range(s):\n",
    "        a = Digital_Signal[2*i]\n",
    "        b = Digital_Signal[2*i + 1]\n",
    "        output[i] = Analog_Signal_Generator(a,b,i+1,samples,T,fc,fs,Sampling=Sampling)\n",
    "        \n",
    "    Nt = s\n",
    "    return output,Nt"
   ]
  },
  {
   "cell_type": "code",
   "execution_count": 11,
   "metadata": {},
   "outputs": [
    {
     "name": "stdout",
     "output_type": "stream",
     "text": [
      "(5500, 1000)\n"
     ]
    }
   ],
   "source": [
    "Analog_Signal_Matrix,Nt = Analog_Matrix(Digital_Signal,samples,T,fc,fs,Sampling=False)\n",
    "print (Analog_Signal_Matrix.shape)"
   ]
  },
  {
   "cell_type": "code",
   "execution_count": 12,
   "metadata": {},
   "outputs": [
    {
     "name": "stdout",
     "output_type": "stream",
     "text": [
      "(5500, 1000)\n"
     ]
    }
   ],
   "source": [
    "Analog_Noise_Signal_Matrix = Analog_Signal_Matrix + WGN(Variance,Nt,samples,T,fs)\n",
    "print (Analog_Noise_Signal_Matrix.shape)"
   ]
  },
  {
   "cell_type": "code",
   "execution_count": 13,
   "metadata": {},
   "outputs": [],
   "source": [
    "def Energy_Signal_Matrix(signal_matrix):\n",
    "    # Total Energy Matrix\n",
    "    s = signal_matrix.shape[1]\n",
    "    output = np.multiply(signal_matrix,signal_matrix)\n",
    "    output = np.sum(output,axis=1)\n",
    "    output = output/s\n",
    "    \n",
    "    return output\n",
    "    \n",
    "Energy = Energy_Signal_Matrix(Analog_Signal_Matrix)"
   ]
  },
  {
   "cell_type": "code",
   "execution_count": 14,
   "metadata": {},
   "outputs": [
    {
     "name": "stdout",
     "output_type": "stream",
     "text": [
      "0.42309090909090924\n"
     ]
    }
   ],
   "source": [
    "# Average Energy\n",
    "Average_Energy = np.mean(Energy)\n",
    "print (Average_Energy)"
   ]
  },
  {
   "cell_type": "code",
   "execution_count": 15,
   "metadata": {},
   "outputs": [
    {
     "name": "stdout",
     "output_type": "stream",
     "text": [
      "0.21154545454545462\n"
     ]
    }
   ],
   "source": [
    "# Average Energy per Bit\n",
    "Energy_per_Bit = Average_Energy/np.log2(M)\n",
    "print (Energy_per_Bit)"
   ]
  },
  {
   "cell_type": "code",
   "execution_count": 16,
   "metadata": {},
   "outputs": [
    {
     "data": {
      "text/plain": [
       "0.10577272727272731"
      ]
     },
     "execution_count": 16,
     "metadata": {},
     "output_type": "execute_result"
    }
   ],
   "source": [
    "Ratio = Energy_per_Bit/No\n",
    "Ratio"
   ]
  },
  {
   "cell_type": "markdown",
   "metadata": {},
   "source": [
    "### Analog Signal Sampled Matrix with Noise  "
   ]
  },
  {
   "cell_type": "markdown",
   "metadata": {},
   "source": [
    "Sampled Analog Noisy Signal Matrix"
   ]
  },
  {
   "cell_type": "code",
   "execution_count": 17,
   "metadata": {},
   "outputs": [
    {
     "name": "stdout",
     "output_type": "stream",
     "text": [
      "[ 2.81320047  1.06832928  1.71294175  2.28968799  1.66408581  0.05467112\n",
      "  0.35570783 -1.30217649 -0.77242743  1.22885024 -0.74872756 -0.3536719\n",
      " -0.67787185 -2.10584947 -1.34716983 -0.55516629 -0.92318484 -1.88402833\n",
      " -2.93443993 -1.54929867  0.50865358 -0.11869184 -0.30185163 -0.15079954\n",
      "  0.17546095  2.29746157  0.68258401  1.69114189  1.87540152  1.0264775\n",
      "  3.02788212  1.99843307  1.85973393 -0.52348312  2.38353938 -0.42963881\n",
      " -1.0686507  -0.70606497  0.07235918 -2.83738988 -2.40812695 -1.15393008\n",
      "  0.6010546  -1.59094554 -0.12370028 -0.69693412 -0.71233527  1.19970767\n",
      " -0.72697392 -0.42339034]\n",
      "(5500, 50)\n"
     ]
    }
   ],
   "source": [
    "Analog_Sampled_Signal_Matrix = Analog_Matrix(Digital_Signal,samples,T,fc,fs, Sampling = True)[0] + WGN(Variance,Nt,samples,T,fs,Sampling=True)\n",
    "print (Analog_Sampled_Signal_Matrix[51])\n",
    "print (Analog_Sampled_Signal_Matrix.shape)"
   ]
  },
  {
   "cell_type": "markdown",
   "metadata": {},
   "source": [
    "### Fourier Transform and Inverse Fourier Transform of Signals"
   ]
  },
  {
   "cell_type": "markdown",
   "metadata": {},
   "source": [
    "Fourier Transform Matrix for Sampled Analog Noisy Signal Matrix"
   ]
  },
  {
   "cell_type": "code",
   "execution_count": 18,
   "metadata": {},
   "outputs": [],
   "source": [
    "def FFT(Signal_Matrix,fs):\n",
    "    # Gives Fourier Transform of Sampled Analog Noisy Signal Matrix\n",
    "    FFT_Matrix = np.fft.fft(Signal_Matrix) # /int(Signal_Matrix.shape[-1]/2)\n",
    "    freq = np.fft.fftfreq(Signal_Matrix.shape[-1])*fs\n",
    "    \n",
    "    return FFT_Matrix,freq"
   ]
  },
  {
   "cell_type": "code",
   "execution_count": 19,
   "metadata": {},
   "outputs": [
    {
     "name": "stdout",
     "output_type": "stream",
     "text": [
      "(5500, 50)\n",
      "(50,)\n"
     ]
    }
   ],
   "source": [
    "FFT_Analog_Sampled_Signal_Matrix, Freq = FFT(Analog_Sampled_Signal_Matrix,fs)\n",
    "\n",
    "print (FFT_Analog_Sampled_Signal_Matrix.shape)\n",
    "print (Freq.shape)"
   ]
  },
  {
   "cell_type": "code",
   "execution_count": 20,
   "metadata": {},
   "outputs": [
    {
     "name": "stderr",
     "output_type": "stream",
     "text": [
      "/home/krishna/Desktop/Anaconda/anaconda3/lib/python3.7/site-packages/numpy/core/_asarray.py:85: ComplexWarning: Casting complex values to real discards the imaginary part\n",
      "  return array(a, dtype, copy=False, order=order)\n",
      "/home/krishna/Desktop/Anaconda/anaconda3/lib/python3.7/site-packages/ipykernel_launcher.py:1: UserWarning: In Matplotlib 3.3 individual lines on a stem plot will be added as a LineCollection instead of individual lines. This significantly improves the performance of a stem plot. To remove this warning and switch to the new behaviour, set the \"use_line_collection\" keyword argument to True.\n",
      "  \"\"\"Entry point for launching an IPython kernel.\n"
     ]
    },
    {
     "data": {
      "image/png": "[encoded data removed]",
      "text/plain": [
       "<Figure size 432x288 with 1 Axes>"
      ]
     },
     "metadata": {
      "needs_background": "light"
     },
     "output_type": "display_data"
    }
   ],
   "source": [
    "plt.stem(Freq,FFT_Analog_Sampled_Signal_Matrix[50])\n",
    "plt.show()"
   ]
  },
  {
   "cell_type": "code",
   "execution_count": 21,
   "metadata": {},
   "outputs": [],
   "source": [
    "def IFFT(Signal_Matrix):\n",
    "    # Gives Inverse Fourier Transform of Sampled Analog Noisy Signal Matrix\n",
    "    IFFT_Matrix = np.fft.ifft(Signal_Matrix).real\n",
    "    \n",
    "    return IFFT_Matrix"
   ]
  },
  {
   "cell_type": "code",
   "execution_count": 22,
   "metadata": {},
   "outputs": [
    {
     "name": "stdout",
     "output_type": "stream",
     "text": [
      "[-0.25032952 -0.29231919  3.20617604  1.3672481   1.86247438  0.83160718\n",
      "  0.74374592  0.85272562  0.2095172  -0.34986855  1.52410666 -2.02699964\n",
      " -1.40941609  0.4311065  -0.73149003 -0.47514024 -1.77355773 -1.96569094\n",
      " -2.54293442 -1.63504418  0.30035518 -0.07223429  0.63960029  0.61239268\n",
      " -0.16759807 -0.34723304  1.48913452  2.14820261  0.5317718   3.09103856\n",
      "  1.59150968  1.87830931  0.05663885  2.0768019  -0.50098105  0.24717171\n",
      " -0.40022954 -2.06606017  0.03816081 -3.02625568 -1.02698359  0.43377592\n",
      " -2.01842189 -2.1978387  -0.56025062 -2.12789884  0.57056625 -0.46402238\n",
      " -0.78416258 -0.05984239]\n"
     ]
    }
   ],
   "source": [
    "Filtered_Signal_Matrix = IFFT(FFT_Analog_Sampled_Signal_Matrix)\n",
    "\n",
    "print (Filtered_Signal_Matrix[100])"
   ]
  },
  {
   "cell_type": "markdown",
   "metadata": {},
   "source": [
    "Filtering Signal"
   ]
  },
  {
   "cell_type": "code",
   "execution_count": 23,
   "metadata": {},
   "outputs": [],
   "source": [
    "def Low_Pass_Filtered_Matrix(Matrix,Cutoff_Freq,fs,Order=2):\n",
    "    \n",
    "    Output = np.zeros(Matrix.shape)\n",
    "    for i in range(Matrix.shape[0]):\n",
    "        w = 1 - 1e-9\n",
    "        b, a = signal.butter(8, w)\n",
    "        x = np.array(list(Matrix[i]))\n",
    "        Output[i] = signal.filtfilt(b,a, x)\n",
    "\n",
    "    return Output\n",
    "\n",
    "\n",
    "Filtered_Signal_Matrix = Low_Pass_Filtered_Matrix(Analog_Sampled_Signal_Matrix,Cutoff_Freq,fs)"
   ]
  },
  {
   "cell_type": "markdown",
   "metadata": {},
   "source": [
    "### Waveforms"
   ]
  },
  {
   "cell_type": "code",
   "execution_count": 24,
   "metadata": {},
   "outputs": [
    {
     "data": {
      "text/plain": [
       "{0: array([0, 0]), 1: array([0, 1]), 2: array([1, 0]), 3: array([1, 1])}"
      ]
     },
     "execution_count": 24,
     "metadata": {},
     "output_type": "execute_result"
    }
   ],
   "source": [
    "def Waveforms(M,fs,T,fc):\n",
    "    Waveforms = np.zeros((M,int(fs*T)))\n",
    "    a = np.array([0,0,1,1])\n",
    "    b = np.array([0,1,0,1])\n",
    "    t = np.linspace(0, T, int(fs*T),endpoint=False)\n",
    "    c = np.cos(2*np.pi*fc*t)\n",
    "    s = np.sin(2*np.pi*fc*t)\n",
    "    i = 0\n",
    "    \n",
    "    Directory = {}\n",
    "    \n",
    "    for x,y in zip(a,b):\n",
    "        Waveforms[i] = x*c +y*s\n",
    "        Directory[i] = np.array([x,y])\n",
    "        i = i+1 \n",
    "        \n",
    "    return Waveforms,Directory\n",
    "\n",
    "Waveforms,Directory = Waveforms(M,fs,T,fc)\n",
    "Directory\n",
    "        "
   ]
  },
  {
   "cell_type": "markdown",
   "metadata": {},
   "source": [
    "### Decode"
   ]
  },
  {
   "cell_type": "code",
   "execution_count": 25,
   "metadata": {},
   "outputs": [],
   "source": [
    "def Decode(Signal_Matrix,Waveforms,Directory,M):\n",
    "    Index = np.zeros((Signal_Matrix.shape[0],2))\n",
    "    Error = np.random.rand(M)\n",
    "\n",
    "    for i in range(Signal_Matrix.shape[0]):\n",
    "        \n",
    "        for j in range(M):\n",
    "            Error[j] = mean_squared_error(Signal_Matrix[i],Waveforms[j])\n",
    "            \n",
    "        x = np.argmin(Error)\n",
    "        Index[i] = np.array(Directory[x])\n",
    "        \n",
    "    Output = Index.flatten()\n",
    "    \n",
    "    return Output.astype(int)\n",
    "  \n",
    "Decoded_Array = Decode(Filtered_Signal_Matrix,Waveforms,Directory,M)"
   ]
  },
  {
   "cell_type": "code",
   "execution_count": 26,
   "metadata": {},
   "outputs": [],
   "source": [
    "Img = Decoded_Array.reshape(110,100)\n",
    "Error_Bits = np.sum(np.abs(Decoded_Array - Digital_Signal))"
   ]
  },
  {
   "cell_type": "code",
   "execution_count": 27,
   "metadata": {},
   "outputs": [
    {
     "data": {
      "image/png": "[encoded data removed]",
      "text/plain": [
       "<Figure size 432x288 with 1 Axes>"
      ]
     },
     "metadata": {
      "needs_background": "light"
     },
     "output_type": "display_data"
    }
   ],
   "source": [
    "plt.imshow(Img,'gray')\n",
    "plt.show()"
   ]
  },
  {
   "cell_type": "code",
   "execution_count": 30,
   "metadata": {},
   "outputs": [
    {
     "name": "stdout",
     "output_type": "stream",
     "text": [
      "Percentage of Error is 0.6 %\n"
     ]
    }
   ],
   "source": [
    "Percentage_of_Error = Error_Bits  * 100/(Decoded_Array.shape[0])\n",
    "print (\"Percentage of Error is\",Percentage_of_Error,\"%\")"
   ]
  },
  {
   "cell_type": "code",
   "execution_count": 29,
   "metadata": {},
   "outputs": [
    {
     "data": {
      "text/plain": [
       "0.3227793899924497"
      ]
     },
     "execution_count": 29,
     "metadata": {},
     "output_type": "execute_result"
    }
   ],
   "source": [
    "scipy.stats.norm(0, 1).cdf(-np.sqrt(2*Ratio))"
   ]
  }
 ],
 "metadata": {
  "kernelspec": {
   "display_name": "Python 3",
   "language": "python",
   "name": "python3"
  },
  "language_info": {
   "codemirror_mode": {
    "name": "ipython",
    "version": 3
   },
   "file_extension": ".py",
   "mimetype": "text/x-python",
   "name": "python",
   "nbconvert_exporter": "python",
   "pygments_lexer": "ipython3",
   "version": "3.7.4"
  }
 },
 "nbformat": 4,
 "nbformat_minor": 2
}
