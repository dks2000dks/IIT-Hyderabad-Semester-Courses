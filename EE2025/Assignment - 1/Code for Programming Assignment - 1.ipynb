{
 "cells": [
  {
   "cell_type": "markdown",
   "metadata": {},
   "source": [
    "<h1><center> <i>EE2025 Independent Project</i><br/><br/>\n",
    "<font size=\"4\"><i>Programming Assignment - 1<i></font></center></h1>"
   ]
  },
  {
   "cell_type": "code",
   "execution_count": 1,
   "metadata": {},
   "outputs": [
    {
     "data": {
      "text/html": [
       "<style>.container { width:90% !important; }</style>"
      ],
      "text/plain": [
       "<IPython.core.display.HTML object>"
      ]
     },
     "metadata": {},
     "output_type": "display_data"
    }
   ],
   "source": [
    "# Setting the width of IPython Notebook\n",
    "\n",
    "from IPython.display import HTML\n",
    "display(HTML(\"<style>.container { width:90% !important; }</style>\"))"
   ]
  },
  {
   "cell_type": "markdown",
   "metadata": {},
   "source": [
    "### *Importing Libraries*"
   ]
  },
  {
   "cell_type": "code",
   "execution_count": 2,
   "metadata": {},
   "outputs": [],
   "source": [
    "import numpy as np\n",
    "import matplotlib.pyplot as plt\n",
    "import scipy\n",
    "\n",
    "%matplotlib inline"
   ]
  },
  {
   "cell_type": "markdown",
   "metadata": {},
   "source": [
    "### *Binary Image*"
   ]
  },
  {
   "cell_type": "markdown",
   "metadata": {},
   "source": [
    "Importing Binary Image file"
   ]
  },
  {
   "cell_type": "code",
   "execution_count": 3,
   "metadata": {},
   "outputs": [],
   "source": [
    "MonaLisa = np.load('binary_image.npy')"
   ]
  },
  {
   "cell_type": "markdown",
   "metadata": {},
   "source": [
    "Displaying Image"
   ]
  },
  {
   "cell_type": "code",
   "execution_count": 4,
   "metadata": {},
   "outputs": [
    {
     "data": {
      "image/png": "[encoded data removed]",
      "text/plain": [
       "<Figure size 432x288 with 1 Axes>"
      ]
     },
     "metadata": {
      "needs_background": "light"
     },
     "output_type": "display_data"
    }
   ],
   "source": [
    "plt.imshow(MonaLisa,'gray')\n",
    "plt.show()"
   ]
  },
  {
   "cell_type": "code",
   "execution_count": 5,
   "metadata": {},
   "outputs": [],
   "source": [
    "Digital_Signal = MonaLisa.reshape(1,-1)"
   ]
  },
  {
   "cell_type": "markdown",
   "metadata": {},
   "source": [
    "### *Setting Modulation Scheme*"
   ]
  },
  {
   "cell_type": "markdown",
   "metadata": {},
   "source": [
    "Carrier Frequency = 2 MHz\n",
    "Symbol Duration T = 1μ sec.\n",
    "\n",
    "$s(t)=x_{2 i-1} \\cos \\left(2 \\pi f_{c} t\\right)+x_{2 i} \\sin \\left(2 \\pi f_{c} t\\right),$ for $(i-1) T \\leq t<i T$"
   ]
  },
  {
   "cell_type": "code",
   "execution_count": 34,
   "metadata": {},
   "outputs": [],
   "source": [
    "fc = 2 * 1e6\n",
    "T = 1e-6\n",
    "samples = 1000"
   ]
  },
  {
   "cell_type": "code",
   "execution_count": 46,
   "metadata": {},
   "outputs": [],
   "source": [
    "def Analog_Signal_Generator(a,b,i,samples,T,fc):\n",
    "    # Generates s(t) for the given input of 2 bits\n",
    "    t = np.linspace((i-1)*T, i*T, samples)\n",
    "    c = np.cos(2*np.pi*fc*t)\n",
    "    s = np.sin(2*np.pi*fc*t)\n",
    "    output = a*c + b*s\n",
    "    \n",
    "    return output"
   ]
  },
  {
   "cell_type": "code",
   "execution_count": 47,
   "metadata": {},
   "outputs": [],
   "source": [
    "def WGN(Variance,samples):\n",
    "    # Generates White Gaussian Noise\n",
    "    mu = 0\n",
    "    sigma = np.sqrt(Variance)\n",
    "    output = np.random.normal(mu, sigma, samples)\n",
    "    \n",
    "    return output\n",
    "\n",
    "output = WGN(2,1000)"
   ]
  },
  {
   "cell_type": "code",
   "execution_count": 48,
   "metadata": {},
   "outputs": [],
   "source": [
    "def Analog_Matrix(Digital_Signal,samples,T,fc):\n",
    "    # Outputs a matrix of all Transmitted Signals\n",
    "    s = int(Digital_Signal.shape[1]/2)\n",
    "    output = np.zeros((s,samples))\n",
    "    \n",
    "    for i in range(s):\n",
    "        # output[:,i] = np.transpose\n",
    "        a = Digital_Signal[0][2*i]\n",
    "        b = Digital_Signal[0][2*i + 1]\n",
    "        output[i] = Analog_Signal_Generator(a,b,i+1,samples,T,fc)\n",
    "        \n",
    "    return output\n",
    "\n",
    "Analog_Signal_Matrix = Analog_Matrix(Digital_Signal,samples,T,fc)"
   ]
  },
  {
   "cell_type": "code",
   "execution_count": 45,
   "metadata": {},
   "outputs": [],
   "source": [
    "Analog_Noise_Signal_Matrix = Analog_Signal_Matrix + WGN(1,samples)"
   ]
  },
  {
   "cell_type": "code",
   "execution_count": 56,
   "metadata": {},
   "outputs": [
    {
     "name": "stdout",
     "output_type": "stream",
     "text": [
      "[[ 1  4  9]\n",
      " [ 9 16 25]]\n",
      "[ 4.66666667 16.66666667]\n"
     ]
    }
   ],
   "source": [
    "def Energy_Signal_Matrix(signal_matrix):\n",
    "    \n",
    "    s = signal_matrix.shape[1]\n",
    "    \n",
    "    output = np.multiply(signal_matrix,signal_matrix)\n",
    "    output = np.sum(output,axis=1)\n",
    "    output = output/s\n",
    "    print (output)\n",
    "    \n",
    "A = np.array([[1, 2, 3], [3, 4, 5]])\n",
    "Energy_Signal_Matrix(A)"
   ]
  },
  {
   "cell_type": "code",
   "execution_count": null,
   "metadata": {},
   "outputs": [],
   "source": []
  }
 ],
 "metadata": {
  "kernelspec": {
   "display_name": "Python 3",
   "language": "python",
   "name": "python3"
  },
  "language_info": {
   "codemirror_mode": {
    "name": "ipython",
    "version": 3
   },
   "file_extension": ".py",
   "mimetype": "text/x-python",
   "name": "python",
   "nbconvert_exporter": "python",
   "pygments_lexer": "ipython3",
   "version": "3.7.4"
  }
 },
 "nbformat": 4,
 "nbformat_minor": 2
}
